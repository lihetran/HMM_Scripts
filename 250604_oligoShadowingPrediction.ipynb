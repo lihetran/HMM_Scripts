{
 "cells": [
  {
   "cell_type": "code",
   "execution_count": 14,
   "id": "51a243f9",
   "metadata": {},
   "outputs": [],
   "source": [
    "import pysam\n",
    "import matplotlib.pyplot as plt\n",
    "import numpy as np\n",
    "import pandas as pd\n",
    "import seaborn as sns\n",
    "from pathlib import Path\n",
    "from icecream import ic\n",
    "from Bio import SeqIO\n",
    "from collections import defaultdict\n",
    "from icecream import ic"
   ]
  },
  {
   "cell_type": "markdown",
   "id": "624f4863",
   "metadata": {},
   "source": [
    "# I now have a dataset that I can train an HMM on, let's see how it goes!"
   ]
  },
  {
   "cell_type": "markdown",
   "id": "842745a6",
   "metadata": {},
   "source": [
    "### Load Data"
   ]
  },
  {
   "cell_type": "code",
   "execution_count": 5,
   "id": "f8b422a6",
   "metadata": {},
   "outputs": [
    {
     "name": "stdout",
     "output_type": "stream",
     "text": [
      "All files exist\n"
     ]
    }
   ],
   "source": [
    "\n",
    "project_dir = Path('/data16/liam/working/data/alignments/250509_JANP-112_LT/')\n",
    "\n",
    "bam = project_dir / '250509_JANP-112_LT.AtoG.sorted.bam'\n",
    "\n",
    "both_bam = project_dir / 'demultiplexed_bams/bc6.bam' # both\n",
    "oligo1_bam = project_dir / 'demultiplexed_bams/bc5.bam' # oligo1\n",
    "oligo2_bam = project_dir / 'demultiplexed_bams/bc4.bam' # no ribosome\n",
    "noOligo_bam = project_dir / 'demultiplexed_bams/bc3.bam' # time zero\n",
    "\n",
    "merged_bam = project_dir / 'demultiplexed_bams/merged_barcodes.bam'\n",
    "figures_dir = project_dir / 'figures'\n",
    "\n",
    "out_dir = Path('/data16/liam/working/data/alignments/250509_JANP-112_LT/demultiplexed_bams/')\n",
    "contig_pos_map = Path('/data16/liam/genomes/250401_translationSubstrate_pos_map.tsv')\n",
    "\n",
    "reference = Path('/data16/liam/genomes/250401_dCDNA_translationSubstrates.fa')\n",
    "assert reference.exists()\n",
    "assert bam.exists()\n",
    "assert out_dir.exists()\n",
    "assert contig_pos_map.exists()\n",
    "\n",
    "print('All files exist')"
   ]
  },
  {
   "cell_type": "code",
   "execution_count": 6,
   "id": "b73da233",
   "metadata": {},
   "outputs": [],
   "source": [
    "ref_dict = SeqIO.to_dict(SeqIO.parse(reference, 'fasta'))\n",
    "ref_seq = str(ref_dict['nanoluc_translatable'].seq)"
   ]
  },
  {
   "cell_type": "code",
   "execution_count": 11,
   "id": "9450d4fa",
   "metadata": {},
   "outputs": [],
   "source": [
    "# first lets get every read, identify edits, and convert the reads to binary strings. We'll want to do this by alignment\n",
    "def get_binary_edit_string(bam, ref_sequence, chrom):\n",
    "    '''\n",
    "    For every read in a bam, this function will extract a binary string of A-G mismatches between the reference sequence and the read sequence.\n",
    "\n",
    "    input: bam - path to the bam file\n",
    "              ref_sequence - reference sequence\n",
    "              aligned_pairs - list of aligned pairs\n",
    "              start - start position of the region to extract\n",
    "              end - end position of the region to extract\n",
    "    output: dictionary with keys as the read names and values as the binary strings\n",
    "    '''\n",
    "    read_dict = {}\n",
    "    for read in pysam.AlignmentFile(bam, \"rb\").fetch(chrom):\n",
    "        read_dict = {}\n",
    "        if not read.is_unmapped:\n",
    "            read_seq = read.query_sequence.upper()\n",
    "            ref_seq = ref_sequence.upper()\n",
    "            aligned_pairs = read.get_aligned_pairs(matches_only=True)\n",
    "            edits = []\n",
    "            read_string = []\n",
    "            ref_string = []\n",
    "            barcode = read.get_tag('cI')\n",
    "\n",
    "            for read_pos, ref_pos in aligned_pairs:\n",
    "                if ref_pos is not None and read_pos is not None:\n",
    "                    if ref_seq[ref_pos] == 'A' and read_seq[read_pos] == 'G':\n",
    "                        edits.append(0.97)\n",
    "                        read_string.append(read_seq[read_pos])\n",
    "                        ref_string.append(ref_seq[ref_pos])\n",
    "                    elif ref_seq[ref_pos] == 'A' and read_seq[read_pos] == 'A':\n",
    "                        edits.append(0.03)\n",
    "                        read_string.append(read_seq[read_pos])\n",
    "                        ref_string.append(ref_seq[ref_pos])\n",
    "                    else:\n",
    "                        edits.append(0)\n",
    "                        read_string.append(read_seq[read_pos])\n",
    "                        ref_string.append(ref_seq[ref_pos])\n",
    "            # convert the list of edits to a binary string\n",
    "            # edit_string = ''.join(str(i) for i in edits)\n",
    "            edits = np.array(edits)\n",
    "            read_string = ''.join(str(i) for i in read_string)\n",
    "            ref_string = ''.join(str(i) for i in ref_string)\n",
    "            # print(read_string)\n",
    "            # print(edit_string)\n",
    "            # print(ref_string)\n",
    "            # yield read.query_name, edit_string\n",
    "            read_dict[read.query_name] = {\n",
    "                'edits': edits,\n",
    "                'read_string': ''.join(read_string),\n",
    "                'ref_string': ''.join(ref_string),\n",
    "                'start': read.reference_start,\n",
    "                'end': read.reference_end,\n",
    "                'barcode': barcode\n",
    "            }\n",
    "            \n",
    "            \n",
    "    return read_dict\n",
    "    \n"
   ]
  },
  {
   "cell_type": "code",
   "execution_count": 12,
   "id": "86e69ab4",
   "metadata": {},
   "outputs": [],
   "source": [
    "read_dict = get_binary_edit_string(merged_bam, str(ref_seq), 'nanoluc_translatable')"
   ]
  },
  {
   "cell_type": "markdown",
   "id": "fe90a935",
   "metadata": {},
   "source": [
    "### Cool, we now have a dictionary with read info, edit strings, and a barcode. These barcodes can serve as a ground truth\n",
    "### Now we need to compute the score distribution. In Wang et al. they did this using the squiggles and a probability of a modification being real. I'm using A-G mismatches. In the past, this mismatch frequency was ~3% on non-edited reads"
   ]
  },
  {
   "cell_type": "markdown",
   "id": "7de448fe",
   "metadata": {},
   "source": [
    "# HMM Functions"
   ]
  },
  {
   "cell_type": "code",
   "execution_count": 15,
   "id": "a2a7b320",
   "metadata": {},
   "outputs": [],
   "source": [
    "class Modification:\n",
    "    '''\n",
    "    Class to represent a modification\n",
    "    '''\n",
    "    def __init__(self, position, calling):\n",
    "        self.position = position\n",
    "        self.calling = calling\n",
    "\n",
    "class BED:\n",
    "    '''\n",
    "    Class to represent an entry in a BED file\n",
    "    '''\n",
    "    def __init__(self, chro, start, end, quality, strand):\n",
    "        self.chro = chro\n",
    "        self.start = start\n",
    "        self.end = end\n",
    "        self.quality = quality\n",
    "        self.strand = strand"
   ]
  },
  {
   "cell_type": "code",
   "execution_count": 9,
   "id": "ede9ed59",
   "metadata": {},
   "outputs": [],
   "source": [
    "def make_calling_vector(mod_list, read_length):\n",
    "    calling_vec = [-1] * (read_length + 1)\n",
    "\n",
    "    for m in mod_list:\n",
    "        position = m.position\n",
    "        calling = m.calling\n",
    "        if 0 <= position <= read_length:\n",
    "            calling_vec[position] = calling\n",
    "\n",
    "    return calling_vec"
   ]
  },
  {
   "cell_type": "code",
   "execution_count": 16,
   "id": "7aaf66cc",
   "metadata": {},
   "outputs": [],
   "source": [
    "scores = {}\n",
    "\n",
    "for read in read_dict:\n",
    "    read_info = read_dict[read]\n",
    "    edit_string = read_info['edits']\n",
    "    read_length = len(edit_string)\n",
    "    s = [float(i) for i in edit_string]\n",
    "    scores[read] = s\n"
   ]
  },
  {
   "cell_type": "code",
   "execution_count": 17,
   "id": "cdfc864b",
   "metadata": {},
   "outputs": [
    {
     "data": {
      "text/plain": [
       "[<matplotlib.lines.Line2D at 0x7f11ef262a90>]"
      ]
     },
     "execution_count": 17,
     "metadata": {},
     "output_type": "execute_result"
    },
    {
     "data": {
      "image/png": "[encoded data removed]",
      "text/plain": [
       "<Figure size 640x480 with 1 Axes>"
      ]
     },
     "metadata": {},
     "output_type": "display_data"
    }
   ],
   "source": [
    "# plot score distribution \n",
    "import matplotlib.pyplot as plt\n",
    "from scipy.stats import gaussian_kde\n",
    "from numpy import linspace\n",
    "\n",
    "score_list = []\n",
    "for read, score in scores.items():\n",
    "    score_list += score\n",
    "\n",
    "score_list = np.array(score_list)\n",
    "kde = gaussian_kde(score_list)\n",
    "\n",
    "\n",
    "\n",
    "dist_space = linspace( 0, 1, 1000 )\n",
    "\n",
    "plt.plot( dist_space, kde(dist_space) )"
   ]
  },
  {
   "cell_type": "code",
   "execution_count": 18,
   "id": "09210d5f",
   "metadata": {},
   "outputs": [
    {
     "name": "stdout",
     "output_type": "stream",
     "text": [
      "1000\n"
     ]
    }
   ],
   "source": [
    "# vectorize kde function\n",
    "vector = kde(dist_space)\n",
    "print(len(vector))"
   ]
  },
  {
   "cell_type": "code",
   "execution_count": 19,
   "id": "7b58fbe7",
   "metadata": {},
   "outputs": [],
   "source": [
    "# write vector to file\n",
    "with open('/data16/liam/testing/250604_JANP-112_kde_vector.txt', 'w') as f:\n",
    "    for i in vector:\n",
    "        f.write(str(i) + '\\n')"
   ]
  },
  {
   "cell_type": "markdown",
   "id": "3f88faa3",
   "metadata": {},
   "source": [
    "### Score Distribution of Tad Accessible/Unaccessible Regions\n",
    "#### with lower editing rates, the HMM tends to overpredict shadows. One idea we have is to introduce a tad accessibility score for kmers. This will enable us to enable multiple paths that we can iterate through with dynamic programming/backtracking algorithms to find the optimal path of shadows.\n",
    "#### in real data, the accessibility score will likely be a measurement of base editor sequence preference, number of A's in kmer, and number of edits in kmer (in shadowless data)\n",
    "#### in simulated data, I will just use number of As in kmer"
   ]
  },
  {
   "cell_type": "code",
   "execution_count": null,
   "id": "f6660f63",
   "metadata": {},
   "outputs": [],
   "source": [
    "# need to compute 3mer sequence bias\n"
   ]
  },
  {
   "cell_type": "code",
   "execution_count": null,
   "id": "4e62622b",
   "metadata": {},
   "outputs": [],
   "source": [
    "# reads = '/data16/liam/testing/HMM_test_data_AC50.txt'\n",
    "reads = '/data16/liam/testing/HMM_test_data_20.txt'\n",
    "tad_access_scores = {}\n",
    "\n",
    "# mod_map, read_dict = build_modification_map2(f)\n",
    "for read in read_dict:\n",
    "    query_seq = read_dict[read]['read_string']\n",
    "    ref_seq = read_dict[read]['ref_string']\n",
    "    kmer_dict = {}\n",
    "    for i in range(len(read_dict[read][0])-6):\n",
    "        kmer = read_dict[read][0][i:i+6]\n",
    "        # count number of A's in kmer\n",
    "        num_A = 0\n",
    "        for base in range(len(kmer)):\n",
    "            if i + base in read_dict[read][2]:\n",
    "                num_A += 1\n",
    "\n",
    "        # calculate TAD access score\n",
    "        tad_access_score = num_A / len(kmer)\n",
    "        # calculate TAD inaccess score\n",
    "        tad_inaccess_score = (len(kmer) - num_A) / len(kmer) \n",
    "\n",
    "        # kmer_name = ''.join(str(i) for i in kmer)\n",
    "        kmer_name = str(i) + '_' + str(i+6)\n",
    "        if kmer_name not in kmer_dict:\n",
    "            kmer_dict[kmer_name] = (tad_access_score, tad_inaccess_score)\n",
    "        # else:\n",
    "        #     kmer_dict[kmer_name] = (kmer_dict[kmer_name][0] * tad_access_score, kmer_dict[kmer_name][1] * tad_inaccess_score)\n",
    "\n",
    "    tad_access_scores[read] = kmer_dict"
   ]
  }
 ],
 "metadata": {
  "kernelspec": {
   "display_name": "Python 3",
   "language": "python",
   "name": "python3"
  },
  "language_info": {
   "codemirror_mode": {
    "name": "ipython",
    "version": 3
   },
   "file_extension": ".py",
   "mimetype": "text/x-python",
   "name": "python",
   "nbconvert_exporter": "python",
   "pygments_lexer": "ipython3",
   "version": "3.11.0"
  }
 },
 "nbformat": 4,
 "nbformat_minor": 5
}
