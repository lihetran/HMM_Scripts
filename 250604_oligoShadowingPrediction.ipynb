{
 "cells": [
  {
   "cell_type": "code",
   "execution_count": 33,
   "id": "51a243f9",
   "metadata": {},
   "outputs": [],
   "source": [
    "import pysam\n",
    "import matplotlib.pyplot as plt\n",
    "import numpy as np\n",
    "import pandas as pd\n",
    "import seaborn as sns\n",
    "from pathlib import Path\n",
    "from icecream import ic\n",
    "from Bio import SeqIO\n",
    "from collections import defaultdict\n",
    "from icecream import ic"
   ]
  },
  {
   "cell_type": "markdown",
   "id": "624f4863",
   "metadata": {},
   "source": [
    "# I now have a dataset that I can train an HMM on, let's see how it goes!"
   ]
  },
  {
   "cell_type": "markdown",
   "id": "842745a6",
   "metadata": {},
   "source": [
    "### Load Data"
   ]
  },
  {
   "cell_type": "code",
   "execution_count": 53,
   "id": "f8b422a6",
   "metadata": {},
   "outputs": [
    {
     "name": "stdout",
     "output_type": "stream",
     "text": [
      "All files exist\n"
     ]
    }
   ],
   "source": [
    "\n",
    "project_dir = Path('/data16/liam/working/data/alignments/250509_JANP-112_LT/')\n",
    "\n",
    "bam = project_dir / '250509_JANP-112_LT.AtoG.sorted.bam'\n",
    "\n",
    "both_bam = project_dir / 'demultiplexed_bams/bc6.bam' # both\n",
    "oligo1_bam = project_dir / 'demultiplexed_bams/bc5.bam' # oligo1\n",
    "oligo2_bam = project_dir / 'demultiplexed_bams/bc4.bam' # no ribosome\n",
    "noOligo_bam = project_dir / 'demultiplexed_bams/bc3.bam' # time zero\n",
    "\n",
    "merged_bam = project_dir / 'demultiplexed_bams/merged_barcodes.bam'\n",
    "figures_dir = project_dir / 'figures'\n",
    "\n",
    "out_dir = Path('/data16/liam/working/data/alignments/250509_JANP-112_LT/demultiplexed_bams/')\n",
    "contig_pos_map = Path('/data16/liam/genomes/250401_translationSubstrate_pos_map.tsv')\n",
    "\n",
    "reference = Path('/data16/liam/genomes/250401_dCDNA_translationSubstrates.fa')\n",
    "assert reference.exists()\n",
    "assert bam.exists()\n",
    "assert out_dir.exists()\n",
    "assert contig_pos_map.exists()\n",
    "\n",
    "print('All files exist')"
   ]
  },
  {
   "cell_type": "code",
   "execution_count": 54,
   "id": "b73da233",
   "metadata": {},
   "outputs": [],
   "source": [
    "ref_dict = SeqIO.to_dict(SeqIO.parse(reference, 'fasta'))\n",
    "ref_seq = str(ref_dict['nanoluc_translatable'].seq)"
   ]
  },
  {
   "cell_type": "code",
   "execution_count": 55,
   "id": "9450d4fa",
   "metadata": {},
   "outputs": [],
   "source": [
    "# first lets get every read, identify edits, and convert the reads to binary strings. We'll want to do this by alignment\n",
    "def get_binary_edit_string(bam, ref_sequence, chrom):\n",
    "    '''\n",
    "    For every read in a bam, this function will extract a binary string of A-G mismatches between the reference sequence and the read sequence.\n",
    "\n",
    "    input: bam - path to the bam file\n",
    "              ref_sequence - reference sequence\n",
    "              aligned_pairs - list of aligned pairs\n",
    "              start - start position of the region to extract\n",
    "              end - end position of the region to extract\n",
    "    output: dictionary with keys as the read names and values as the binary strings\n",
    "    '''\n",
    "    read_dict = {}\n",
    "    for read in pysam.AlignmentFile(bam, \"rb\").fetch(chrom):\n",
    "        \n",
    "        if not read.is_unmapped:\n",
    "            read_seq = read.query_sequence.upper()\n",
    "            ref_seq = ref_sequence.upper()\n",
    "            aligned_pairs = read.get_aligned_pairs()\n",
    "            edits = []\n",
    "            read_string = []\n",
    "            ref_string = []\n",
    "            barcode = read.get_tag('cI')\n",
    "\n",
    "            for read_pos, ref_pos in aligned_pairs:\n",
    "                if ref_pos is not None and read_pos is not None:\n",
    "                    if ref_seq[ref_pos] == 'A' and read_seq[read_pos] == 'G':\n",
    "                        edits.append(0.97)\n",
    "                        read_string.append(read_seq[read_pos])\n",
    "                        ref_string.append(ref_seq[ref_pos])\n",
    "                    elif ref_seq[ref_pos] == 'A' and read_seq[read_pos] == 'A':\n",
    "                        edits.append(0.03)\n",
    "                        read_string.append(read_seq[read_pos])\n",
    "                        ref_string.append(ref_seq[ref_pos])\n",
    "                    else:\n",
    "                        edits.append(0)\n",
    "                        read_string.append(read_seq[read_pos])\n",
    "                        ref_string.append(ref_seq[ref_pos])\n",
    "            # convert the list of edits to a binary string\n",
    "            # edit_string = ''.join(str(i) for i in edits)\n",
    "            edits = np.array(edits)\n",
    "            read_string = ''.join(str(i) for i in read_string)\n",
    "            ref_string = ''.join(str(i) for i in ref_string)\n",
    "            # print(read_string)\n",
    "            # print(edit_string)\n",
    "            # print(ref_string)\n",
    "            # yield read.query_name, edit_string\n",
    "            read_dict[read.query_name] = {\n",
    "                'edits': edits,\n",
    "                'read_string': ''.join(read_string),\n",
    "                'ref_string': ''.join(ref_string),\n",
    "                'start': read.reference_start,\n",
    "                'end': read.reference_end,\n",
    "                'barcode': barcode\n",
    "            }\n",
    "            \n",
    "            \n",
    "    return read_dict\n",
    "    \n"
   ]
  },
  {
   "cell_type": "code",
   "execution_count": 56,
   "id": "86e69ab4",
   "metadata": {},
   "outputs": [],
   "source": [
    "read_dict = get_binary_edit_string(merged_bam, str(ref_seq), 'nanoluc_translatable')"
   ]
  },
  {
   "cell_type": "markdown",
   "id": "fe90a935",
   "metadata": {},
   "source": [
    "### Cool, we now have a dictionary with read info, edit strings, and a barcode. These barcodes can serve as a ground truth\n",
    "### Now we need to compute the score distribution. In Wang et al. they did this using the squiggles and a probability of a modification being real. I'm using A-G mismatches. In the past, this mismatch frequency was ~3% on non-edited reads"
   ]
  },
  {
   "cell_type": "markdown",
   "id": "7de448fe",
   "metadata": {},
   "source": [
    "# HMM Functions"
   ]
  },
  {
   "cell_type": "code",
   "execution_count": 44,
   "id": "a2a7b320",
   "metadata": {},
   "outputs": [],
   "source": [
    "class Modification:\n",
    "    '''\n",
    "    Class to represent a modification\n",
    "    '''\n",
    "    def __init__(self, position, calling):\n",
    "        self.position = position\n",
    "        self.calling = calling\n",
    "\n",
    "class BED:\n",
    "    '''\n",
    "    Class to represent an entry in a BED file\n",
    "    '''\n",
    "    def __init__(self, chro, start, end, quality, strand):\n",
    "        self.chro = chro\n",
    "        self.start = start\n",
    "        self.end = end\n",
    "        self.quality = quality\n",
    "        self.strand = strand"
   ]
  },
  {
   "cell_type": "code",
   "execution_count": 45,
   "id": "ede9ed59",
   "metadata": {},
   "outputs": [],
   "source": [
    "def make_calling_vector(mod_list, read_length):\n",
    "    calling_vec = [-1] * (read_length + 1)\n",
    "\n",
    "    for m in mod_list:\n",
    "        position = m.position\n",
    "        calling = m.calling\n",
    "        if 0 <= position <= read_length:\n",
    "            calling_vec[position] = calling\n",
    "\n",
    "    return calling_vec"
   ]
  },
  {
   "cell_type": "code",
   "execution_count": 46,
   "id": "7aaf66cc",
   "metadata": {},
   "outputs": [],
   "source": [
    "scores = {}\n",
    "\n",
    "for read in read_dict:\n",
    "    read_info = read_dict[read]\n",
    "    edit_string = read_info['edits']\n",
    "    read_length = len(edit_string)\n",
    "    s = [float(i) for i in edit_string]\n",
    "    scores[read] = s\n"
   ]
  },
  {
   "cell_type": "code",
   "execution_count": 47,
   "id": "cdfc864b",
   "metadata": {},
   "outputs": [
    {
     "data": {
      "text/plain": [
       "[<matplotlib.lines.Line2D at 0x7fb5114084d0>]"
      ]
     },
     "execution_count": 47,
     "metadata": {},
     "output_type": "execute_result"
    },
    {
     "data": {
      "image/png": "[encoded data removed]",
      "text/plain": [
       "<Figure size 640x480 with 1 Axes>"
      ]
     },
     "metadata": {},
     "output_type": "display_data"
    }
   ],
   "source": [
    "# plot score distribution \n",
    "import matplotlib.pyplot as plt\n",
    "from scipy.stats import gaussian_kde\n",
    "from numpy import linspace\n",
    "\n",
    "score_list = []\n",
    "for read, score in scores.items():\n",
    "    score_list += score\n",
    "\n",
    "score_list = np.array(score_list)\n",
    "kde = gaussian_kde(score_list)\n",
    "\n",
    "\n",
    "\n",
    "dist_space = linspace( 0, 1, 1000 )\n",
    "\n",
    "plt.plot( dist_space, kde(dist_space) )"
   ]
  },
  {
   "cell_type": "code",
   "execution_count": 19,
   "id": "09210d5f",
   "metadata": {},
   "outputs": [
    {
     "name": "stdout",
     "output_type": "stream",
     "text": [
      "1000\n"
     ]
    }
   ],
   "source": [
    "# vectorize kde function\n",
    "vector = kde(dist_space)\n",
    "print(len(vector))"
   ]
  },
  {
   "cell_type": "code",
   "execution_count": 20,
   "id": "7b58fbe7",
   "metadata": {},
   "outputs": [],
   "source": [
    "# write vector to file\n",
    "with open('/data16/liam/testing/250604_JANP-112_kde_vector.txt', 'w') as f:\n",
    "    for i in vector:\n",
    "        f.write(str(i) + '\\n')"
   ]
  },
  {
   "cell_type": "markdown",
   "id": "3f88faa3",
   "metadata": {},
   "source": [
    "### Score Distribution of Tad Accessible/Unaccessible Regions\n",
    "#### with lower editing rates, the HMM tends to overpredict shadows. One idea we have is to introduce a tad accessibility score for kmers. This will enable us to enable multiple paths that we can iterate through with dynamic programming/backtracking algorithms to find the optimal path of shadows.\n",
    "#### in real data, the accessibility score will likely be a measurement of base editor sequence preference, number of A's in kmer, and number of edits in kmer (in shadowless data)\n",
    "#### in simulated data, I will just use number of As in kmer"
   ]
  },
  {
   "cell_type": "code",
   "execution_count": 63,
   "id": "f6660f63",
   "metadata": {},
   "outputs": [],
   "source": [
    "# need to compute 3mer sequence bias\n",
    "import matplotlib.pyplot as plt\n",
    "import numpy as np\n",
    "import pandas as pd\n",
    "import seaborn as sns\n",
    "import sys\n",
    "import pysam\n",
    "from Bio import SeqIO\n",
    "\n",
    "def ParseCigar_minusFeature(read_seq, ref_seq, cigar, ref_start, ref_end, q_st, q_en):\n",
    "    import re\n",
    "    parsed_cigar = re.findall(rf'(\\d+)([MDNSIX])', cigar)\n",
    "    parsed_cigar = [(int(num), char) for num, char in parsed_cigar]\n",
    "    ref_seq = ref_seq[int(ref_start):int(ref_end)].upper()\n",
    "    ref_pos = 0\n",
    "    read_seq = read_seq[int(q_st):int(q_en)].upper()\n",
    "    read_pos = 0\n",
    "\n",
    "    top_line = \"\"\n",
    "    middle_line = \"\"\n",
    "    bottom_line = \"\"\n",
    "    \n",
    "    for length, code in parsed_cigar:\n",
    "        if code == \"M\":  # Map (Read & Ref Match)\n",
    "            read_map_piece = read_seq[read_pos:read_pos + length]\n",
    "            ref_map_piece = ref_seq[ref_pos:ref_pos + length]\n",
    "            perfect_matches = \"\"\n",
    "            for index, char in enumerate(read_map_piece):\n",
    "                try:\n",
    "                    if char == ref_map_piece[index]:\n",
    "                        perfect_matches += \"|\"\n",
    "                    else:\n",
    "                        perfect_matches += \"•\"\n",
    "                except IndexError:\n",
    "                    perfect_matches += \" \"\n",
    "            top_line += read_map_piece\n",
    "            middle_line += perfect_matches\n",
    "            bottom_line += ref_map_piece\n",
    "            ref_pos += length\n",
    "            read_pos += length\n",
    "\n",
    "        elif code == \"I\":  # Insert (Gap in Ref)\n",
    "            top_line += read_seq[read_pos:read_pos + length]\n",
    "            middle_line += \" \" * length\n",
    "            bottom_line += \" \" * length\n",
    "            read_pos += length\n",
    "\n",
    "        elif code == \"D\" or code == \"N\":  # Delete (Gap in Read)\n",
    "            top_line += \" \" * length\n",
    "            middle_line += \" \" * length\n",
    "            bottom_line += ref_seq[ref_pos:ref_pos + length]\n",
    "            ref_pos += length\n",
    "\n",
    "    return top_line, middle_line, bottom_line\n",
    "\n",
    "def FindMods(read_line, match_line, ref_line, strand:bool):\n",
    "    modList = []\n",
    "    if strand == True: #reads are reverse complemented and mutated from A-G\n",
    "        for i in range(len(read_line)):\n",
    "            if read_line[i] == 'G' and ref_line[i] == 'A':  \n",
    "                modList.append(1)\n",
    "            else:\n",
    "                modList.append(0)\n",
    "    return modList\n",
    "                \n",
    "def get_3mers(ref_line, modList):\n",
    "    # Initialize Dictionary of 3mers to hold edit counts\n",
    "    L_bases = [\"A\", \"C\", \"G\", \"T\"]\n",
    "    L_substitutions = [base1+'A'+base2 for base1 in L_bases for base2 in L_bases]\n",
    "    three_mer_dict = {}\n",
    "    for substitution in L_substitutions:\n",
    "        three_mer_dict[substitution] = [0,0] # [numEdits at 3mer, num 3mers in region]\n",
    "    \n",
    "    for i in range(len(ref_line)-3):\n",
    "        kmer = ref_line[i:i+3]\n",
    "        # if kmer in three_mer_dict\n",
    "        if kmer in three_mer_dict:\n",
    "            three_mer_dict[kmer][1] += 1\n",
    "\n",
    "\n",
    "    # Iterate through each base in the read and compare to the reference\n",
    "    for i in range(len(modList)):\n",
    "        if modList[i] > 0.9:\n",
    "            # get 3mer\n",
    "            kmer = ref_line[i-1:i+2]\n",
    "            # add to count\n",
    "            if kmer in three_mer_dict:\n",
    "                three_mer_dict[kmer][0] += 1\n",
    "\n",
    "    return three_mer_dict\n",
    "    \n",
    "            \n",
    "def plot_thee_mer_bias(library_threeMer_dict, outFile):\n",
    "    L_bases = [\"A\", \"C\", \"G\", \"T\"]\n",
    "    L_substitutions = [base1+'A'+base2 for base1 in L_bases for base2 in L_bases]\n",
    "    plot_dict = {}\n",
    "    tmp_dict = {}\n",
    "    cumulative_totals = {}\n",
    "\n",
    "    for substitution in L_substitutions:\n",
    "        tmp_dict[substitution] = [0,0] # [numEdits at 3mer, num 3mers in region]\n",
    "\n",
    "    for substitution in L_substitutions:\n",
    "        plot_dict[substitution] = 0 # Edits per 3mer/3mers \n",
    "\n",
    "    for substitution in L_substitutions:\n",
    "        cumulative_totals[substitution] = 0 # num 3mers \n",
    "\n",
    "\n",
    "    # collapse all edits and sites into cumulative counts\n",
    "    for read in library_threeMer_dict:\n",
    "        for kmer in library_threeMer_dict[read]:\n",
    "            if kmer in plot_dict:\n",
    "                tmp_dict[kmer][0] += library_threeMer_dict[read][kmer][0]\n",
    "                tmp_dict[kmer][1] += library_threeMer_dict[read][kmer][1]\n",
    "                \n",
    "\n",
    "    for kmer in tmp_dict:\n",
    "        if tmp_dict[kmer][0] != 0 and tmp_dict[kmer][1] != 0:\n",
    "            plot_dict[kmer] = tmp_dict[kmer][0]/tmp_dict[kmer][1]\n",
    "           \n",
    "        # plot_dict[kmer][0] += tmp_dict[kmer][0][0]/tmp_dict[kmer][0][1]\n",
    "        # plot_dict[kmer][1] += tmp_dict[kmer][1][0]/tmp_dict[kmer][1][1]\n",
    "\n",
    "    for kmer in tmp_dict:\n",
    "        cumulative_totals[kmer] += tmp_dict[kmer][1]\n",
    "        \n",
    "\n",
    "    print(plot_dict)\n",
    "    edit_df = pd.DataFrame(plot_dict.items())\n",
    "    edit_df.columns = ['3mer', 'Frac']\n",
    "    edit_df = edit_df.explode('Frac').reset_index(drop=True)\n",
    "    # edit_df['Gene Region']=np.where(edit_df.index%2==0, 'CDS', 'UTR') \n",
    "\n",
    "    totals_df = pd.DataFrame(cumulative_totals.items())\n",
    "    totals_df.columns = ['3mer', 'Totals']\n",
    "    totals_df = totals_df.explode('Totals').reset_index(drop=True)\n",
    "    # totals_df['Gene Region']=np.where(totals_df.index%2==0, 'CDS', 'UTR')\n",
    "\n",
    "    # plot\n",
    "    figureHeight = 6\n",
    "    figureWidth = 17\n",
    "    plt.figure(figsize=(figureWidth, figureHeight))\n",
    "    panelHeight = 5 / figureHeight\n",
    "    panelWidth = 6 / figureWidth\n",
    "\n",
    "    panel1 = plt.axes([0.05, 0.1, panelWidth, panelHeight])\n",
    "    panel1 = sns.barplot(data=edit_df, x=\"3mer\", y=\"Frac\", palette=\"dark\")\n",
    "   \n",
    "\n",
    "    panel1.set_xlabel(\"3mer\")\n",
    "    panel1.set_ylabel(\"Edits per 3mer in region / 3mers in region\")\n",
    "    panel1.set_title(\"3mer bias\")\n",
    "\n",
    "    panel2 = plt.axes([0.55, 0.1, panelWidth, panelHeight])\n",
    "    panel2 = sns.barplot(data=totals_df, x=\"3mer\", y=\"Totals\", palette=\"dark\")\n",
    "    \n",
    "    \n",
    "    panel2.set_xlabel(\"3mer\")\n",
    "    panel2.set_ylabel(\"Number of 3mers in region\")\n",
    "    plt.legend(bbox_to_anchor=(1.05, 1), loc=2, borderaxespad=0)\n",
    "    panel2.set_title(\"Total 3mers in Gene Region\")\n",
    "\n",
    "    plt.savefig(outFile, dpi=600)\n",
    "\n",
    "    return plot_dict\n"
   ]
  },
  {
   "cell_type": "code",
   "execution_count": 59,
   "id": "c800cdad",
   "metadata": {},
   "outputs": [],
   "source": [
    "library_threeMer_dict = {}\n",
    "for read in read_dict:\n",
    "    read_info = read_dict[read]\n",
    "    read_seq = read_info['read_string']\n",
    "    ref_seq = read_info['ref_string']\n",
    "    edits = read_info['edits']\n",
    "    start = read_info['start']\n",
    "    end = read_info['end']\n",
    "    barcode = read_info['barcode']\n",
    "\n",
    "    # # parse cigar\n",
    "    # top_line, middle_line, bottom_line = ParseCigar_minusFeature(read_seq, ref_seq, read.cigarstring, start, end, 0, len(read_seq))\n",
    "    \n",
    "    # # find mods\n",
    "    # modList = FindMods(top_line, middle_line, bottom_line, True)\n",
    "    \n",
    "    # get 3mers\n",
    "    # print(read_seq)\n",
    "    # print(''.join(str(i) for i in edits))\n",
    "    # print(ref_seq)\n",
    "    three_mer_dict = get_3mers(ref_seq, edits)\n",
    "    # add to library dict   \n",
    "    library_threeMer_dict[read] = three_mer_dict\n",
    "\n",
    "      "
   ]
  },
  {
   "cell_type": "code",
   "execution_count": 64,
   "id": "256440d8",
   "metadata": {},
   "outputs": [
    {
     "name": "stderr",
     "output_type": "stream",
     "text": [
      "No artists with labels found to put in legend.  Note that artists whose label start with an underscore are ignored when legend() is called with no argument.\n"
     ]
    },
    {
     "name": "stdout",
     "output_type": "stream",
     "text": [
      "{'AAA': 0.9558727711052711, 'AAC': 0.7432190480845206, 'AAG': 0.8237028389321549, 'AAT': 0.8771654120311771, 'CAA': 0.7659837756084147, 'CAC': 0.7382716246494128, 'CAG': 0.6920421850357, 'CAT': 0.8947572735941978, 'GAA': 0.7414222442051305, 'GAC': 0.8919079972010925, 'GAG': 0.9310720968191409, 'GAT': 0.8496328771330902, 'TAA': 0.9295025970901428, 'TAC': 0.8219617660446062, 'TAG': 0.8479416556034158, 'TAT': 0.9176696500213096}\n"
     ]
    },
    {
     "data": {
      "image/png": "[encoded data removed]",
      "text/plain": [
       "<Figure size 1700x600 with 2 Axes>"
      ]
     },
     "metadata": {},
     "output_type": "display_data"
    }
   ],
   "source": [
    "threemer_dict = plot_thee_mer_bias(library_threeMer_dict, figures_dir / '250605_3mer_bias.png')"
   ]
  },
  {
   "cell_type": "code",
   "execution_count": 68,
   "id": "cd532b08",
   "metadata": {},
   "outputs": [],
   "source": [
    "# let's use 3mer bias to compute tad accessibility\n",
    "tad_access_scores = {}\n",
    "\n",
    "# mod_map, read_dict = build_modification_map2(f)\n",
    "for read in read_dict:\n",
    "    query_seq = read_dict[read]['read_string']\n",
    "    ref_seq = read_dict[read]['ref_string']\n",
    "    kmer_dict = {}\n",
    "    for i in range(len(query_seq)-3):\n",
    "        kmer = query_seq[i:i+3]\n",
    "        # # count number of A's in kmer\n",
    "        # num_A = 0\n",
    "        # for base in range(len(kmer)):\n",
    "        #     if i + base in read_dict[read][2]:\n",
    "        #         num_A += 1\n",
    "\n",
    "        # # calculate TAD access score\n",
    "        # tad_access_score = num_A / len(kmer)\n",
    "        # # calculate TAD inaccess score\n",
    "        # tad_inaccess_score = (len(kmer) - num_A) / len(kmer) \n",
    "        if kmer in threemer_dict:\n",
    "            tad_access_score = threemer_dict[kmer] # get the 3mer score from the threemer_dict\n",
    "            tad_inaccess_score = 1 - tad_access_score # inaccessibility is the inverse of accessibility\n",
    "        else:\n",
    "            # count number of A's in kmer\n",
    "            num_A = kmer.count('A')\n",
    "            # calculate TAD access score\n",
    "            tad_access_score = num_A / len(kmer)\n",
    "            # calculate TAD inaccess score\n",
    "            tad_inaccess_score = (len(kmer) - num_A) / len(kmer)  \n",
    "\n",
    "\n",
    "        # kmer_name = ''.join(str(i) for i in kmer)\n",
    "        # kmer_name = str(i) + '_' + str(i+6)\n",
    "        if kmer not in kmer_dict:\n",
    "            kmer_dict[kmer] = (tad_access_score, tad_inaccess_score)\n",
    "        # else:\n",
    "        #     kmer_dict[kmer_name] = (kmer_dict[kmer_name][0] * tad_access_score, kmer_dict[kmer_name][1] * tad_inaccess_score)\n",
    "\n",
    "    tad_access_scores[read] = kmer_dict"
   ]
  },
  {
   "cell_type": "code",
   "execution_count": 69,
   "id": "8b3ea900",
   "metadata": {},
   "outputs": [
    {
     "data": {
      "text/plain": [
       "<matplotlib.legend.Legend at 0x7fb4f54240d0>"
      ]
     },
     "execution_count": 69,
     "metadata": {},
     "output_type": "execute_result"
    },
    {
     "data": {
      "image/png": "[encoded data removed]",
      "text/plain": [
       "<Figure size 640x480 with 1 Axes>"
      ]
     },
     "metadata": {},
     "output_type": "display_data"
    }
   ],
   "source": [
    "# plot score distribution \n",
    "import matplotlib.pyplot as plt\n",
    "from scipy.stats import gaussian_kde\n",
    "from numpy import linspace\n",
    "\n",
    "access_scores = []\n",
    "inaccess_scores = []\n",
    "for read in tad_access_scores:\n",
    "    for kmer in tad_access_scores[read]:\n",
    "        access_scores.append(tad_access_scores[read][kmer][0])\n",
    "        inaccess_scores.append(tad_access_scores[read][kmer][1])\n",
    "\n",
    "\n",
    "access_scores = np.array(access_scores)\n",
    "inaccess_scores = np.array(inaccess_scores)\n",
    "\n",
    "kde = gaussian_kde(access_scores)\n",
    "kde2 = gaussian_kde(inaccess_scores)\n",
    "\n",
    "\n",
    "dist_space = linspace( 0, 1, 1000 )\n",
    "\n",
    "plt.plot( dist_space, kde(dist_space) )\n",
    "plt.plot( dist_space, kde2(dist_space) )\n",
    "plt.legend(['Tad Accessibililty Scores', 'Tad inaccessibility Scores'])"
   ]
  },
  {
   "cell_type": "code",
   "execution_count": 71,
   "id": "7b32585a",
   "metadata": {},
   "outputs": [],
   "source": [
    "# write to pickle\n",
    "import pickle\n",
    "with open('/data16/liam/testing/JANP-112_tad_access_scores.pkl', 'wb') as f:\n",
    "    pickle.dump(tad_access_scores, f)"
   ]
  },
  {
   "cell_type": "markdown",
   "id": "4e62622b",
   "metadata": {},
   "source": [
    "# Build Transition and Probability Matrices\n",
    "### HMM with emission matrix from score distribution"
   ]
  },
  {
   "cell_type": "code",
   "execution_count": null,
   "id": "018da835",
   "metadata": {},
   "outputs": [],
   "source": [
    "# mod_file = '/data16/liam/testing/HMM_test_data_10.txt'\n",
    "# pred_file = '/data16/liam/testing/HMM_test_data_pred_10_kde.txt'\n",
    "\n",
    "# emission_pos_file = '/data16/liam/testing/kde_vector_10.txt'\n",
    "# emission_neg_file = '/data16/liam/testing/kde_vector_mock.txt'\n",
    "mod_file = '/data16/liam/testing/HMM_test_data_20.txt'\n",
    "pred_file = '/data16/liam/testing/241210_HMM_test_data_pred_20_kde.txt'\n",
    "\n",
    "emission_pos_file = '/data16/liam/testing/kde_vector_20.txt'\n",
    "emission_neg_file = '/data16/liam/testing/kde_vector_mock.txt'\n",
    "\n",
    "emission_pos_array = []\n",
    "with open(emission_pos_file) as f:\n",
    "    for line in f:\n",
    "        emission_pos_array.append(float(line.rstrip()))\n",
    "emission_pos_array = np.array(emission_pos_array)\n",
    "emission_neg_array = []\n",
    "with open(emission_neg_file) as f:\n",
    "    for line in f:\n",
    "        emission_neg_array.append(float(line.rstrip()))\n",
    "emission_neg_array = np.array(emission_neg_array)\n",
    "\n",
    "# get access scores from pickle\n",
    "with open('/data16/liam/testing/tad_access_scores_20.pkl', 'rb') as f:\n",
    "    tad_access_scores = pickle.load(f)"
   ]
  },
  {
   "cell_type": "code",
   "execution_count": null,
   "id": "2b6130cf",
   "metadata": {},
   "outputs": [],
   "source": []
  }
 ],
 "metadata": {
  "kernelspec": {
   "display_name": "Python 3",
   "language": "python",
   "name": "python3"
  },
  "language_info": {
   "codemirror_mode": {
    "name": "ipython",
    "version": 3
   },
   "file_extension": ".py",
   "mimetype": "text/x-python",
   "name": "python",
   "nbconvert_exporter": "python",
   "pygments_lexer": "ipython3",
   "version": "3.11.0"
  }
 },
 "nbformat": 4,
 "nbformat_minor": 5
}
