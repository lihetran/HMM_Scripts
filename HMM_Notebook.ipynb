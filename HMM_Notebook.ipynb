{
 "cells": [
  {
   "cell_type": "code",
   "execution_count": 1,
   "metadata": {},
   "outputs": [],
   "source": [
    "import sys\n",
    "import math\n",
    "import numpy as np\n",
    "from collections import defaultdict\n",
    "from Bio import SeqIO, Seq, SeqRecord\n",
    "import pickle"
   ]
  },
  {
   "cell_type": "code",
   "execution_count": 2,
   "metadata": {},
   "outputs": [],
   "source": [
    "class Modification:\n",
    "    '''\n",
    "    Class to represent a modification\n",
    "    '''\n",
    "    def __init__(self, position, calling):\n",
    "        self.position = position\n",
    "        self.calling = calling"
   ]
  },
  {
   "cell_type": "code",
   "execution_count": 3,
   "metadata": {},
   "outputs": [],
   "source": [
    "class BED:\n",
    "    '''\n",
    "    Class to represent an entry in a BED file\n",
    "    '''\n",
    "    def __init__(self, chro, start, end, quality, strand):\n",
    "        self.chro = chro\n",
    "        self.start = start\n",
    "        self.end = end\n",
    "        self.quality = quality\n",
    "        self.strand = strand"
   ]
  },
  {
   "cell_type": "markdown",
   "metadata": {},
   "source": [
    "# Functions"
   ]
  },
  {
   "cell_type": "code",
   "execution_count": 4,
   "metadata": {},
   "outputs": [],
   "source": [
    "def build_modification_map(f,emat):\n",
    "    import random\n",
    "    mod_map = defaultdict(list)\n",
    "    read_dict = {}\n",
    "    ct = 0\n",
    "    read = ''\n",
    "    edits = []\n",
    "    groundTruth = ''\n",
    "    aPositions = []\n",
    "\n",
    "    for line in f:\n",
    "        line = line.rstrip()\n",
    "        # print(line)\n",
    "        if line.startswith('read_'):\n",
    "            read += line\n",
    "            ct += 1\n",
    "        elif ct == 1:\n",
    "            edits = [int(i) for i in line]\n",
    "            ct += 1\n",
    "        elif ct == 2:\n",
    "            groundTruth = line\n",
    "            ct += 1\n",
    "        elif ct == 3:\n",
    "            aPositions = [int(i) for i in line.split(',')]\n",
    "            ct = 0\n",
    "            read_dict[read] = (edits, groundTruth, aPositions)\n",
    "            footprint_indices = [i for i, x in enumerate(groundTruth) if x == 'y'] \n",
    "            # Footprint_As = random.sample(footprint_indices, len(footprint_indices)//4)\n",
    "            #### need to edit this so that all unedited A's are set to 0.03 ########\n",
    "            # for i in range(len(edits)):\n",
    "            #     if edits[i] != 0:\n",
    "            #         mod_map[read].append(Modification(i, 0.97))\n",
    "            #     elif i in Footprint_As:\n",
    "            #         mod_map[read].append(Modification(i, 0.03))\n",
    "            for i in aPositions:\n",
    "                if edits[i] == 1:\n",
    "                    mod_map[read].append(Modification(i, emat[0]))\n",
    "                else:\n",
    "                    mod_map[read].append(Modification(i, emat[1]))\n",
    "                \n",
    "                \n",
    "            read = ''\n",
    "            edits = []\n",
    "            groundTruth = ''\n",
    "            aPositions = []\n",
    "\n",
    "    return mod_map, read_dict\n",
    "            \n",
    "        "
   ]
  },
  {
   "cell_type": "code",
   "execution_count": 5,
   "metadata": {},
   "outputs": [],
   "source": [
    "def build_modification_map2(f):\n",
    "    import random\n",
    "    mod_map = defaultdict(list)\n",
    "    read_dict = {}\n",
    "    ct = 0\n",
    "    read = ''\n",
    "    edits = []\n",
    "    groundTruth = ''\n",
    "    aPositions = []\n",
    "\n",
    "    for line in f:\n",
    "        line = line.rstrip()\n",
    "        # print(line)\n",
    "        if line.startswith('read_'):\n",
    "            read += line\n",
    "            ct += 1\n",
    "        elif ct == 1:\n",
    "            edits = [int(i) for i in line]\n",
    "            ct += 1\n",
    "        elif ct == 2:\n",
    "            groundTruth = line\n",
    "            ct += 1\n",
    "        elif ct == 3:\n",
    "            aPositions = [int(i) for i in line.split(',')]\n",
    "            ct = 0\n",
    "            read_dict[read] = (edits, groundTruth, aPositions)\n",
    "            for i in aPositions:\n",
    "                if edits[i] == 1:\n",
    "                    mod_map[read].append(Modification(i, 0.97))\n",
    "                else:\n",
    "                    mod_map[read].append(Modification(i, 0.03))\n",
    "                \n",
    "                \n",
    "            read = ''\n",
    "            edits = []\n",
    "            groundTruth = ''\n",
    "            aPositions = []\n",
    "\n",
    "    return mod_map, read_dict\n",
    "            \n",
    "        "
   ]
  },
  {
   "cell_type": "code",
   "execution_count": 6,
   "metadata": {},
   "outputs": [],
   "source": [
    "def make_calling_vector(mod_list, read_length):\n",
    "    calling_vec = [-1] * (read_length + 1)\n",
    "\n",
    "    for m in mod_list:\n",
    "        position = m.position\n",
    "        calling = m.calling\n",
    "        if 0 <= position <= read_length:\n",
    "            calling_vec[position] = calling\n",
    "\n",
    "    return calling_vec"
   ]
  },
  {
   "cell_type": "markdown",
   "metadata": {},
   "source": [
    "## Score Distribution"
   ]
  },
  {
   "cell_type": "code",
   "execution_count": 15,
   "metadata": {},
   "outputs": [],
   "source": [
    "mod_file = '/data16/liam/testing/HMM_test_data_AC50.txt'\n",
    "\n",
    "scores = {}\n",
    "with open (mod_file) as mf:\n",
    "    \n",
    "    mod_map, read_dict = build_modification_map2(mf)\n",
    "    for read, modList in mod_map.items():\n",
    "        # check that edits and ground truth are same length\n",
    "        # print(''.join(str(i) for i in read_dict[read][0]))\n",
    "        # print(read_dict[read][1])\n",
    "        assert len(read_dict[read][0]) == len(read_dict[read][1]), 'edits and ground truth are not the same length'\n",
    "\n",
    "        s = [mod_map[read][i].calling for i in range(len(mod_map[read]))]\n",
    "        scores[read] = [float(i) for i in s]\n",
    "\n",
    "        "
   ]
  },
  {
   "cell_type": "code",
   "execution_count": 16,
   "metadata": {},
   "outputs": [
    {
     "data": {
      "text/plain": [
       "[<matplotlib.lines.Line2D at 0x7f0e28ffca90>]"
      ]
     },
     "execution_count": 16,
     "metadata": {},
     "output_type": "execute_result"
    },
    {
     "data": {
      "image/png": "[encoded data removed]",
      "text/plain": [
       "<Figure size 432x288 with 1 Axes>"
      ]
     },
     "metadata": {
      "needs_background": "light"
     },
     "output_type": "display_data"
    }
   ],
   "source": [
    "# plot score distribution \n",
    "import matplotlib.pyplot as plt\n",
    "from scipy.stats import gaussian_kde\n",
    "from numpy import linspace\n",
    "\n",
    "score_list = []\n",
    "for read, score in scores.items():\n",
    "    score_list += score\n",
    "\n",
    "score_list = np.array(score_list)\n",
    "kde = gaussian_kde(score_list)\n",
    "\n",
    "\n",
    "\n",
    "dist_space = linspace( 0, 1, 1000 )\n",
    "\n",
    "plt.plot( dist_space, kde(dist_space) )\n",
    "\n",
    "\n"
   ]
  },
  {
   "cell_type": "code",
   "execution_count": 18,
   "metadata": {},
   "outputs": [
    {
     "name": "stdout",
     "output_type": "stream",
     "text": [
      "1000\n"
     ]
    }
   ],
   "source": [
    "# vectorize kde function\n",
    "vector = kde(dist_space)\n",
    "print(len(vector))"
   ]
  },
  {
   "cell_type": "code",
   "execution_count": 19,
   "metadata": {},
   "outputs": [],
   "source": [
    "# write vector to file\n",
    "with open('/data16/liam/testing/kde_vector_AC50.txt', 'w') as f:\n",
    "    for i in vector:\n",
    "        f.write(str(i) + '\\n')"
   ]
  },
  {
   "cell_type": "markdown",
   "metadata": {},
   "source": [
    "### Score Distribution of Tad Accessible/Unaccessible Regions\n",
    "#### with lower editing rates, the HMM tends to overpredict shadows. One idea we have is to introduce a tad accessibility score for kmers. This will enable us to enable multiple paths that we can iterate through with dynamic programming/backtracking algorithms to find the optimal path of shadows.\n",
    "#### in real data, the accessibility score will likely be a measurement of base editor sequence preference, number of A's in kmer, and number of edits in kmer (in shadowless data)\n",
    "#### in simulated data, I will just use number of As in kmer"
   ]
  },
  {
   "cell_type": "code",
   "execution_count": 38,
   "metadata": {},
   "outputs": [],
   "source": [
    "reads = '/data16/liam/testing/HMM_test_data_AC50.txt'\n",
    "tad_access_scores = {}\n",
    "with open(reads) as f:\n",
    "    mod_map, read_dict = build_modification_map2(f)\n",
    "    for read in read_dict:\n",
    "        kmer_dict = {}\n",
    "        for i in range(len(read_dict[read][0])-6):\n",
    "            kmer = read_dict[read][0][i:i+6]\n",
    "            # count number of A's in kmer\n",
    "            num_A = 0\n",
    "            for base in range(len(kmer)):\n",
    "                if i + base in read_dict[read][2]:\n",
    "                    num_A += 1\n",
    "\n",
    "            # calculate TAD access score\n",
    "            tad_access_score = num_A / len(kmer)\n",
    "            # calculate TAD inaccess score\n",
    "            tad_inaccess_score = (len(kmer) - num_A) / len(kmer) \n",
    "\n",
    "            # kmer_name = ''.join(str(i) for i in kmer)\n",
    "            kmer_name = str(i) + '_' + str(i+6)\n",
    "            if kmer_name not in kmer_dict:\n",
    "                kmer_dict[kmer_name] = (tad_access_score, tad_inaccess_score)\n",
    "            # else:\n",
    "            #     kmer_dict[kmer_name] = (kmer_dict[kmer_name][0] * tad_access_score, kmer_dict[kmer_name][1] * tad_inaccess_score)\n",
    "\n",
    "        tad_access_scores[read] = kmer_dict\n",
    "            "
   ]
  },
  {
   "cell_type": "code",
   "execution_count": 27,
   "metadata": {},
   "outputs": [],
   "source": [
    "# write to pickle\n",
    "import pickle\n",
    "with open('/data16/liam/testing/tad_access_scores_30only.pkl', 'wb') as f:\n",
    "    pickle.dump(tad_access_scores, f)"
   ]
  },
  {
   "cell_type": "code",
   "execution_count": 39,
   "metadata": {},
   "outputs": [
    {
     "data": {
      "text/plain": [
       "<matplotlib.legend.Legend at 0x7f0df6957cd0>"
      ]
     },
     "execution_count": 39,
     "metadata": {},
     "output_type": "execute_result"
    },
    {
     "data": {
      "image/png": "[encoded data removed]",
      "text/plain": [
       "<Figure size 432x288 with 1 Axes>"
      ]
     },
     "metadata": {
      "needs_background": "light"
     },
     "output_type": "display_data"
    }
   ],
   "source": [
    "# plot score distribution \n",
    "import matplotlib.pyplot as plt\n",
    "from scipy.stats import gaussian_kde\n",
    "from numpy import linspace\n",
    "\n",
    "access_scores = []\n",
    "inaccess_scores = []\n",
    "for read in tad_access_scores:\n",
    "    for kmer in tad_access_scores[read]:\n",
    "        access_scores.append(tad_access_scores[read][kmer][0])\n",
    "        inaccess_scores.append(tad_access_scores[read][kmer][1])\n",
    "\n",
    "\n",
    "access_scores = np.array(access_scores)\n",
    "inaccess_scores = np.array(inaccess_scores)\n",
    "\n",
    "kde = gaussian_kde(access_scores)\n",
    "kde2 = gaussian_kde(inaccess_scores)\n",
    "\n",
    "\n",
    "dist_space = linspace( 0, 1, 1000 )\n",
    "\n",
    "plt.plot( dist_space, kde(dist_space) )\n",
    "plt.plot( dist_space, kde2(dist_space) )\n",
    "plt.legend(['Tad Accessibililty Scores', 'Tad inaccessibility Scores'])\n",
    "\n",
    "\n"
   ]
  },
  {
   "cell_type": "markdown",
   "metadata": {},
   "source": [
    "# Build Transition and Probability Matrices"
   ]
  },
  {
   "cell_type": "markdown",
   "metadata": {},
   "source": [
    "### HMM with emission matrix from score distribution"
   ]
  },
  {
   "cell_type": "code",
   "execution_count": 9,
   "metadata": {},
   "outputs": [],
   "source": [
    "mod_file = '/data16/liam/testing/HMM_test_data_80.txt'\n",
    "pred_file = '/data16/liam/testing/HMM_test_data_pred_80_kde.txt'\n",
    "\n",
    "emission_pos_file = '/data16/liam/testing/kde_vector_80.txt'\n",
    "emission_neg_file = '/data16/liam/testing/kde_vector_mock.txt'\n",
    "\n",
    "emission_pos_array = []\n",
    "with open(emission_pos_file) as f:\n",
    "    for line in f:\n",
    "        emission_pos_array.append(float(line.rstrip()))\n",
    "emission_pos_array = np.array(emission_pos_array)\n",
    "emission_neg_array = []\n",
    "with open(emission_neg_file) as f:\n",
    "    for line in f:\n",
    "        emission_neg_array.append(float(line.rstrip()))\n",
    "emission_neg_array = np.array(emission_neg_array)\n",
    "\n",
    "# get access scores from pickle\n",
    "with open('/data16/liam/testing/tad_access_scores_80.pkl', 'rb') as f:\n",
    "    tad_access_scores = pickle.load(f)"
   ]
  },
  {
   "cell_type": "code",
   "execution_count": 11,
   "metadata": {},
   "outputs": [],
   "source": [
    "outDict = {}\n",
    "with open (mod_file) as mf:\n",
    "    with open(pred_file, 'w') as pf:\n",
    "        mod_map, read_dict = build_modification_map2(mf)\n",
    "        \n",
    "        \n",
    "        for read, modList in mod_map.items():\n",
    "            # check that edits and ground truth are same length\n",
    "            assert len(read_dict[read][0]) == len(read_dict[read][1]), 'edits and ground truth are not the same length'\n",
    "\n",
    "            read_length = len(read_dict[read][0])\n",
    "            calling_vec = make_calling_vector(modList, read_length) \n",
    "\n",
    "            # initialize probability matrix\n",
    "            prob_mat = np.array([[0.0] * 31 for _ in range(read_length+1)]) \n",
    "            \n",
    "            # initialize pointer matrix\n",
    "            ptr_mat = np.array([[-1] * 31 for _ in range(read_length+1)])\n",
    "        \n",
    "\n",
    "            initial_rate = 1 / 31.0\n",
    "            log_initial_rate = math.log(initial_rate)\n",
    "\n",
    "\n",
    "            for j in range(0,31):\n",
    "                # initialize initial probability\n",
    "                prob_mat[1][j] = log_initial_rate\n",
    "                ptr_mat[1][j] = 0\n",
    "\n",
    "            for i in range(1, read_length+1): # changed to 1, read_length+1 from 2, read_length + 1\n",
    "                within_linker = 0.0\n",
    "                back_frm_ribosome = 0.0\n",
    "\n",
    "                kmer = str(i-1) + '_' + str(i+5)\n",
    "                if kmer in tad_access_scores[read]:\n",
    "                    tad_access_score = tad_access_scores[read][kmer][0]\n",
    "                    tad_inaccess_score = tad_access_scores[read][kmer][1]\n",
    "                else:\n",
    "                    tad_access_score = 0.5\n",
    "                    tad_inaccess_score = 0.5\n",
    "                    \n",
    "                a_score = math.log(tad_access_score) if tad_access_score != 0 else 0\n",
    "                i_score = math.log(tad_inaccess_score) if tad_inaccess_score != 0 else 0\n",
    "                # if i is not an A\n",
    "                if calling_vec[i] == -1: # calling vector is -1 at non A positions\n",
    "                    # within linker probability is same as previous\n",
    "                    within_linker = prob_mat[i-1][0]\n",
    "                    # if not in first row of matrix\n",
    "                    if prob_mat[i-1][30] != 0:\n",
    "                        back_frm_ribosome = prob_mat[i-1][30] \n",
    "\n",
    "                else:\n",
    "                    # i is an A\n",
    "                    k = int(calling_vec[i] * 1000)\n",
    "                    # within_linker = log_norm_density(calling_vec[i], k, emission_pos_array) + prob_mat[i-1][0]\n",
    "                    # within_linker = math.log(emission_pos_array[k]) + prob_mat[i-1][0] - i_score \n",
    "                    within_linker = math.log(emission_pos_array[k]) + prob_mat[i-1][0] # use this line with 80% data\n",
    "                    if prob_mat[i-1][30] != 0:\n",
    "                        # back_frm_ribosome = log_norm_density(calling_vec[i], k, emission_pos_array) + prob_mat[i-1][30]\n",
    "                        back_frm_ribosome = math.log(emission_pos_array[k]) + a_score + prob_mat[i-1][30]\n",
    "                        \n",
    "                #if probability that we are in the footprint is greater than the probability that we are in the linker\n",
    "                if back_frm_ribosome != 0 and back_frm_ribosome > within_linker:\n",
    "                    prob_mat[i][0] = back_frm_ribosome\n",
    "                    ptr_mat[i][0] = 30 #update pointer matrix\n",
    "                # if the probability that the previous nucleotide was in the linker is greater\n",
    "                else:\n",
    "                    prob_mat[i][0] = within_linker\n",
    "                    ptr_mat[i][0] = 0\n",
    "\n",
    "                if calling_vec[i] == -1:\n",
    "                    prob_mat[i][1] = prob_mat[i - 1][0]\n",
    "                else:\n",
    "                    k = int(calling_vec[i] * 1000)\n",
    "                    # prob_mat[i][1] = log_norm_density(calling_vec[i], k, emission_neg_array) + prob_mat[i - 1][0]\n",
    "                    prob_mat[i][1] = math.log(emission_neg_array[k]) + a_score + prob_mat[i - 1][0] \n",
    "                ptr_mat[i][1] = 0\n",
    "\n",
    "                for j in range(2, 31):\n",
    "                    if calling_vec[i] == -1:\n",
    "                        if prob_mat[i-1][j-1] != 0:\n",
    "                            prob_mat[i][j] = prob_mat[i-1][j-1]\n",
    "                    else:\n",
    "                        k = int(calling_vec[i] * 1000)\n",
    "                        # k = 3\n",
    "                        if prob_mat[i-1][j-1] != 0:\n",
    "                            # prob_mat[i][j] = log_norm_density(calling_vec[i], k, emission_neg_array) + prob_mat[i-1][j-1]\n",
    "                            prob_mat[i][j] = math.log(emission_neg_array[k]) + a_score + prob_mat[i-1][j-1]\n",
    "                    if prob_mat[i][j] != 0:\n",
    "                        ptr_mat[i][j] = j-1\n",
    "            \n",
    "            # set max probability to super low number\n",
    "            max_prob = -10000000.0\n",
    "            # set max index to -1, which will be used to index the backtrack vector\n",
    "            max_index = -1\n",
    "            # iterate through the last row of the probability matrix to find the max probability\n",
    "            for j in range(31):\n",
    "                # if the probability of the last nucleotide being in the ribosome is greater than the max probability\n",
    "                if prob_mat[read_length][j] > max_prob:\n",
    "                    # set the max probability to the probability of the last nucleotide being in the ribosome\n",
    "                    max_prob = prob_mat[read_length][j]\n",
    "                    # set the max index to the index of the last nucleotide being in the ribosome\n",
    "                    max_index = j\n",
    "            \n",
    "            # initialize backtrack vector\n",
    "            backtrack_vec = []\n",
    "            # for i in range(read_length, 0, -1):\n",
    "            for i in range(len(ptr_mat)-1, 0, -1):\n",
    "                # append the max index to the backtrack vector\n",
    "                backtrack_vec.append(max_index) \n",
    "                # set the max index to the index of the previous nucleotide\n",
    "                max_index = ptr_mat[i-1][max_index] # added ptr_mat[i-1][max_index] instead of ptr_mat[i][max_index], Dec 21, 2023\n",
    "            # reverse the backtrack vector\n",
    "            backtrack_vec.reverse()\n",
    "            \n",
    "            pred = ''\n",
    "            \n",
    "            for i in range(len(backtrack_vec)):\n",
    "                if backtrack_vec[i] > 0:\n",
    "                    pred += 'y'\n",
    "                else:\n",
    "                    pred += 'x'\n",
    "\n",
    "\n",
    "            if len(pred) != len(read_dict[read][1]):\n",
    "                print('prediction and ground truth are not the same length')\n",
    "                print('pred: ')\n",
    "                print(pred)\n",
    "                print('true: ')\n",
    "                print(read_dict[read][1])\n",
    "                sys.exit()\n",
    "            outDict[read] = [pred, read_dict[read][1]]\n",
    "\n",
    "\n",
    "\n",
    "            #### write prediction to file ####\n",
    "            pf.write(read + '\\n')\n",
    "            pf.write('pred:' + '\\n')\n",
    "            pf.write(pred + '\\n')\n",
    "            pf.write('true:' + '\\n')\n",
    "            pf.write(read_dict[read][1] + '\\n')\n",
    "            pf.write('modifications:' + '\\n')\n",
    "            pf.write(''.join(str(i) for i in read_dict[read][0]) + '\\n')\n",
    "\n",
    "### write transition matrix to file ####\n",
    "with open('/data16/liam/testing/transition_mat.txt', 'w') as tm:\n",
    "    tm.write('read_length: ' + str(len(read_dict[read][1])) + '\\t' + 'prediction_length: ' + str(len(pred)) + '\\t' + \n",
    "             'matrix_length: ' + str(ptr_mat.shape[0]) + '\\t'+ 'backtrack_vec: ' + str(len(backtrack_vec)) + '\\n')\n",
    "    tm.write(read)\n",
    "    tm.write('\\n')\n",
    "    tm.write('\\t'.join(str(i) for i in ptr_mat[0]))\n",
    "    tm.write('\\n')\n",
    "    tm.write('\\t'.join(str(i) for i in ptr_mat[1]) + '\\t' + str(calling_vec[0]) + '\\t' + read_dict[read][1][0] + '\\t' + pred[0] + '\\t' + str(backtrack_vec[0]))\n",
    "    tm.write('\\n')\n",
    "    for j in range(1, len(ptr_mat)):\n",
    "        tm.write('\\t'.join(str(i) for i in ptr_mat[j]) + '\\t' + str(calling_vec[j]) + '\\t' + read_dict[read][1][j-1] + '\\t' + pred[j-1] + '\\t' + str(backtrack_vec[j-1]))\n",
    "        tm.write('\\n')\n",
    "\n",
    "### write probability matrix to file ####\n",
    "with open('/data16/liam/testing/probability_mat.txt','w') as pm:\n",
    "    pm.write('read_length: ' + str(len(read_dict[read][1])) + '\\t' + 'prediction_length: ' + str(len(pred)) + '\\t' + \n",
    "             'matrix_length: ' + str(prob_mat.shape[0]) + '\\t' + 'backtrack_vec: ' + str(len(backtrack_vec)) + '\\n')\n",
    "    pm.write(read)\n",
    "    pm.write('\\n')\n",
    "    pm.write('\\t'.join(str(i) for i in prob_mat[0]))\n",
    "    pm.write('\\n')\n",
    "    pm.write('\\t'.join(str(i) for i in prob_mat[1]) + '\\t' + str(calling_vec[0]) + '\\t' + read_dict[read][1][0] + '\\t' + pred[0] + '\\t' + str(backtrack_vec[0]))\n",
    "    pm.write('\\n')\n",
    "    for j in range(1, len(prob_mat)):\n",
    "        pm.write('\\t'.join(str(i) for i in prob_mat[j]) + '\\t' + str(calling_vec[j]) + '\\t' + read_dict[read][1][j-1] + '\\t' + pred[j-1] + '\\t' + str(backtrack_vec[j-1]))\n",
    "        pm.write('\\n')\n"
   ]
  },
  {
   "cell_type": "markdown",
   "metadata": {},
   "source": [
    "## Let's Make Some Accuracy Metrics"
   ]
  },
  {
   "cell_type": "markdown",
   "metadata": {},
   "source": [
    "### Plot number of predictions vs number of ground truth ribosomes"
   ]
  },
  {
   "cell_type": "code",
   "execution_count": 8,
   "metadata": {},
   "outputs": [],
   "source": [
    "def count_ribosome_footprints(predicted_data, ground_truth_data, footprint_char='y'):\n",
    "    '''\n",
    "    This functions counts the number of ribosome footprints in the predicted and ground truth data\n",
    "    '''\n",
    "    predicted_count = len([footprint for footprint in predicted_data.split('x') if footprint])\n",
    "    ground_truth_count = len([footprint for footprint in ground_truth_data.split('x') if footprint])\n",
    "    \n",
    "    return predicted_count, ground_truth_count"
   ]
  },
  {
   "cell_type": "code",
   "execution_count": 9,
   "metadata": {},
   "outputs": [],
   "source": [
    "def parse_pred_file(filename):\n",
    "    reads = []\n",
    "    with open(filename, 'r') as file:\n",
    "        while True:\n",
    "            read_name = file.readline().strip()\n",
    "            if not read_name:\n",
    "                break\n",
    "            file.readline()  # Skip 'pred:' line\n",
    "            predicted_sequence = file.readline().strip()\n",
    "            file.readline()  # Skip 'true:' line\n",
    "            true_sequence = file.readline().strip()\n",
    "            file.readline()  # Skip 'modifications:' line\n",
    "            modifications = file.readline().strip()\n",
    "            reads.append((read_name, predicted_sequence, true_sequence, modifications))\n",
    "    return reads"
   ]
  },
  {
   "cell_type": "code",
   "execution_count": 10,
   "metadata": {},
   "outputs": [],
   "source": [
    "reads_100 = parse_pred_file('/data16/liam/testing/HMM_test_data_pred_30only_kde.txt')\n",
    "read_footprint_100 = {}\n",
    "# get footprint info for each read\n",
    "for read in reads_100:\n",
    "    read_footprint_100[read[0]] = count_ribosome_footprints(read[1], read[2])\n",
    "# read_footprint_100"
   ]
  },
  {
   "cell_type": "code",
   "execution_count": 11,
   "metadata": {},
   "outputs": [],
   "source": [
    "reads_80 = parse_pred_file('/data16/liam/testing/HMM_test_data_pred_80_kde.txt')\n",
    "read_footprint_80 = {}\n",
    "# get footprint info for each read\n",
    "for read in reads_80:\n",
    "    read_footprint_80[read[0]] = count_ribosome_footprints(read[1], read[2])"
   ]
  },
  {
   "cell_type": "code",
   "execution_count": 12,
   "metadata": {},
   "outputs": [],
   "source": [
    "reads_50 = parse_pred_file('/data16/liam/testing/HMM_test_data_pred_50_kde.txt')\n",
    "read_footprint_50 = {}\n",
    "# get footprint info for each read\n",
    "for read in reads_50:\n",
    "    read_footprint_50[read[0]] = count_ribosome_footprints(read[1], read[2])"
   ]
  },
  {
   "cell_type": "code",
   "execution_count": 13,
   "metadata": {},
   "outputs": [],
   "source": [
    "reads_DE50 = parse_pred_file('/data16/liam/testing/HMM_test_data_pred_AC50_kde.txt')\n",
    "read_footprint_DE50 = {}\n",
    "# get footprint info for each read\n",
    "for read in reads_DE50:\n",
    "    read_footprint_DE50[read[0]] = count_ribosome_footprints(read[1], read[2])"
   ]
  },
  {
   "cell_type": "code",
   "execution_count": 14,
   "metadata": {},
   "outputs": [
    {
     "data": {
      "text/plain": [
       "{'100%': (996, 1000),\n",
       " '80%': (382, 1000),\n",
       " '50%': (180, 999),\n",
       " 'DE50%': (426, 1000)}"
      ]
     },
     "execution_count": 14,
     "metadata": {},
     "output_type": "execute_result"
    }
   ],
   "source": [
    "# plot number of reads where predicted footprint count is equal to ground truth footprint count\n",
    "import matplotlib.pyplot as plt\n",
    "import numpy as np\n",
    "import seaborn as sns\n",
    "from collections import Counter\n",
    "\n",
    "plot_dict = {'100%': None,\n",
    "             '80%': None,\n",
    "             '50%': None}\n",
    "total_100 = len(read_footprint_100)\n",
    "num_100 = 0\n",
    "\n",
    "for read in read_footprint_100:\n",
    "    if read_footprint_100[read][0] == read_footprint_100[read][1]:\n",
    "        num_100 += 1\n",
    "\n",
    "plot_dict['100%'] = (num_100, total_100)\n",
    "\n",
    "total_80 = len(read_footprint_80)\n",
    "num_80 = 0\n",
    "for read in read_footprint_80:\n",
    "    if read_footprint_80[read][0] == read_footprint_80[read][1]:\n",
    "        num_80 += 1\n",
    "\n",
    "plot_dict['80%'] = (num_80, total_80)\n",
    "\n",
    "total_50 = len(read_footprint_50)\n",
    "num_50 = 0\n",
    "\n",
    "for read in read_footprint_50:\n",
    "    if read_footprint_50[read][0] == read_footprint_50[read][1]:\n",
    "        num_50 += 1\n",
    "\n",
    "plot_dict['50%'] = (num_50, total_50)\n",
    "\n",
    "total_DE50 = len(read_footprint_DE50)\n",
    "num_DE50 = 0\n",
    "\n",
    "for read in read_footprint_DE50:\n",
    "    if read_footprint_DE50[read][0] == read_footprint_DE50[read][1]:\n",
    "        num_DE50 += 1\n",
    "\n",
    "plot_dict['DE50%'] = (num_DE50, total_DE50)\n",
    "\n",
    "plot_dict"
   ]
  },
  {
   "cell_type": "code",
   "execution_count": 15,
   "metadata": {},
   "outputs": [
    {
     "data": {
      "image/png": "[encoded data removed]",
      "text/plain": [
       "<Figure size 432x288 with 1 Axes>"
      ]
     },
     "metadata": {
      "needs_background": "light"
     },
     "output_type": "display_data"
    }
   ],
   "source": [
    "import matplotlib.pyplot as plt\n",
    "\n",
    "# Extract the data from plot_dict\n",
    "labels = list(plot_dict.keys())\n",
    "values = [round((num / total) * 100, 2) for num, total in plot_dict.values()]\n",
    "\n",
    "# Create the bar plot\n",
    "plt.bar(labels, values)\n",
    "\n",
    "# Add labels and title\n",
    "plt.xlabel('Modification Rate')\n",
    "plt.ylabel('Predicted Footprints / Ground Truth Footprints (%)')\n",
    "plt.title('Number Predicted Footprints Compared to Ground Truth')\n",
    "\n",
    "# Show the plot\n",
    "plt.show()\n"
   ]
  },
  {
   "cell_type": "code",
   "execution_count": 16,
   "metadata": {},
   "outputs": [
    {
     "data": {
      "text/plain": [
       "(0.004, -1.024, -1.5925925925925926, -0.198)"
      ]
     },
     "execution_count": 16,
     "metadata": {},
     "output_type": "execute_result"
    }
   ],
   "source": [
    "deviations = []\n",
    "for read in read_footprint_100:\n",
    "    diff = read_footprint_100[read][1] - read_footprint_100[read][0]\n",
    "    deviations.append(diff)\n",
    "dev_100 = np.mean(deviations)\n",
    "\n",
    "deviations = []\n",
    "for read in read_footprint_80:\n",
    "    diff = read_footprint_80[read][1] - read_footprint_80[read][0]\n",
    "    deviations.append(diff)\n",
    "dev_80 = np.mean(deviations)\n",
    "\n",
    "deviations = []\n",
    "for read in read_footprint_50:\n",
    "    diff = read_footprint_50[read][1] - read_footprint_50[read][0]\n",
    "    deviations.append(diff)\n",
    "dev_50 = np.mean(deviations)\n",
    "\n",
    "deviations = []\n",
    "for read in read_footprint_DE50:\n",
    "    diff = read_footprint_DE50[read][1] - read_footprint_DE50[read][0]\n",
    "    deviations.append(diff)\n",
    "dev_DE50 = np.mean(deviations)\n",
    "\n",
    "dev_100, dev_80, dev_50, dev_DE50"
   ]
  },
  {
   "cell_type": "code",
   "execution_count": 17,
   "metadata": {},
   "outputs": [
    {
     "data": {
      "image/png": "[encoded data removed]",
      "text/plain": [
       "<Figure size 432x288 with 1 Axes>"
      ]
     },
     "metadata": {
      "needs_background": "light"
     },
     "output_type": "display_data"
    }
   ],
   "source": [
    "import matplotlib.pyplot as plt\n",
    "\n",
    "# Create a list of dataset names\n",
    "datasets = ['100%', '80%', '50%', 'DE50%']\n",
    "\n",
    "# Create a list of deviations\n",
    "deviations = [abs(dev_100), abs(dev_80), abs(dev_50), abs(dev_DE50)]\n",
    "\n",
    "# Create the bar plot\n",
    "plt.bar(datasets, deviations)\n",
    "\n",
    "# Add labels and title\n",
    "plt.xlabel('Dataset')\n",
    "plt.ylabel('ground truth footprints - predicted footprints')\n",
    "plt.title('Deviation of Predicted Footprints from Ground Truth Footprints')\n",
    "\n",
    "# Show the plot\n",
    "plt.show()\n"
   ]
  },
  {
   "cell_type": "markdown",
   "metadata": {},
   "source": [
    "### Overlap of Footprints"
   ]
  },
  {
   "cell_type": "code",
   "execution_count": 18,
   "metadata": {},
   "outputs": [],
   "source": [
    "def get_all_footprint_indices(data, footprint_char='y'):\n",
    "    '''\n",
    "    This function returns a list of tuples containing the start and end indices of all footprints in the data\n",
    "    '''\n",
    "    footprints = []\n",
    "    start_index = None\n",
    "\n",
    "    for i in range(len(data)):\n",
    "        if data[i] == footprint_char and start_index is None:\n",
    "            start_index = i\n",
    "        elif data[i] != footprint_char and start_index is not None:\n",
    "            footprints.append((start_index, i - 1))\n",
    "            start_index = None\n",
    "\n",
    "    if start_index is not None:\n",
    "        footprints.append((start_index, len(data) - 1))\n",
    "\n",
    "    return footprints"
   ]
  },
  {
   "cell_type": "code",
   "execution_count": 19,
   "metadata": {},
   "outputs": [],
   "source": [
    "def calculate_overlap(predicted_start, predicted_end, ground_truth_start, ground_truth_end):\n",
    "    '''\n",
    "    calculates the overlap between two footprints\n",
    "    '''\n",
    "    overlap_start = max(predicted_start, ground_truth_start)\n",
    "    overlap_end = min(predicted_end, ground_truth_end)\n",
    "    \n",
    "    if overlap_end >= overlap_start:\n",
    "        overlap = overlap_end - overlap_start + 1\n",
    "    else:\n",
    "        overlap = 0\n",
    "    \n",
    "    return overlap"
   ]
  },
  {
   "cell_type": "code",
   "execution_count": 20,
   "metadata": {},
   "outputs": [],
   "source": [
    "def count_overlapping_footprints(list1, list2):\n",
    "    count = 0\n",
    "    for footprint1 in list1:\n",
    "        for footprint2 in list2:\n",
    "            if footprint1[1] >= footprint2[0] and footprint1[0] <= footprint2[1]:\n",
    "                count += 1\n",
    "                break\n",
    "    return count\n"
   ]
  },
  {
   "cell_type": "code",
   "execution_count": 22,
   "metadata": {},
   "outputs": [],
   "source": [
    "overlap_100 = {}\n",
    "\n",
    "for read in reads_100:\n",
    "    \n",
    "    predicted = get_all_footprint_indices(read[1])\n",
    "    ground_truth = get_all_footprint_indices(read[2])\n",
    "\n",
    "    overlap_100[read[0]] = [count_overlapping_footprints(predicted, ground_truth), len(ground_truth)]\n",
    "        "
   ]
  },
  {
   "cell_type": "code",
   "execution_count": 23,
   "metadata": {},
   "outputs": [],
   "source": [
    "overlap_80 = {}\n",
    "\n",
    "for read in reads_80:\n",
    "    \n",
    "    predicted = get_all_footprint_indices(read[1])\n",
    "    ground_truth = get_all_footprint_indices(read[2])\n",
    "\n",
    "    overlap_80[read[0]] = [count_overlapping_footprints(predicted, ground_truth), len(ground_truth)]\n",
    "            "
   ]
  },
  {
   "cell_type": "code",
   "execution_count": 24,
   "metadata": {},
   "outputs": [],
   "source": [
    "overlap_50 = {}\n",
    "\n",
    "for read in reads_50:\n",
    "    \n",
    "    predicted = get_all_footprint_indices(read[1])\n",
    "    ground_truth = get_all_footprint_indices(read[2])\n",
    "\n",
    "    overlap_50[read[0]] = [count_overlapping_footprints(predicted, ground_truth), len(ground_truth)]\n",
    "\n"
   ]
  },
  {
   "cell_type": "code",
   "execution_count": 25,
   "metadata": {},
   "outputs": [],
   "source": [
    "overlap_DE50 = {}\n",
    "\n",
    "for read in reads_DE50:\n",
    "    \n",
    "    predicted = get_all_footprint_indices(read[1])\n",
    "    ground_truth = get_all_footprint_indices(read[2])\n",
    "\n",
    "    overlap_DE50[read[0]] = [count_overlapping_footprints(predicted, ground_truth), len(ground_truth)]"
   ]
  },
  {
   "cell_type": "code",
   "execution_count": 26,
   "metadata": {},
   "outputs": [
    {
     "data": {
      "image/png": "[encoded data removed]",
      "text/plain": [
       "<Figure size 432x288 with 1 Axes>"
      ]
     },
     "metadata": {
      "needs_background": "light"
     },
     "output_type": "display_data"
    }
   ],
   "source": [
    "import matplotlib.pyplot as plt\n",
    "import numpy as np\n",
    "# Extract the data from the overlap dictionaries\n",
    "overlap_100_values = []\n",
    "for read in overlap_100:\n",
    "    overlap_100_values.append(overlap_100[read][0] / overlap_100[read][1])\n",
    "overlap_100_values = np.mean(overlap_100_values)\n",
    "\n",
    "overlap_80_values = []\n",
    "for read in overlap_80:\n",
    "    overlap_80_values.append(overlap_80[read][0] / overlap_80[read][1])\n",
    "overlap_80_values = np.mean(overlap_80_values)\n",
    "\n",
    "overlap_50_values = []\n",
    "for read in overlap_50:\n",
    "    overlap_50_values.append(overlap_50[read][0] / overlap_50[read][1])\n",
    "overlap_50_values = np.mean(overlap_50_values)\n",
    "\n",
    "overlap_DE50_values = []\n",
    "for read in overlap_DE50:\n",
    "    overlap_DE50_values.append(overlap_DE50[read][0] / overlap_DE50[read][1])\n",
    "overlap_DE50_values = np.mean(overlap_DE50_values)\n",
    "\n",
    "\n",
    "# Create the bar plot\n",
    "plt.bar(['100%', '80%', '50%', 'DE50%'], [overlap_100_values, overlap_80_values, overlap_50_values, overlap_DE50_values])\n",
    "\n",
    "# Add labels and title\n",
    "plt.xlabel('Modification Rate')\n",
    "plt.ylabel('Overlapping Footprints / Number of Ground Truth Footprints')\n",
    "plt.title('Overlap of Footprints')\n",
    "\n",
    "# Show the plot\n",
    "plt.show()\n"
   ]
  },
  {
   "cell_type": "markdown",
   "metadata": {},
   "source": [
    "### Number of Predicted Footprints vs Number of Ground Truth Footprints #######"
   ]
  },
  {
   "cell_type": "code",
   "execution_count": 27,
   "metadata": {},
   "outputs": [
    {
     "data": {
      "image/png": "[encoded data removed]",
      "text/plain": [
       "<Figure size 432x288 with 1 Axes>"
      ]
     },
     "metadata": {
      "needs_background": "light"
     },
     "output_type": "display_data"
    }
   ],
   "source": [
    "import matplotlib.pyplot as plt\n",
    "\n",
    "# Extract the data from the reads dictionaries\n",
    "predicted_counts = []\n",
    "ground_truth_counts = []\n",
    "\n",
    "for read in read_footprint_100:\n",
    "    predicted_counts.append(read_footprint_100[read][0])\n",
    "    ground_truth_counts.append(read_footprint_100[read][1])\n",
    "\n",
    "# Create the scatter plot\n",
    "plt.scatter(predicted_counts, ground_truth_counts)\n",
    "\n",
    "# Add labels and title\n",
    "plt.xlabel('Predicted Footprints Counts')\n",
    "plt.ylabel('Ground Truth Footprints Counts')\n",
    "plt.title('Predicted vs Ground Truth Footprints Counts (100%)')\n",
    "\n",
    "# Show the plot\n",
    "plt.show()\n"
   ]
  },
  {
   "cell_type": "code",
   "execution_count": 28,
   "metadata": {},
   "outputs": [
    {
     "data": {
      "image/png": "[encoded data removed]",
      "text/plain": [
       "<Figure size 432x288 with 1 Axes>"
      ]
     },
     "metadata": {
      "needs_background": "light"
     },
     "output_type": "display_data"
    }
   ],
   "source": [
    "import matplotlib.pyplot as plt\n",
    "\n",
    "# Extract the data from the reads dictionaries\n",
    "predicted_counts = []\n",
    "ground_truth_counts = []\n",
    "\n",
    "\n",
    "for read in read_footprint_80:\n",
    "    predicted_counts.append(read_footprint_80[read][0])\n",
    "    ground_truth_counts.append(read_footprint_80[read][1])\n",
    "\n",
    "\n",
    "# Create the scatter plot\n",
    "plt.scatter(predicted_counts, ground_truth_counts)\n",
    "\n",
    "# Add labels and title\n",
    "plt.xlabel('Predicted Footprints Counts')\n",
    "plt.ylabel('Ground Truth Footprints Counts')\n",
    "plt.title('Predicted vs Ground Truth Footprints Counts (80%)')\n",
    "\n",
    "# Show the plot\n",
    "plt.show()\n"
   ]
  },
  {
   "cell_type": "code",
   "execution_count": 29,
   "metadata": {},
   "outputs": [
    {
     "data": {
      "image/png": "[encoded data removed]",
      "text/plain": [
       "<Figure size 432x288 with 1 Axes>"
      ]
     },
     "metadata": {
      "needs_background": "light"
     },
     "output_type": "display_data"
    }
   ],
   "source": [
    "import matplotlib.pyplot as plt\n",
    "\n",
    "# Extract the data from the reads dictionaries\n",
    "predicted_counts = []\n",
    "ground_truth_counts = []\n",
    "\n",
    "\n",
    "for read in read_footprint_50:\n",
    "    predicted_counts.append(read_footprint_50[read][0])\n",
    "    ground_truth_counts.append(read_footprint_50[read][1])\n",
    "\n",
    "# Create the scatter plot\n",
    "plt.scatter(predicted_counts, ground_truth_counts)\n",
    "\n",
    "# Add labels and title\n",
    "plt.xlabel('Predicted Footprints Counts')\n",
    "plt.ylabel('Ground Truth Footprints Counts')\n",
    "plt.title('Predicted vs Ground Truth Footprints Counts (50%)')\n",
    "\n",
    "# Show the plot\n",
    "plt.show()\n"
   ]
  },
  {
   "cell_type": "code",
   "execution_count": 30,
   "metadata": {},
   "outputs": [
    {
     "data": {
      "image/png": "[encoded data removed]",
      "text/plain": [
       "<Figure size 432x288 with 1 Axes>"
      ]
     },
     "metadata": {
      "needs_background": "light"
     },
     "output_type": "display_data"
    }
   ],
   "source": [
    "import matplotlib.pyplot as plt\n",
    "\n",
    "# Extract the data from the reads dictionaries\n",
    "predicted_counts = []\n",
    "ground_truth_counts = []\n",
    "\n",
    "\n",
    "for read in read_footprint_DE50:\n",
    "    predicted_counts.append(read_footprint_DE50[read][0])\n",
    "    ground_truth_counts.append(read_footprint_DE50[read][1])\n",
    "\n",
    "# Create the scatter plot\n",
    "plt.scatter(predicted_counts, ground_truth_counts)\n",
    "\n",
    "# Add labels and title\n",
    "plt.xlabel('Predicted Footprints Counts')\n",
    "plt.ylabel('Ground Truth Footprints Counts')\n",
    "plt.title('Predicted vs Ground Truth Footprints Counts (DE50%)')\n",
    "\n",
    "# Show the plot\n",
    "plt.show()\n"
   ]
  },
  {
   "cell_type": "markdown",
   "metadata": {},
   "source": [
    "### Old Code, will probably delete "
   ]
  },
  {
   "cell_type": "code",
   "execution_count": null,
   "metadata": {},
   "outputs": [],
   "source": [
    "# need to create fake reads to insert dummy -1 values at non A positions\n",
    "# mod_file = '/data16/liam/testing/HMM_test_data_30only.txt'\n",
    "# pred_file = '/data16/liam/testing/HMM_test_data_30only_pred.txt'\n",
    "# emission_mat = [0.97, 0.03]\n",
    "mod_file = '/data16/liam/testing/HMM_test_data_80.txt'\n",
    "pred_file = '/data16/liam/testing/HMM_test_data_80_pred.txt'\n",
    "# probability of linker mod, probability of footprint mod\n",
    "emission_mat = [0.8, 0.03]\n",
    "# mod_file = '/data16/liam/testing/HMM_test_data_50.txt'\n",
    "# pred_file = '/data16/liam/testing/HMM_test_data_50_pred.txt'\n",
    "# emission_mat = [0.5, 0.5]\n",
    "# mod_file = '/data16/liam/testing/HMM_test_data_25.txt'\n",
    "# pred_file = '/data16/liam/testing/HMM_test_data_25_pred.txt'\n",
    "# emission_mat = [0.25, 0.75]\n",
    "outDict = {}\n",
    "with open (mod_file) as mf:\n",
    "    with open(pred_file, 'w') as pf:\n",
    "        mod_map, read_dict = build_modification_map(mf, emission_mat)\n",
    "        \n",
    "        \n",
    "        for read, modList in mod_map.items():\n",
    "            # check that edits and ground truth are same length\n",
    "            assert len(read_dict[read][0]) == len(read_dict[read][1]), 'edits and ground truth are not the same length'\n",
    "\n",
    "            read_length = len(read_dict[read][0])\n",
    "            calling_vec = make_calling_vector(modList, read_length) \n",
    "\n",
    "            # initialize probability matrix\n",
    "            prob_mat = np.array([[0.0] * 31 for _ in range(read_length+1)]) \n",
    "            \n",
    "            # initialize pointer matrix\n",
    "            ptr_mat = np.array([[-1] * 31 for _ in range(read_length+1)])\n",
    "        \n",
    "\n",
    "            initial_rate = 1 / 31.0\n",
    "            log_initial_rate = math.log(initial_rate)\n",
    "\n",
    "\n",
    "            for j in range(0,31):\n",
    "                # initialize initial probability\n",
    "                prob_mat[1][j] = log_initial_rate\n",
    "                ptr_mat[1][j] = 0\n",
    "\n",
    "            for i in range(1, read_length+1): # changed to 1, read_length+1 from 2, read_length + 1\n",
    "                within_linker = 0.0\n",
    "                back_frm_ribosome = 0.0\n",
    "                # if i is not an A\n",
    "                if calling_vec[i] == -1: # calling vector is -1 at non A positions\n",
    "                    # within linker probability is same as previous\n",
    "                    within_linker = prob_mat[i-1][0]\n",
    "                    # if not in first row of matrix\n",
    "                    if prob_mat[i-1][30] != 0:\n",
    "                        back_frm_ribosome = prob_mat[i-1][30] \n",
    "\n",
    "                else:\n",
    "                    # i is an A\n",
    "                    k = int(calling_vec[i] * 100)\n",
    "                    # if k == 97:\n",
    "                    if k == emission_mat[0]*100: # mod\n",
    "                        within_linker = math.log(k) + prob_mat[i-1][0]\n",
    "                    # if k == 3:   \n",
    "                    if k == emission_mat[1]*100: # no mod\n",
    "                        if prob_mat[i-1][30] != 0:\n",
    "                            back_frm_ribosome = math.log(k) + prob_mat[i-1][30]\n",
    "                        \n",
    "                #if probability that we are in the footprint is greater than the probability that we are in the linker\n",
    "                if back_frm_ribosome != 0 and back_frm_ribosome > within_linker:\n",
    "                    prob_mat[i][0] = back_frm_ribosome\n",
    "                    ptr_mat[i][0] = 30 #update pointer matrix\n",
    "                # if the probability that the previous nucleotide was in the linker is greater\n",
    "                else:\n",
    "                    prob_mat[i][0] = within_linker\n",
    "                    ptr_mat[i][0] = 0\n",
    "\n",
    "                if calling_vec[i] == -1:\n",
    "                    prob_mat[i][1] = prob_mat[i - 1][0]\n",
    "                else:\n",
    "                    k = int(calling_vec[i] * 100)\n",
    "                    # prob_mat[i][1] = log_norm_density(calling_vec[i], k, 0.03) + prob_mat[i - 1][0]\n",
    "                    prob_mat[i][1] = math.log(k) + prob_mat[i - 1][0]\n",
    "                ptr_mat[i][1] = 0\n",
    "\n",
    "                for j in range(2, 31):\n",
    "                    if calling_vec[i] == -1:\n",
    "                        if prob_mat[i-1][j-1] != 0:\n",
    "                            prob_mat[i][j] = prob_mat[i-1][j-1]\n",
    "                    else:\n",
    "                        k = int(calling_vec[i] * 100)\n",
    "                        # k = 3\n",
    "                        if prob_mat[i-1][j-1] != 0:\n",
    "                            prob_mat[i][j] = math.log(k) + prob_mat[i-1][j-1]\n",
    "                            # prob_mat[i][j] = log_norm_density(calling_vec[i], k, 0.03) + prob_mat[i-1][j-1]\n",
    "                    if prob_mat[i][j] != 0:\n",
    "                        ptr_mat[i][j] = j-1\n",
    "            \n",
    "            # set max probability to super low number\n",
    "            max_prob = -10000000.0\n",
    "            # set max index to -1, which will be used to index the backtrack vector\n",
    "            max_index = -1\n",
    "            # iterate through the last row of the probability matrix to find the max probability\n",
    "            for j in range(31):\n",
    "                # if the probability of the last nucleotide being in the ribosome is greater than the max probability\n",
    "                if prob_mat[read_length][j] > max_prob:\n",
    "                    # set the max probability to the probability of the last nucleotide being in the ribosome\n",
    "                    max_prob = prob_mat[read_length][j]\n",
    "                    # set the max index to the index of the last nucleotide being in the ribosome\n",
    "                    max_index = j\n",
    "            \n",
    "            # initialize backtrack vector\n",
    "            backtrack_vec = []\n",
    "            # for i in range(read_length, 0, -1):\n",
    "            for i in range(len(ptr_mat)-1, 0, -1):\n",
    "                # append the max index to the backtrack vector\n",
    "                backtrack_vec.append(max_index)\n",
    "                # set the max index to the index of the previous nucleotide\n",
    "                max_index = ptr_mat[i-1][max_index] # added ptr_mat[i-1][max_index] instead of ptr_mat[i][max_index], Dec 21, 2023\n",
    "            # reverse the backtrack vector\n",
    "            backtrack_vec.reverse()\n",
    "            \n",
    "            pred = ''\n",
    "            \n",
    "            for i in range(len(backtrack_vec)):\n",
    "                if backtrack_vec[i] > 0:\n",
    "                    pred += 'y'\n",
    "                else:\n",
    "                    pred += 'x'\n",
    "\n",
    "            # #### Refine the prediction ####\n",
    "            # edits = read_dict[read][0]\n",
    "            # # print('read: ' + read)\n",
    "            # # print('unrefined pred: ')\n",
    "            # # print(pred)\n",
    "            # for i in range(len(pred)):\n",
    "            #     if pred[i] == 'y':\n",
    "            #         # get footprint length\n",
    "            #         footprint_length = 1\n",
    "            #         while pred[i+footprint_length] == 'y' and footprint_length <= 30:\n",
    "            #             footprint_length += 1\n",
    "            #         block = pred[i:i+footprint_length]\n",
    "            #         edit_block = edits[i:i+len(block)]\n",
    "            #         # if there is an edit in the footprint\n",
    "            #         if 1 in edit_block:\n",
    "            #             # if the edit is in the first half of the footprint\n",
    "            #             if edit_block[:len(edit_block)//2].count(1) > 0:\n",
    "            #                 # shift the footprint to the right\n",
    "            #                 shift = 1\n",
    "            #                 while pred[i+shift] == 'y':\n",
    "            #                     if edits[i+shift:i+shift+footprint_length].count(1) > 0:\n",
    "            #                         shift += 1\n",
    "            #                     else:\n",
    "            #                         break\n",
    "            #                 pred = pred[:i] + 'x'*shift + block + pred[i+shift+footprint_length:]\n",
    "            #             # if the edit is in the second half of the footprint\n",
    "            #             elif edit_block[len(edit_block)//2:].count(1) > 0:\n",
    "            #                 # shift the footprint to the left\n",
    "            #                 shift = 1\n",
    "            #                 while pred[i+footprint_length-shift] == 'y':\n",
    "            #                     if edits[i-shift:i-shift+footprint_length].count(1) > 0:\n",
    "            #                         shift += 1\n",
    "            #                     else:\n",
    "            #                         break\n",
    "            #                     shift += 1\n",
    "            #                 pred = pred[:i-shift] + block + 'x'*shift + pred[i+footprint_length:]\n",
    "\n",
    "                    # print('pred: ' )\n",
    "                    # print(pred)\n",
    "                    # print('true: ')\n",
    "                    # print(read_dict[read][1])\n",
    "                    # print('modifications: ')\n",
    "                    # print(''.join(str(i) for i in read_dict[read][0]))\n",
    "                    \n",
    "                    # assert len(pred) == len(read_dict[read][1]), 'prediction and ground truth are not the same length'\n",
    "            if len(pred) != len(read_dict[read][1]):\n",
    "                print('prediction and ground truth are not the same length')\n",
    "                print('pred: ')\n",
    "                print(pred)\n",
    "                print('true: ')\n",
    "                print(read_dict[read][1])\n",
    "                sys.exit()\n",
    "            outDict[read] = [pred, read_dict[read][1]]\n",
    "\n",
    "            \n",
    "            # assert len(pred) == len(read_dict[read][1]), 'prediction and ground truth are not the same length' \n",
    "            # print('pred:')\n",
    "            # print(pred)\n",
    "            # print('true:')\n",
    "            # print(read_dict[read][1])\n",
    "            # print('modifications:')\n",
    "            # print(''.join(str(i) for i in read_dict[read][0]))\n",
    "            \n",
    "            #### write transition matrix to file ####\n",
    "            # with open('/data16/liam/testing/transition_mat.txt', 'w') as tm:\n",
    "            #     tm.write('read_length: ' + str(len(read_dict[read][1])) + '\\t' + 'prediction_length: ' + str(len(pred)) + '\\t' + \n",
    "            #              'matrix_length: ' + str(ptr_mat.shape[0]) + '\\t'+ 'backtrack_vec: ' + str(len(backtrack_vec)) + '\\n')\n",
    "            #     tm.write(read)\n",
    "            #     tm.write('\\n')\n",
    "            #     tm.write('\\t'.join(str(i) for i in ptr_mat[0]))\n",
    "            #     tm.write('\\n')\n",
    "            #     tm.write('\\t'.join(str(i) for i in ptr_mat[1]) + '\\t' + str(calling_vec[0]) + '\\t' + read_dict[read][1][0] + '\\t' + pred[0] + '\\t' + str(backtrack_vec[0]))\n",
    "            #     tm.write('\\n')\n",
    "            #     for j in range(1, len(ptr_mat)):\n",
    "            #         tm.write('\\t'.join(str(i) for i in ptr_mat[j]) + '\\t' + str(calling_vec[j]) + '\\t' + read_dict[read][1][j-1] + '\\t' + pred[j-1] + '\\t' + str(backtrack_vec[j-1]))\n",
    "            #         tm.write('\\n')\n",
    "\n",
    "            #### write prediction to file ####\n",
    "            pf.write(read + '\\n')\n",
    "            pf.write('pred:' + '\\n')\n",
    "            pf.write(pred + '\\n')\n",
    "            pf.write('true:' + '\\n')\n",
    "            pf.write(read_dict[read][1] + '\\n')\n",
    "            pf.write('modifications:' + '\\n')\n",
    "            pf.write(''.join(str(i) for i in read_dict[read][0]) + '\\n')\n",
    "\n",
    "\n",
    "                \n",
    "        #### backtracking to produce bed coordinates ####\n",
    "        # # initialize variables to hold the start and end of the ribosome\n",
    "        # rib_start = 0\n",
    "        # rib_end = 0\n",
    "        # InRibosome = False\n",
    "        # print(backtrack_vec)\n",
    "        # for i in range(len(backtrack_vec)):\n",
    "        #     if backtrack_vec[i] > 0:\n",
    "        #         if not InRibosome:\n",
    "        #             # if the nucleotide is in the ribosome and the previous nucleotide was not in the ribosome\n",
    "                    \n",
    "        #             rib_start = i + 1\n",
    "        #             pred += 'x'*(i-rib_end)\n",
    "        #             InRibosome = True\n",
    "        #     else:\n",
    "        #         if InRibosome:\n",
    "        #             # if the nucleotide is not in the ribosome and the previous nucleotide was in the ribosome\n",
    "        #             rib_end = i + 1 \n",
    "        #             pred += 'y'*(rib_end-i)\n",
    "        #             InRibosome = False\n",
    "        # if InRibosome:\n",
    "        #     pred += 'y'*backtrack_vec[i]\n"
   ]
  }
 ],
 "metadata": {
  "kernelspec": {
   "display_name": "Python 3",
   "language": "python",
   "name": "python3"
  },
  "language_info": {
   "codemirror_mode": {
    "name": "ipython",
    "version": 3
   },
   "file_extension": ".py",
   "mimetype": "text/x-python",
   "name": "python",
   "nbconvert_exporter": "python",
   "pygments_lexer": "ipython3",
   "version": "3.8.10"
  }
 },
 "nbformat": 4,
 "nbformat_minor": 2
}
