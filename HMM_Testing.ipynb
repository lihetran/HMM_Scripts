{
 "cells": [
  {
   "cell_type": "code",
   "execution_count": 2,
   "metadata": {},
   "outputs": [],
   "source": [
    "import numpy as np\n",
    "import random"
   ]
  },
  {
   "cell_type": "markdown",
   "metadata": {},
   "source": [
    "# Let's Simulate Some Data\n",
    "### Test reads will be between 500 and 5000 nt long\n",
    "### Mods will be denoted as 1's and 0's are unmodified bases\n",
    "### These reads assume 100% modification of unprotected A's"
   ]
  },
  {
   "cell_type": "code",
   "execution_count": 2,
   "metadata": {},
   "outputs": [
    {
     "name": "stdout",
     "output_type": "stream",
     "text": [
      "{'seq': '00000100011100111000000101000000011000001000000011000000010000000010010010010000000001000000001010000001000000101110010001010101011000010000100000010000100101011000100000000000000000000001000001000001001000000010010000000100010000000000001100011000010000100000011111010000000100010000010000000011101000000010010100010101101000100000100100001010100101000000010000000110000000000010000001000100000010000010101000000001100000001100011100110010000000110100000101100010000001000010011010010100000010000010000001000000000000000000000000000111100000001110000000001000011010000001100101010010000000100100001000000110000010110100001000000000000001000011000000000000100000100101000000010000001010001010010000010011000101011001001010000000100000110010010100000110000000010000001000100110000010010001000000100001000000000000000000000000000000000000000010100101000000101000000000000010000010000000000000000000010001010100000000000100001100001000000100011000010001000110010100000001000001010000100000000101001001110000001000100000101000110000010100110100011000000110101000000011000010000010100010000110011001001000000101001000010001101100000111000000000100001000000000000000000000000000000000000000001010000000001001010000000000010100100000110000001101001001000010100000100010000110110100000000100010010100110100101000010001000100000010000100000010100001101000000010011010000010000100001000000000000000000000000000000101000000000000000000000000000000111000011000000000000001000100100000000010000000000111000001000001000000000000000000001000000100000001000000100100110000000111001001010100000100010000000001100101010111000001010110001000010000001111111100001100110100010100000010000000001001110100000000001001000000000001000010010010010110000000000000000000000000000000000000001000101000010100100000111010110000010000000100101000010100000000000000001000000000000100101001000100100000001000000100000000001000000010001000010110001010001000101000000000001010000000000100100000010000100010010001011100100000000000000000100000000011010100000000110011010000001010100001000100000010000000000000000000000000000000101110000111100001110011000001000110011100000000000000010100100000000100100001000010000000000000101000000000000000100000000001110000000000000000000000100000001101000000100000000000000000000000000000000000000001000001000100010000010001010101000000010000000000000101100000000000000100000001000001001000000001001000100000000000000100000000000100011010000000010000000001000010000100000000001001000000000011010100000000110010011000000001000110101000000001100000000000000000010000000000000000000000000000000001000000101100000010001000001001000000000000010010', 'ribosome_annot': 'xxxxxxxxxxxxxxxxxxxxxxxxxxxxxxxxxxxxxxxxxxxxxxxxxxxxxxxxxxxxxxxxxxxxxxxxxxxxxxxxxxxxxxxxxxxxxxxxxxxxxxxxxxxxxxxxxxxxxxxxxxxxxxxxxxxxxxxxxxxxxxxxxxxxxxxxxxxxxxxxxxxxxyyyyyyyyyyyyyyyyyyyyyyxxxxxxxxxxxxxxxxxxxxxxxxxxxxxxxxxxxxxxxxxxxxxxxxxxxxxxxxxxxxxxxxxxxxxxxxxxxxxxxxxxxxxxxxxxxxxxxxxxxxxxxxxxxxxxxxxxxxxxxxxxxxxxxxxxxxxxxxxxxxxxxxxxxxxxxxxxxxxxxxxxxxxxxxxxxxxxxxxxxxxxxxxxxxxxxxxxxxxxxxxxxxxxxxxxxxxxxxxxxxxxxxxxxxxxxxxxxxxxxxxxxxxxxxxxxxxxxxxxxxxxxxxxxxxxxxxxxxxxxxxxxxxxxxxxxxxxxxxxxxxxxxxxxxxxxxxxxxxxxxxxxyyyyyyyyyyyyyyyyyyyyyyyxxxxxxxxxxxxxxxxxxxxxxxxxxxxxxxxxxxxxxxxxxxxxxxxxxxxxxxxxxxxxxxxxxxxxxxxxxxxxxxxxxxxxxxxxxxxxxxxxxxxxxxxxxxxxxxxxxxxxxxxxxxxxxxxxxxxxxxxxxxxxxxxxxxxxxxxxxxxxxxxxxxxxxxxxxxxxxxxxxxxxxxxxxxxxxxxxxxxxxxxxxxxxxxxxxxxxxxxxxxxxxxxxxxxxxxxxxxxxxxxxxxxxxxxxxxxxxxxxxxxxxxxxxxxxyyyyyyyyyyyyyyyyyyyyyyyyyyyyyxxxxxxxxxxxxxxxxxxxxxxxxxxxxxxxxxxxxxxxxxxxxxxxxxxxxxxxxxxxxxxxxxxxxxxxxxxxxxxxxxxxxxxxxxxxxxxxxxxxxxxxxxxxxxxxxxxxxxxxxxxxxxxxxxxxxxxxxxxxxxxxxxxxxxxxxxxxxxxxxxxxxxxxxxxxxxxxxxxxxxxxxxxxxxxxxxxxxxxxxxxxxxxxxxxxxxxxxxxxxxxxxxxxxxxxxxxxxxxxxxxxxxxxxxxxxxxxxxxxxxxxxxxxxxxxxxxxxxxxxxxxxxxxxxxxxxxxxxxxxxxxxxxxxxxxxxxxxxxxxxxxxyyyyyyyyyyyyyyyyyyyyyyyyyyyxxxxxxxxxxxxxxxxxxxxxxxxxxxxxxxxxxxxxxxxxxxxxxxxxxxxxxxxxxxxxxxxxxxxxxxxxxxxxxxxxxxxxxxxxxxxxxxxxxxxxxxxxxxxxxxxxxxxxxxxxxxxxxxxxxxxxxxxxxxxxxxxxxxxxxxxxxxxxxxxxxxxxxxxxxxxxxxxxxxxxxxxxxxxxxxxxxxxxxxxxxxxxxxxxxxxxxxxxxxxxxxxyyyyyyyyyyyyyyyyyyyyyyyyyyxxxxxxxxxxxxxxxxxxxxxxxxxxxxxxxxxxxxxxxxxxxxxxxxxxxxxxxxxxxxxxxxxxxxxxxxxxxxxxxxxxxxxxxxxxxxxxxxxxxxxxxxxxxxxxxxxxxxxxxxxxxxxxxxxxxxxxxxxxxxxxxxxxxxxxxxxxxxxxxxxxxxxxxxxxxxxxxxxxxxxxxxxxxxxxxxxxxxxxxxxxxxxxxxxxxxxxxxxxxxxxxxxxxxxxxxxxxxxxxxxxxxxxxxxxxxxxxxxxxxxxxxxxxxxxxxxxxxxxxxxxxxxxxxxxxxxyyyyyyyyyyyyyyyyyyyyyyyyyyyyxxxxxxxxxxxxxxxxxxxxxxxxxxxxxxxxxxxxxxxxxxxxxxxxxxxxxxxxxxxxxxxxxxxxxxxxxxxxxxxxxxxxxxxxxxxxxxxxxxxxxxxxxxxxxxxxxxxxxxxxxxxxxxxxxxxxxxxxxxxxxxxxxxxxxxxxxxxxxxxxxxxxxxxxxxxxxxxxxxxxxxxxxxxxxxxxxxxxxxxxxxxxxxxxxxxxxxxxxxxxxxxxxxxxxxxxxxxxxxxxxxxxxxxxxxxxxxxxxxxxxxxxxxxxxxxxxxxxxxxxxxxxxxxxxxxxxxxxxxxxxxxxxxyyyyyyyyyyyyyyyyyyyyyyyyyyyyyxxxxxxxxxxxxxxxxxxxxxxxxxxxxxxxxxxxxxxxxxxxxxxxxxxxxxxxxxxxxxxxxxxxxxxxxxxxxxxxxxxxxxxxxxxxxxxxxxxxxxxxxxxxxxxxxxxxxxxxxxxxxxxxxxxxxxxxxxxxxxxxxxxxxxxxxxxxxxxxxxxxxxxxxxxxxxxxxxxxxxxxyyyyyyyyyyyyyyyyyyyyyyyyyyyyxxxxxxxxxxxxxxxxxxxxxxxxxxxxxxxxxxxxxxxxxxxxxxxxxxxxxxxxxxxxxxxxxxxxxxxxxxxxxxxxxxxxxxxxxxxxxxxxxxxxxxxxxxxxxxxxxxxxxxxxxxxxxxxxxxxxxxxxxxxxxxxxxxxxxxxxxxxxxxxxxxxxxxxxxxxxxxxxxxxxxxxxxxxxxxxxxxxxxxxxxxxxxxxxxxxxxxxxxxxxxxxxxxxxxxxxxxxxxxxxxxxxxxxxxxxxxxxxxxxxxxxyyyyyyyyyyyyyyyyyyyyyyyyyyyxxxxxxxxxxxxxxxxxxxxxxxxxxxxxxxxxxxxxxxxxxxxxxxxxxxxx', 'As': [5, 9, 10, 11, 14, 15, 16, 16, 23, 25, 33, 34, 34, 40, 40, 48, 49, 57, 57, 66, 69, 72, 75, 85, 94, 96, 96, 103, 110, 112, 113, 114, 117, 121, 123, 125, 127, 129, 130, 135, 140, 147, 152, 155, 157, 159, 160, 164, 181, 183, 184, 186, 187, 193, 199, 202, 210, 213, 221, 225, 238, 239, 243, 244, 249, 254, 261, 261, 262, 263, 264, 265, 267, 267, 275, 279, 285, 294, 295, 296, 298, 306, 309, 311, 311, 315, 317, 317, 319, 320, 322, 326, 332, 335, 340, 342, 344, 347, 349, 357, 365, 366, 378, 385, 389, 396, 402, 402, 404, 406, 415, 416, 424, 425, 425, 429, 430, 431, 434, 435, 435, 438, 446, 447, 449, 449, 455, 457, 458, 462, 469, 474, 474, 477, 478, 480, 483, 485, 492, 498, 505, 528, 529, 533, 534, 535, 536, 536, 544, 544, 545, 546, 556, 561, 562, 564, 564, 571, 572, 575, 577, 579, 582, 590, 593, 598, 605, 606, 612, 614, 615, 617, 622, 637, 642, 643, 656, 662, 665, 667, 667, 675, 682, 682, 684, 688, 690, 693, 699, 702, 703, 707, 709, 711, 712, 715, 718, 720, 728, 734, 735, 738, 741, 743, 743, 749, 750, 759, 766, 766, 770, 773, 774, 780, 783, 787, 794, 799, 809, 810, 812, 814, 819, 819, 823, 826, 829, 840, 842, 845, 847, 854, 856, 870, 876, 876, 876, 897, 901, 903, 903, 905, 917, 922, 923, 928, 935, 939, 940, 945, 949, 953, 954, 957, 959, 967, 973, 975, 980, 989, 991, 994, 997, 998, 999, 1006, 1010, 1016, 1018, 1022, 1023, 1029, 1029, 1029, 1031, 1031, 1034, 1035, 1037, 1041, 1042, 1049, 1050, 1052, 1054, 1062, 1063, 1068, 1074, 1076, 1080, 1085, 1086, 1086, 1089, 1090, 1093, 1096, 1103, 1105, 1108, 1113, 1117, 1118, 1120, 1121, 1127, 1128, 1129, 1139, 1144, 1171, 1179, 1186, 1188, 1198, 1201, 1203, 1215, 1217, 1220, 1226, 1227, 1234, 1234, 1234, 1235, 1237, 1240, 1243, 1248, 1250, 1256, 1260, 1260, 1265, 1266, 1268, 1269, 1271, 1280, 1284, 1287, 1289, 1292, 1293, 1295, 1295, 1298, 1300, 1305, 1309, 1313, 1320, 1325, 1332, 1334, 1339, 1340, 1342, 1350, 1353, 1354, 1356, 1362, 1367, 1372, 1403, 1405, 1406, 1408, 1414, 1425, 1430, 1431, 1436, 1437, 1438, 1443, 1444, 1459, 1459, 1463, 1466, 1476, 1487, 1488, 1489, 1489, 1495, 1501, 1522, 1529, 1537, 1544, 1544, 1547, 1550, 1551, 1559, 1560, 1561, 1564, 1567, 1569, 1571, 1577, 1581, 1591, 1592, 1595, 1597, 1599, 1601, 1602, 1603, 1609, 1609, 1611, 1613, 1614, 1618, 1623, 1630, 1631, 1632, 1633, 1634, 1634, 1635, 1636, 1637, 1642, 1643, 1646, 1647, 1649, 1653, 1655, 1662, 1672, 1675, 1676, 1677, 1679, 1690, 1693, 1705, 1710, 1713, 1713, 1716, 1719, 1721, 1722, 1728, 1730, 1737, 1742, 1762, 1766, 1768, 1773, 1775, 1778, 1784, 1784, 1785, 1786, 1788, 1790, 1791, 1797, 1805, 1808, 1808, 1810, 1815, 1817, 1834, 1847, 1850, 1850, 1852, 1855, 1855, 1859, 1862, 1870, 1877, 1888, 1896, 1900, 1905, 1905, 1907, 1908, 1912, 1914, 1918, 1922, 1924, 1936, 1938, 1949, 1952, 1959, 1964, 1968, 1971, 1975, 1977, 1978, 1979, 1982, 2000, 2010, 2010, 2010, 2011, 2013, 2015, 2024, 2025, 2028, 2029, 2031, 2038, 2040, 2042, 2047, 2051, 2058, 2058, 2059, 2062, 2063, 2067, 2068, 2077, 2085, 2090, 2092, 2093, 2094, 2099, 2099, 2099, 2100, 2101, 2102, 2107, 2108, 2109, 2112, 2113, 2119, 2123, 2124, 2127, 2127, 2128, 2129, 2145, 2147, 2150, 2159, 2162, 2167, 2172, 2186, 2188, 2204, 2215, 2216, 2217, 2240, 2248, 2249, 2251, 2258, 2272, 2275, 2279, 2280, 2282, 2287, 2292, 2293, 2298, 2299, 2305, 2309, 2313, 2319, 2323, 2325, 2327, 2329, 2337, 2351, 2351, 2353, 2354, 2369, 2377, 2383, 2386, 2395, 2395, 2398, 2402, 2417, 2429, 2433, 2434, 2436, 2445, 2455, 2460, 2465, 2476, 2476, 2479, 2490, 2491, 2493, 2495, 2504, 2505, 2508, 2511, 2512, 2521, 2525, 2526, 2528, 2530, 2539, 2540, 2559, 2559, 2569, 2570, 2571, 2573, 2593, 2600, 2602, 2603, 2610, 2610, 2614, 2614, 2620, 2623, 2623, 2637, 2637, 2640], 'ribosome_starts': [165, 510, 802, 1155, 1406, 1725, 2059, 2271, 2562]}\n"
     ]
    }
   ],
   "source": [
    "data_dict = {}\n",
    "\n",
    "# To simulate modified reads, we will use binary strings with 1s representing deaminated adenines and 0s representing non-deaminated adenines\n",
    "for i in range(0,1000):\n",
    "    # Generate a random length between 500 and 5000\n",
    "    length = np.random.randint(500, 5000)\n",
    "    # A's will make up ~25% of the sequence\n",
    "    num_As = int(length * .25)\n",
    "     \n",
    "    # print(length, num_As)\n",
    "    # Generate random locations for all A's\n",
    "    As = np.random.randint(0, length, num_As)\n",
    "    \n",
    "    # ribosomes will occupy 21-30 nt of the sequence, so we need random stretches of 21-30 nt without mods\n",
    "    # mods can only occur on A's\n",
    "    # Generate random locations for ribosomes, ribosomes will be 21-30 nt long and spaced ~150 nt apart\n",
    "    ribosome_starts = []\n",
    "    ribosome_ends = []\n",
    "    j = 0\n",
    "    while j < length - 30:\n",
    "        ribosome_spacing = np.random.randint(150, 200)\n",
    "        # ribosome_length = np.random.randint(21, 30)\n",
    "        start = np.random.randint(j, j+ribosome_spacing)\n",
    "        ribosome_starts.append(start)\n",
    "        # ribosome_ends.append(start + ribosome_length)\n",
    "        j = start + ribosome_spacing\n",
    "    # Generate the sequence\n",
    "    seq = '0'*length\n",
    "    seq2 = 'x'*length # this will denote the ribosome locations\n",
    "    for x in range(0, length):\n",
    "        ribosome_length = np.random.randint(21, 30)\n",
    "        if x in ribosome_starts:\n",
    "            # seq = seq[:x] + '0'*ribosome_length + seq[x+ribosome_length:]\n",
    "            seq2 = seq2[:x] + 'y'*ribosome_length + seq2[x+ribosome_length:]\n",
    "    \n",
    "    for k in As:\n",
    "        if seq2[k] != 'y':\n",
    "            seq = seq[:k] + '1' + seq[k+1:]        \n",
    "    \n",
    "    read_id = 'read_'+str(i)\n",
    "    As = list(As)\n",
    "    sorted_As = As.sort()\n",
    "    ribosome_starts = list(ribosome_starts)\n",
    "    sorted_ribosome_starts = ribosome_starts.sort()\n",
    "    data_dict[read_id] = {'seq': seq, 'ribosome_annot': seq2, 'As': As, 'ribosome_starts': ribosome_starts}\n",
    "    \n",
    "print(data_dict['read_0'])"
   ]
  },
  {
   "cell_type": "code",
   "execution_count": null,
   "metadata": {},
   "outputs": [],
   "source": [
    "f = open('/data16/liam/testing/HMM_test_data.txt', 'w')\n",
    "for read in data_dict:\n",
    "    f.write(read + '\\n' + data_dict[read]['seq'] + '\\n' + str(data_dict[read]['ribosome_annot']) + '\\n' + str(data_dict[read]['As'])[1:-1] + '\\n' + str(data_dict[read]['ribosome_starts'])[1:-1] + '\\n')"
   ]
  },
  {
   "cell_type": "markdown",
   "metadata": {},
   "source": [
    "## 50% Editing"
   ]
  },
  {
   "cell_type": "code",
   "execution_count": 9,
   "metadata": {},
   "outputs": [
    {
     "name": "stdout",
     "output_type": "stream",
     "text": [
      "{'seq': '01000000001000000000000000000000000001000000000010000000010100010001000000100000000000001000001000010000000000000000000000000000000000000000000110000000000100000000000000000000000000000000000000000000000010000110000000000000010100100000000000000110000000000000010000010000000100000000000000010000000100100000000000000000000000100000000000000000000000000000000000100000010000000000000010010000000000001000110000100110000000000010010000000001000000000000000000000101000000001010000000000000000010000010000000000100000000000000000000001001000000000000010000010000000000001001000010000000000000001100010000000010000000000010000000000001000000000000000000000000000000000000000000000000000000000000000100000010000010000010000000000000000001000000000000000000001100000000000000000000000000010000000000000100000000010000000010000000000000000000000000000010000000000000000000000000000000000000000000000000000110000001000100000001000001000010000001000000110100000001000100100000100000100001000110010011000010000000000000000000000001000100000000000011000100001000000000100000000001000000000000000000000000000000000011000000000000001000000000000000000000000000111010100000010010000000000000000000100100000000000000000000000011000000000000110000000000000000100000000000010000000000000000000010000000100000010010010010001000000101000010000000000000000000000000000000000100000000100000000010000000000100000001000001010000010000110000000001100101000000100001000001000100000000000100101000000000000100000000000000000100101100001000000000001110000000000000000000010000010011000000000100000000000001000000001110000000100000100000000000000000000000000000000000000000010001000000001000000000000000010000000000000000100100000000000000000010000000000000000000000000000000001000000000000000000100000010001001000000100010000000000000001000000111001000100000000100000000000001001001000000000001000010001000000010000000000000000000000000000110000000000000000000000000000010100000000000000000000000000000000000000000000000000010000000000000000001000000010000000000', 'ribosome_annot': 'xxxxxxxxxxxxxxxxxxxxxxxxxxxxxxxxxxxxxxxxxxxxxxxxxxxxxxxxxxxxxxxxxxxxxxxxxxxxxxxxxxxxxxxxxxxxxxxxxxxxyyyyyyyyyyyyyyyyyyyyyyyyyyyyyyxxxxxxxxxxxxxxxxxxxxxxxxxxxxxxxxxxxxxxxxxxxxxxxxxxxxxxxxxxxxxxxxxxxxxxxxxxxxxxxxxxxxxxxxxxxxxxxxxxxxxxxxxxxxxxxxxxxxxxxxxxxxxxxxxxxxxxxxxxxxxxxxxxxxxxxxxxxxxxxxxxxxxxxxxxxxxxxxxxxxxxxxxxxxxxxxxxxxxxxxxxyyyyyyyyyyyyyyyyyyyyyyyyyyyyyyxxxxxxxxxxxxxxxxxxxxxxxxxxxxxxxxxxxxxxxxxxxxxxxxxxxxxxxxxxxxxxxxxxxxxxxxxxxxxxxxxxxxxxxxxxxxxxxxxxxxxxxxxxxxxxxxxxxxxxxxxxxxxxxxxxxxxxxxxxxxxxxxxxxxxxxxxxxxxxxxxxxxxxxxxxxxxxxxxxxxxxxxxxxxxxxxxxxxxxxxxxxxxxxxxxxxxxxxxxxxxxxxxxxxxxxxxxxxxxxxxxxxxxxxxxxxxxxxxxxxxxxxxxxxxxxxxyyyyyyyyyyyyyyyyyyyyyyyyyyyyyyxxxxxxxxxxxxxxxxxxxxxxxxxxxxxxxxxxxxxxxxxxxxxxxxxxxxxxxxxxxxxxxxxxxxxxxxxxxxxxxxxxxxxxxxxxxxxxxxxxxxxxxxxxxxxxxxxxxxxxxxxxxxxxxxxxxxxxxxxxxxxxxxxxxxxxxxxxxxxxxxxxxxxxxxxxxxxxxxxxxxxxxxxxxyyyyyyyyyyyyyyyyyyyyyyyyyyyyyyxxxxxxxxxxxxxxxxxxxxxxxxxxxxxxxxxxxxxxxxxxxxxxxxxxxxxxxxxxxxxxxxxxxxxxxxxxxxxxxxxxxxxxxxxxxxxxxxxxxxxxxxxxxxxxxxxxxxxxxxxxxxxxxxxxxxxxxxxxxxxxxxxxxxxxxxxxxxxxxxxxxxxxxxxxxxxxxxxxxxxxxxxxxxyyyyyyyyyyyyyyyyyyyyyyyyyyyyyyxxxxxxxxxxxxxxxxxxxxxxxxxxxxxxxxxxxxxxxxxxxxxxxxxxxxxxxxxxxxxxxxxxxxxxxxxxxxxxxxxxxxxxxxxxxxxxxxxxxxxxxxxxxxxxxxxxxxxxxxxxxxxxxxxxxxxxxxxxxxxxxxxxxxxxxxxxxxxxxxxxxxxxxxxxxxxxxxxxxxxxxxxxxxxxxxxxxxxxxxxxxxxxxxxxxxxxxxxxxxxyyyyyyyyyyyyyyyyyyyyyyyyyyyyyyxxxxxxxxxxxxxxxxxxxxxxxxxxxxxxxxxxxxxxxxxxxxxxxxxxxxxxxxxxxxxxxxxxxxxxxxxxxxxxxxxxxxxxxxxxxxxxxxxxxxxxxxxxxxxxxxxxxxxxxxxxxxxxxxxxxxxxxxxxxxxxxxxxxxxxxxxxxxxxxxxxxxxxxxxxxxxxxxxxxxxxxxxxxxxxxxxxxxxxxxxxxxxxxxxxxxxxxxxxxxxxxxxxxxxxxxxxxxxxxxxxxxxxxxxxxxxxxxyyyyyyyyyyyyyyyyyyyyyyyyyyyyyyxxxxxxxxxxxxxxxxxxxxxxxxxxxxxxxxxxxxxxxxxxxxxxxxxxxxxxxxxxxxxxxxxxxxxxxxxxxxxxxxxxxxxxxxxxxxxxxxxxxxxxxxxxxxxxxxxxxxxxxxxxxxxxxxxxxxxxxxxxxxxxxxxxxxxxxxxxxxxxxxxxxxxxxxxxxxxxxxxxxxxxxxxxxxxxxxxxxxxxxxxxxxxxxxxxxxxxxxxxxxxxxxxxxxxxxxxxxxxxxxxxxxxxxxxxxxxxxxxxxxxxxxxxxxxxxxxxxxxxxxxxxxxxxxxxxxxxxxxxxxxxxxxxxxxxxxxxxxxxxxxxxxxxyyyyyyyyyyyyyyyyyyyyyyyyyyyyyyxxxxxxxxxxxxxxxxxxxxxxxxxxxxxxxxxxxxxxxxxxx', 'As': [1, 2, 8, 10, 24, 27, 37, 48, 49, 56, 57, 59, 62, 63, 64, 66, 67, 70, 74, 79, 85, 88, 94, 98, 99, 108, 111, 113, 114, 121, 124, 126, 128, 129, 133, 135, 139, 143, 144, 145, 146, 149, 152, 155, 159, 165, 169, 171, 173, 182, 184, 191, 192, 194, 202, 204, 209, 210, 219, 221, 225, 227, 230, 245, 246, 250, 252, 260, 261, 267, 275, 277, 278, 282, 291, 294, 299, 302, 305, 307, 310, 315, 323, 324, 326, 342, 345, 355, 356, 359, 362, 365, 367, 368, 369, 372, 373, 384, 387, 395, 400, 404, 405, 410, 413, 414, 426, 427, 429, 433, 439, 443, 445, 446, 453, 460, 461, 463, 465, 467, 470, 471, 472, 474, 476, 492, 498, 499, 504, 509, 511, 518, 519, 531, 532, 534, 535, 538, 541, 548, 549, 553, 555, 568, 571, 574, 575, 576, 577, 579, 580, 592, 593, 597, 602, 603, 604, 606, 607, 609, 613, 618, 621, 625, 631, 639, 646, 651, 654, 667, 669, 676, 684, 688, 695, 702, 707, 708, 712, 714, 722, 724, 733, 735, 743, 750, 754, 755, 769, 780, 781, 783, 786, 797, 805, 807, 816, 828, 834, 836, 842, 843, 844, 845, 846, 848, 852, 853, 857, 860, 861, 865, 874, 879, 883, 885, 890, 899, 900, 907, 911, 912, 913, 915, 919, 925, 930, 931, 937, 941, 943, 944, 945, 947, 948, 955, 959, 961, 962, 968, 974, 979, 983, 984, 986, 987, 990, 991, 992, 996, 998, 1000, 1004, 1012, 1013, 1021, 1025, 1038, 1039, 1043, 1044, 1047, 1048, 1055, 1057, 1058, 1063, 1069, 1072, 1073, 1078, 1083, 1087, 1088, 1092, 1104, 1105, 1119, 1120, 1122, 1133, 1138, 1140, 1141, 1148, 1149, 1150, 1152, 1153, 1154, 1161, 1164, 1168, 1170, 1182, 1184, 1187, 1188, 1191, 1200, 1212, 1213, 1218, 1226, 1227, 1228, 1229, 1238, 1241, 1244, 1257, 1261, 1262, 1272, 1278, 1281, 1284, 1286, 1292, 1293, 1296, 1299, 1302, 1306, 1308, 1313, 1315, 1320, 1323, 1324, 1325, 1328, 1330, 1332, 1337, 1338, 1339, 1345, 1349, 1355, 1364, 1365, 1367, 1368, 1374, 1378, 1381, 1385, 1393, 1399, 1400, 1401, 1404, 1407, 1408, 1411, 1412, 1413, 1417, 1420, 1421, 1423, 1424, 1427, 1429, 1433, 1434, 1435, 1436, 1438, 1441, 1442, 1447, 1450, 1451, 1452, 1453, 1463, 1466, 1467, 1468, 1477, 1481, 1487, 1499, 1501, 1502, 1503, 1504, 1505, 1506, 1507, 1509, 1510, 1511, 1522, 1523, 1524, 1537, 1538, 1542, 1545, 1551, 1554, 1555, 1565, 1579, 1580, 1588, 1589, 1590, 1592, 1593, 1598, 1599, 1603, 1604, 1606, 1608, 1622, 1626, 1630, 1635, 1641, 1647, 1651, 1660, 1677, 1694, 1697, 1699, 1705, 1711, 1716, 1717, 1718, 1721, 1728, 1737, 1739, 1750, 1758, 1766, 1768, 1769, 1776, 1780, 1782, 1783, 1790, 1794, 1795, 1806, 1810, 1817, 1818, 1819, 1822, 1826, 1833, 1835, 1842, 1849, 1852, 1854, 1855, 1856, 1867, 1870, 1872, 1876, 1884, 1885, 1886, 1888, 1895, 1898, 1913, 1914, 1919, 1920, 1923, 1932, 1934, 1937, 1940, 1944, 1946, 1958, 1963, 1964, 1968, 1969, 1974, 1976, 1978, 1980, 1982, 1990, 1992, 1995, 1998, 2000, 2005, 2015, 2017, 2025, 2026, 2030], 'ribosome_starts': [100, 332, 635, 852, 1070, 1321, 1607, 1963]}\n"
     ]
    }
   ],
   "source": [
    "data_dict_50 = {}\n",
    "\n",
    "# To simulate modified reads, we will use binary strings with 1s representing deaminated adenines and 0s representing non-deaminated adenines\n",
    "for i in range(0,1000):\n",
    "    # Generate a random length between 500 and 5000\n",
    "    length = np.random.randint(500, 5000)\n",
    "    # A's will make up ~25% of the sequence\n",
    "    num_As = int(length * .25)\n",
    "     \n",
    "    # print(length, num_As)\n",
    "    # Generate random locations for all A's\n",
    "    # As = np.random.randint(0, length, num_As)\n",
    "    As = np.random.choice(range(0, length), num_As, replace=False)\n",
    "    \n",
    "    # ribosomes will occupy 21-30 nt of the sequence, so we need random stretches of 21-30 nt without mods\n",
    "    # mods can only occur on A's\n",
    "    # Generate random locations for ribosomes, ribosomes will be 21-30 nt long and spaced ~150 nt apart\n",
    "    ribosome_starts = []\n",
    "    ribosome_ends = []\n",
    "    j = 0\n",
    "    while j < length - 30:\n",
    "        ribosome_spacing = np.random.randint(150, 200)\n",
    "        # ribosome_length = np.random.randint(21, 30)\n",
    "        start = np.random.randint(j, j+ribosome_spacing)\n",
    "        if start < length - 30:\n",
    "            ribosome_starts.append(start)\n",
    "        # ribosome_ends.append(start + ribosome_length)\n",
    "        j = start + ribosome_spacing\n",
    "    # Generate the sequence\n",
    "    seq = '0'*length\n",
    "    # seq2 = 'x'*length # this will denote the ribosome locations\n",
    "    seq2 = ''\n",
    "\n",
    "    x = 0\n",
    "    while x < length:   \n",
    "        ribosome_length = 30\n",
    "        if x in ribosome_starts:\n",
    "            # seq2 = seq2[:x] + 'y'*ribosome_length + seq2[x+ribosome_length:]\n",
    "            seq2 += 'y'*ribosome_length\n",
    "            x += ribosome_length\n",
    "        else:\n",
    "            seq2 += 'x'\n",
    "            x += 1\n",
    "    \n",
    "    for k in As:\n",
    "        if seq2[k] != 'y':\n",
    "            c = random.choice([0,1,2,3,4,5,6,7,8,9])\n",
    "            if c < 5:\n",
    "                seq = seq[:k] + '1' + seq[k+1:]\n",
    "            else:\n",
    "                seq = seq[:k] + '0' + seq[k+1:]\n",
    "       \n",
    "    assert len(seq) == len(seq2), 'lengths are not equal' \n",
    "\n",
    "\n",
    "    read_id = 'read_'+str(i)\n",
    "    As = list(As)\n",
    "    sorted_As = As.sort()\n",
    "    ribosome_starts = list(ribosome_starts)\n",
    "    sorted_ribosome_starts = ribosome_starts.sort()\n",
    "    data_dict_50[read_id] = {'seq': seq, 'ribosome_annot': seq2, 'As': As, 'ribosome_starts': ribosome_starts}\n",
    "    \n",
    "print(data_dict_50['read_0'])"
   ]
  },
  {
   "cell_type": "code",
   "execution_count": 12,
   "metadata": {},
   "outputs": [],
   "source": [
    "f = open('/data16/liam/testing/HMM_test_data_50.txt', 'w')\n",
    "for read in data_dict_50:\n",
    "    f.write(read + '\\n' + data_dict_50[read]['seq'] + '\\n' + str(data_dict_50[read]['ribosome_annot']) + '\\n' + str(data_dict_50[read]['As'])[1:-1] + '\\n' + str(data_dict_50[read]['ribosome_starts'])[1:-1] + '\\n')"
   ]
  },
  {
   "cell_type": "markdown",
   "metadata": {},
   "source": [
    "## Dual Editor, 100% modification of A's and C's"
   ]
  },
  {
   "cell_type": "code",
   "execution_count": 3,
   "metadata": {},
   "outputs": [
    {
     "name": "stdout",
     "output_type": "stream",
     "text": [
      "{'seq': '101111000010110000011110101010001010111010110100101010101010011000010001101100001001011111101001111011011010100110011010100010000000000000000000000000000000111001110111110010111001010101111110011101110110000011100111001111000101000000101101110010111110100101100000100010110001001000001110100110101000010100101011111010110011001111000100011011011010011000111011111010001111000011010110111110110100010111100011000100011001110001110101010000110000000000000000000000000000000010010011010110010000101110110010110101011001011100100111111101110000001101001011011010010101000010000011001110001000000000100010001101011010111100011101001100110101010010010101100011010001011000010011010110101010010000000000000000000000000000000001000100110100000111111000011110000011011110100001101110111001100110110101010111100100110011100110101000011110101111011001101100111011100011010101000000000000000000000000000000111001011000011111001001011000100100100100010100010011101111111000110000010000110000101011110100001111010110010110001000011110100001001100011111111111100100001101001011001001000000100110110010110101110000001110010110111000001000000000000000000000000000000000001011100001111010110001111000110011010001111010100011100111100011100010100100011111011001110011010111101110110101010101111001111111110001001000010100011111001100111111000000001110100000001010011110010110000001010100001000110101011101110110100111000010000010111000110010100110101000000000000000000000000000000101001101110000111011011011100000101101010000111000011101011101101001101100110001000001001100100111010100110101011111111001000000010011011001010001001110000100101111110001110100110000110110001001001101001010001010001001111110001000110011101001010000001110101000000000000000000000000000000010100111011011100101111001101100111100010000011010001100110000101101110111001010100010110110001101001011101100011011010111000000001110111010011001010001110100010110101101010011001100101011100110110110111111100001110100011001001000000000000000000000000000000001111011011011010110010001101110001010011101111011111010101100100010001100101101101100100010100111101001011010001011101101111111000011000110000100110001111000000100011101111111101011010001110100111011100000011101110101000010111001101', 'ribosome_annot': 'xxxxxxxxxxxxxxxxxxxxxxxxxxxxxxxxxxxxxxxxxxxxxxxxxxxxxxxxxxxxxxxxxxxxxxxxxxxxxxxxxxxxxxxxxxxxxxxxxxxxxxxxxxxxxxxxxxxxxxxxxxxxxyyyyyyyyyyyyyyyyyyyyyyyyyyyyyyxxxxxxxxxxxxxxxxxxxxxxxxxxxxxxxxxxxxxxxxxxxxxxxxxxxxxxxxxxxxxxxxxxxxxxxxxxxxxxxxxxxxxxxxxxxxxxxxxxxxxxxxxxxxxxxxxxxxxxxxxxxxxxxxxxxxxxxxxxxxxxxxxxxxxxxxxxxxxxxxxxxxxxxxxxxxxxxxxxxxxxxxxxxxxxxxxxxxxxxxxxxxxxxxxxxxxxxxxxxxxxxxxxxxxxxxxxxxxxxxxxxxxxxxxxxxxxxxxxxxxxxxxxxxxxxxxxxxxxxxxxxxxyyyyyyyyyyyyyyyyyyyyyyyyyyyyyyxxxxxxxxxxxxxxxxxxxxxxxxxxxxxxxxxxxxxxxxxxxxxxxxxxxxxxxxxxxxxxxxxxxxxxxxxxxxxxxxxxxxxxxxxxxxxxxxxxxxxxxxxxxxxxxxxxxxxxxxxxxxxxxxxxxxxxxxxxxxxxxxxxxxxxxxxxxxxxxxxxxxxxxxxxxxxxxxxxxxxxxxxxxxxxxxxxxxxxxxxxxxxxxxxxxxxxxxyyyyyyyyyyyyyyyyyyyyyyyyyyyyyyxxxxxxxxxxxxxxxxxxxxxxxxxxxxxxxxxxxxxxxxxxxxxxxxxxxxxxxxxxxxxxxxxxxxxxxxxxxxxxxxxxxxxxxxxxxxxxxxxxxxxxxxxxxxxxxxxxxxxxxxxxxxxxxxxxxxxxxxxxxxxxxxxxxxyyyyyyyyyyyyyyyyyyyyyyyyyyyyyyxxxxxxxxxxxxxxxxxxxxxxxxxxxxxxxxxxxxxxxxxxxxxxxxxxxxxxxxxxxxxxxxxxxxxxxxxxxxxxxxxxxxxxxxxxxxxxxxxxxxxxxxxxxxxxxxxxxxxxxxxxxxxxxxxxxxxxxxxxxxxxxxxxxxxxxxxxxxxxxxxxxxxxxxxxxxxxxxxxxxxxxxxxxxxxxxxxxxxxxxxxxxxxxxxxxxxxxxxxxxxxxxxxyyyyyyyyyyyyyyyyyyyyyyyyyyyyyyxxxxxxxxxxxxxxxxxxxxxxxxxxxxxxxxxxxxxxxxxxxxxxxxxxxxxxxxxxxxxxxxxxxxxxxxxxxxxxxxxxxxxxxxxxxxxxxxxxxxxxxxxxxxxxxxxxxxxxxxxxxxxxxxxxxxxxxxxxxxxxxxxxxxxxxxxxxxxxxxxxxxxxxxxxxxxxxxxxxxxxxxxxxxxxxxxxxxxxxxxxxxxxxxxxxxxxxxxxxxxxxxxxxxxxxxxxxxxxxxxxxxxxxxxxxxxxxxxxxxxxxxxxxxxxxxxxxxxxxxxyyyyyyyyyyyyyyyyyyyyyyyyyyyyyyxxxxxxxxxxxxxxxxxxxxxxxxxxxxxxxxxxxxxxxxxxxxxxxxxxxxxxxxxxxxxxxxxxxxxxxxxxxxxxxxxxxxxxxxxxxxxxxxxxxxxxxxxxxxxxxxxxxxxxxxxxxxxxxxxxxxxxxxxxxxxxxxxxxxxxxxxxxxxxxxxxxxxxxxxxxxxxxxxxxxxxxxxxxxxxxxxxxxxxxxxxxxxxxxxxxxxxxxxxxxxxxxxxxxxxxxxxxxxxxxxxxxxxxxxxxxxxxxxxxyyyyyyyyyyyyyyyyyyyyyyyyyyyyyyxxxxxxxxxxxxxxxxxxxxxxxxxxxxxxxxxxxxxxxxxxxxxxxxxxxxxxxxxxxxxxxxxxxxxxxxxxxxxxxxxxxxxxxxxxxxxxxxxxxxxxxxxxxxxxxxxxxxxxxxxxxxxxxxxxxxxxxxxxxxxxxxxxxxxxxxxxxxxxxxxxxxxxxxxxxxxxxxxxxxxxxxxxxxxxxxxxxxxxxxxxxxxxxxxxxxxxxxxxxxxxxxxxxyyyyyyyyyyyyyyyyyyyyyyyyyyyyyyxxxxxxxxxxxxxxxxxxxxxxxxxxxxxxxxxxxxxxxxxxxxxxxxxxxxxxxxxxxxxxxxxxxxxxxxxxxxxxxxxxxxxxxxxxxxxxxxxxxxxxxxxxxxxxxxxxxxxxxxxxxxxxxxxxxxxxxxxxxxxxxxxxxxxxxxxxxxxxxxxxxxxxxxxxxxxxxxxxxxxxxxxxxxxxxxxxxxxxxxxxxxxxxxxxxxxxxxxxxxxxxxxxxxxxxxxx', 'editable_sites': [0, 2, 3, 4, 5, 10, 12, 13, 19, 20, 21, 22, 24, 26, 28, 32, 34, 36, 37, 38, 40, 42, 43, 45, 48, 50, 52, 54, 56, 58, 61, 62, 67, 71, 72, 74, 75, 80, 83, 85, 86, 87, 88, 89, 90, 92, 95, 96, 97, 98, 100, 101, 103, 104, 106, 108, 111, 112, 115, 116, 118, 120, 124, 125, 126, 129, 132, 134, 137, 138, 142, 145, 147, 152, 153, 154, 156, 157, 158, 161, 162, 163, 165, 166, 167, 168, 169, 172, 174, 175, 176, 179, 181, 183, 185, 186, 187, 188, 189, 190, 193, 194, 195, 197, 198, 199, 201, 202, 208, 209, 210, 213, 214, 215, 218, 219, 220, 221, 225, 227, 234, 236, 237, 239, 240, 241, 244, 246, 247, 248, 249, 250, 252, 255, 257, 258, 264, 268, 270, 271, 275, 278, 284, 285, 286, 288, 291, 292, 294, 296, 301, 303, 306, 308, 310, 311, 312, 313, 314, 316, 318, 319, 322, 323, 326, 327, 328, 329, 333, 337, 338, 340, 341, 343, 344, 346, 349, 350, 354, 355, 356, 358, 359, 360, 361, 362, 364, 368, 369, 370, 371, 376, 377, 379, 381, 382, 384, 385, 386, 387, 388, 390, 391, 393, 397, 399, 400, 401, 402, 406, 407, 411, 415, 416, 419, 420, 421, 425, 426, 427, 429, 431, 433, 438, 439, 440, 446, 448, 449, 450, 455, 459, 460, 461, 463, 465, 468, 469, 472, 475, 478, 479, 481, 483, 484, 487, 492, 494, 495, 496, 498, 499, 502, 504, 505, 507, 509, 511, 512, 515, 517, 518, 519, 522, 525, 526, 527, 528, 529, 530, 531, 533, 534, 535, 542, 543, 545, 548, 550, 551, 553, 554, 556, 559, 561, 563, 568, 574, 575, 578, 579, 580, 584, 594, 598, 602, 603, 605, 607, 608, 610, 612, 613, 614, 615, 619, 620, 621, 623, 626, 627, 630, 631, 633, 635, 637, 640, 643, 645, 647, 648, 652, 653, 655, 659, 661, 662, 667, 670, 671, 673, 675, 676, 678, 680, 682, 685, 687, 688, 690, 694, 695, 696, 698, 701, 702, 704, 705, 707, 709, 710, 713, 714, 715, 719, 723, 726, 727, 729, 735, 736, 737, 738, 739, 740, 745, 746, 747, 748, 754, 755, 757, 758, 759, 760, 762, 767, 768, 770, 771, 772, 774, 775, 776, 779, 780, 783, 784, 786, 787, 789, 791, 793, 795, 796, 797, 798, 801, 804, 805, 808, 809, 810, 813, 814, 816, 818, 823, 824, 825, 826, 828, 830, 831, 832, 833, 835, 836, 839, 840, 842, 843, 846, 847, 848, 850, 851, 852, 856, 857, 859, 861, 863, 864, 867, 870, 871, 873, 874, 875, 877, 880, 881, 883, 884, 886, 887, 889, 892, 894, 895, 896, 899, 901, 902, 907, 908, 909, 910, 911, 914, 917, 919, 920, 924, 927, 930, 933, 937, 939, 943, 946, 947, 948, 950, 951, 952, 953, 954, 955, 956, 960, 961, 967, 972, 973, 978, 980, 982, 983, 984, 985, 987, 992, 993, 994, 995, 997, 999, 1000, 1003, 1005, 1006, 1010, 1015, 1016, 1017, 1018, 1020, 1025, 1028, 1029, 1033, 1034, 1035, 1036, 1037, 1038, 1039, 1040, 1041, 1042, 1043, 1044, 1047, 1052, 1053, 1055, 1058, 1060, 1061, 1064, 1067, 1074, 1077, 1078, 1080, 1081, 1084, 1086, 1087, 1089, 1091, 1092, 1093, 1100, 1101, 1102, 1105, 1107, 1108, 1110, 1111, 1112, 1118, 1120, 1122, 1125, 1127, 1128, 1133, 1137, 1142, 1143, 1144, 1145, 1146, 1148, 1149, 1154, 1156, 1157, 1158, 1163, 1164, 1165, 1166, 1168, 1170, 1171, 1175, 1176, 1177, 1178, 1182, 1183, 1186, 1187, 1189, 1193, 1194, 1195, 1196, 1198, 1200, 1204, 1205, 1206, 1209, 1210, 1211, 1212, 1216, 1217, 1218, 1222, 1224, 1227, 1231, 1232, 1233, 1234, 1235, 1237, 1238, 1241, 1242, 1243, 1246, 1247, 1249, 1251, 1252, 1253, 1254, 1256, 1257, 1258, 1260, 1261, 1263, 1265, 1267, 1269, 1271, 1272, 1273, 1274, 1277, 1278, 1279, 1280, 1281, 1282, 1283, 1284, 1285, 1289, 1292, 1297, 1299, 1303, 1304, 1305, 1306, 1307, 1310, 1311, 1314, 1315, 1316, 1317, 1318, 1319, 1328, 1329, 1330, 1332, 1340, 1342, 1345, 1346, 1347, 1348, 1351, 1353, 1354, 1361, 1363, 1365, 1370, 1374, 1375, 1377, 1379, 1381, 1382, 1383, 1385, 1386, 1387, 1389, 1390, 1392, 1395, 1396, 1397, 1402, 1408, 1410, 1411, 1412, 1416, 1417, 1420, 1422, 1425, 1426, 1428, 1430, 1431, 1433, 1434, 1436, 1437, 1443, 1448, 1450, 1452, 1453, 1454, 1455, 1456, 1457, 1458, 1460, 1461, 1463, 1466, 1467, 1469, 1470, 1471, 1476, 1477, 1478, 1480, 1481, 1483, 1484, 1486, 1487, 1488, 1494, 1496, 1497, 1499, 1501, 1506, 1507, 1508, 1513, 1514, 1515, 1517, 1519, 1520, 1521, 1523, 1524, 1526, 1529, 1530, 1532, 1533, 1536, 1537, 1541, 1547, 1550, 1551, 1554, 1557, 1558, 1559, 1561, 1563, 1566, 1567, 1569, 1571, 1573, 1574, 1575, 1576, 1577, 1578, 1579, 1580, 1583, 1591, 1594, 1595, 1597, 1598, 1601, 1603, 1607, 1610, 1611, 1612, 1617, 1620, 1622, 1623, 1624, 1625, 1626, 1627, 1631, 1632, 1633, 1635, 1638, 1639, 1644, 1645, 1647, 1648, 1652, 1655, 1658, 1659, 1661, 1664, 1666, 1670, 1672, 1676, 1679, 1680, 1681, 1682, 1683, 1684, 1688, 1692, 1693, 1696, 1697, 1698, 1700, 1703, 1705, 1712, 1713, 1714, 1716, 1718, 1720, 1722, 1723, 1730, 1733, 1734, 1736, 1738, 1741, 1743, 1744, 1745, 1748, 1750, 1752, 1755, 1756, 1757, 1759, 1760, 1762, 1763, 1764, 1767, 1769, 1770, 1771, 1772, 1775, 1776, 1778, 1779, 1782, 1783, 1784, 1785, 1789, 1795, 1796, 1798, 1802, 1803, 1806, 1807, 1812, 1814, 1815, 1817, 1818, 1819, 1821, 1822, 1823, 1826, 1828, 1830, 1834, 1836, 1837, 1839, 1840, 1844, 1845, 1847, 1850, 1852, 1853, 1854, 1856, 1857, 1861, 1862, 1864, 1865, 1867, 1869, 1870, 1871, 1880, 1881, 1882, 1884, 1885, 1886, 1888, 1891, 1892, 1895, 1897, 1901, 1902, 1903, 1905, 1909, 1911, 1912, 1914, 1916, 1917, 1919, 1921, 1924, 1925, 1928, 1929, 1932, 1934, 1936, 1937, 1938, 1941, 1942, 1944, 1945, 1947, 1948, 1950, 1951, 1952, 1953, 1954, 1955, 1956, 1961, 1962, 1963, 1965, 1969, 1970, 1973, 1976, 1977, 1979, 1980, 1982, 1984, 1985, 1987, 1989, 1992, 1995, 1997, 1998, 1999, 2002, 2006, 2009, 2010, 2011, 2012, 2014, 2015, 2017, 2018, 2020, 2021, 2023, 2025, 2026, 2029, 2033, 2034, 2036, 2037, 2038, 2042, 2044, 2047, 2048, 2049, 2051, 2052, 2053, 2054, 2056, 2057, 2058, 2059, 2060, 2062, 2064, 2066, 2067, 2070, 2074, 2078, 2079, 2082, 2084, 2085, 2087, 2088, 2090, 2091, 2094, 2098, 2100, 2103, 2104, 2105, 2106, 2108, 2111, 2113, 2114, 2116, 2120, 2122, 2123, 2124, 2126, 2127, 2129, 2130, 2131, 2132, 2133, 2134, 2135, 2140, 2141, 2145, 2146, 2151, 2154, 2155, 2159, 2160, 2161, 2162, 2169, 2173, 2174, 2175, 2177, 2178, 2179, 2180, 2181, 2182, 2183, 2184, 2186, 2188, 2189, 2191, 2195, 2196, 2197, 2199, 2202, 2203, 2204, 2206, 2207, 2208, 2215, 2216, 2217, 2219, 2220, 2221, 2223, 2225, 2230, 2232, 2233, 2234, 2237, 2238, 2240], 'ribosome_starts': [125, 440, 686, 864, 1120, 1431, 1720, 1977, 2309]}\n"
     ]
    }
   ],
   "source": [
    "data_dict_AC = {}\n",
    "\n",
    "# To simulate modified reads, we will use binary strings with 1s representing deaminated adenines and 0s representing non-deaminated adenines\n",
    "for i in range(0,1000):\n",
    "    # Generate a random length between 500 and 5000\n",
    "    length = np.random.randint(500, 5000)\n",
    "    # A's will make up ~25% of the sequence\n",
    "    num_AandCs = int(length * .5)\n",
    "    \n",
    "    # print(length, num_As)\n",
    "    # Generate random locations for all A's\n",
    "    # ACs = np.random.randint(0, length, num_AandCs)\n",
    "    ACs = np.random.choice(range(0, length), num_AandCs, replace=False)\n",
    "    \n",
    "    # ribosomes will occupy 21-30 nt of the sequence, so we need random stretches of 21-30 nt without mods\n",
    "    # mods can only occur on A's\n",
    "    # Generate random locations for ribosomes, ribosomes will be 21-30 nt long and spaced ~150 nt apart\n",
    "    ribosome_starts = []\n",
    "    ribosome_ends = []\n",
    "    j = 0\n",
    "    while j < length - 30:\n",
    "        ribosome_spacing = np.random.randint(150, 200)\n",
    "        # ribosome_length = np.random.randint(21, 30)\n",
    "        start = np.random.randint(j, j+ribosome_spacing)\n",
    "        ribosome_starts.append(start)\n",
    "        # ribosome_ends.append(start + ribosome_length)\n",
    "        j = start + ribosome_spacing\n",
    "    # Generate the sequence\n",
    "    seq = '0'*length\n",
    "    seq2 = 'x'*length # this will denote the ribosome locations\n",
    "    for x in range(0, length):\n",
    "        # ribosome_length = np.random.randint(21, 30)\n",
    "        ribosome_length = 30\n",
    "        if x in ribosome_starts:\n",
    "            # seq = seq[:x] + '0'*ribosome_length + seq[x+ribosome_length:]\n",
    "            seq2 = seq2[:x] + 'y'*ribosome_length + seq2[x+ribosome_length:]\n",
    "    \n",
    "    for k in ACs:\n",
    "        if seq2[k] != 'y':\n",
    "            seq = seq[:k] + '1' + seq[k+1:]        \n",
    "    \n",
    "    read_id = 'read_'+str(i)\n",
    "    ACs = list(ACs)\n",
    "    sorted_ACs = ACs.sort()\n",
    "    ribosome_starts = list(ribosome_starts)\n",
    "    sorted_ribosome_starts = ribosome_starts.sort()\n",
    "    data_dict_AC[read_id] = {'seq': seq, 'ribosome_annot': seq2, 'editable_sites': ACs, 'ribosome_starts': ribosome_starts}\n",
    "    \n",
    "print(data_dict_AC['read_0'])"
   ]
  },
  {
   "cell_type": "code",
   "execution_count": 11,
   "metadata": {},
   "outputs": [],
   "source": [
    "f = open('/data16/liam/testing/HMM_test_data_AC.txt', 'w')\n",
    "for read in data_dict_AC:\n",
    "    f.write(read + '\\n' + data_dict_AC[read]['seq'] + '\\n' + str(data_dict_AC[read]['ribosome_annot']) + '\\n' + str(data_dict_AC[read]['editable_sites'])[1:-1] + '\\n' + str(data_dict_AC[read]['ribosome_starts'])[1:-1] + '\\n')"
   ]
  },
  {
   "cell_type": "markdown",
   "metadata": {},
   "source": [
    "## Dual Editor, 50% modification of A's and C's "
   ]
  },
  {
   "cell_type": "code",
   "execution_count": 5,
   "metadata": {},
   "outputs": [
    {
     "name": "stdout",
     "output_type": "stream",
     "text": [
      "0011000000011010000100000001011001000010000010000000000000000000000000000000000000001011001000010000000000000000001001001000011000100010001101100000001000000100100001000000001011010000101100010110000100010000000000010000100001000001000100000000000000011000100000000000001110001001000000000001000000100000010000000000000100100000000011000000001100100000000000000000000000000000000000000000000000000001001000000110001100010000000000001000000001000000000000100011100000010001001000000000000100010000000011001001000000010000010010001101010001000001010000001011111000000100000000000000000000000000000000000100000000000000101000000100001000101101001100001110100000000100000000000000100001000110100001111000010000010100001000000000101000101000000000001010100000001100000000100001001010000000000000000000000000000000000000000101100010011000001100100000010001001000100100110000010001001010110001011000000000011000000000110100000000000100011011000000100011100010000101111101010001100000000000001000101000000010000100000000010100000000000000000000000000000000001001010000000101101100111000010000000100001001000000000001010001110000000010011000000100010000100000010000001010010010000000011100011000010100000011000010010100100100000001010001000000000101100000001110000001011101000100010100010000000010001000001000000000000000000000000000000001000010101000000101001000000010001000100110011001000010000010010110001100000010001010000000001000100011010000000000000010000001010101000000011001000010000000000010100100011001000000100100000000000000000000000000000000100000000000000000000001000100000100010000111000010001110001000010100011000101100100000111110010011010011100111000100010110110000000010010000000000001101010000010011001000010000000100001100100101111100001010000110000000000000000000000000000000000000000000010001001000110000110010100100000110000100101010101011101010001001010010011000000010001010000110000010000000000001101101011000000000000000000000000000000001000100001000100000101000101001011110000000000001110001000100010010000000000000001010000100000000000100101100010100000001001111000010100010100000010011001000000011010001000010001110010001010000000010100010001000010100100000000001000100010000100000000000000000100000000000000000000000000000011001000001000001000000001000000011000100001000010000100111100000000000001000000001110101000001010011110010010000000011000010000010001001000000010000001000000100100100001010011001101011010000000000000000000000000000000001000000011010000001000101000000110000110100000000110110000000011001100011000000000010110110100010010100000000110100000000010000010001001010000001001101000001000000000011000000000100010100100000000001100000000010100000010010000010010100101000010110000010000000000001100001100001000001100010000000000000000000000000000000100000100000001000000000101000010000000110001000000010000100000000001101100101000000100100000100000000101000001110010000000000010000000000000011010100001000000000011000100001000000000010000101100010001000000100000000001100010010100001000010000000000000000000000000000000001100001000010011100100010100000100000000000100000000001101010001001100010011000001000000000000000000010000001000001000000000000100001000001010000000000010000100000010000100101010000000000000001111010110100000011110000000010100011010000010000100001000001000011010001100\n",
      "[0, 2, 3, 7, 9, 10, 11, 12, 13, 14, 16, 18, 19, 20, 26, 27, 29, 30, 32, 33, 35, 38, 41, 43, 44, 45, 49, 50, 51, 54, 55, 57, 58, 59, 60, 61, 62, 64, 65, 67, 71, 75, 77, 78, 80, 81, 83, 84, 86, 87, 89, 90, 92, 93, 95, 100, 102, 103, 105, 106, 111, 112, 114, 115, 116, 117, 120, 121, 125, 126, 129, 130, 134, 138, 139, 141, 142, 147, 149, 150, 151, 153, 154, 157, 158, 159, 160, 165, 169, 172, 173, 174, 175, 176, 177, 178, 179, 184, 186, 187, 189, 190, 191, 193, 194, 195, 198, 199, 201, 202, 203, 210, 212, 215, 220, 221, 222, 225, 226, 229, 231, 232, 233, 234, 235, 240, 245, 246, 249, 251, 252, 256, 258, 259, 261, 263, 265, 268, 270, 271, 272, 273, 274, 276, 277, 279, 282, 285, 289, 291, 293, 298, 302, 304, 305, 307, 310, 312, 315, 316, 317, 319, 320, 322, 323, 325, 330, 331, 332, 333, 334, 342, 343, 344, 346, 348, 349, 354, 355, 357, 362, 363, 364, 365, 366, 369, 371, 375, 381, 382, 383, 388, 389, 390, 391, 395, 398, 399, 400, 401, 402, 404, 406, 408, 409, 410, 411, 414, 415, 417, 419, 421, 425, 426, 428, 430, 432, 434, 441, 445, 448, 449, 450, 453, 454, 455, 456, 458, 459, 460, 466, 467, 471, 473, 474, 475, 486, 487, 490, 491, 493, 496, 497, 499, 500, 501, 502, 503, 504, 506, 507, 508, 515, 517, 520, 521, 524, 525, 526, 527, 528, 529, 531, 532, 533, 535, 537, 538, 539, 540, 543, 545, 547, 548, 551, 552, 554, 555, 556, 557, 558, 561, 562, 564, 565, 567, 571, 573, 575, 576, 577, 579, 580, 581, 583, 586, 592, 593, 595, 596, 599, 601, 603, 608, 610, 615, 616, 618, 619, 625, 627, 628, 630, 631, 634, 636, 637, 639, 642, 643, 648, 649, 650, 652, 654, 656, 657, 658, 661, 663, 664, 669, 672, 673, 675, 676, 679, 681, 685, 686, 687, 688, 693, 694, 695, 696, 698, 699, 700, 701, 703, 705, 707, 708, 709, 714, 715, 721, 724, 725, 726, 730, 732, 733, 734, 738, 739, 742, 743, 744, 745, 746, 748, 752, 753, 756, 757, 760, 764, 765, 766, 771, 772, 773, 774, 776, 778, 782, 785, 786, 789, 790, 792, 799, 802, 810, 812, 813, 814, 816, 817, 818, 819, 820, 823, 824, 827, 828, 834, 835, 838, 840, 845, 847, 849, 852, 854, 856, 859, 860, 862, 863, 864, 865, 868, 869, 871, 873, 874, 876, 878, 880, 881, 882, 885, 887, 888, 889, 890, 893, 894, 897, 899, 900, 902, 907, 910, 911, 912, 913, 916, 918, 925, 927, 928, 929, 930, 932, 933, 936, 937, 938, 939, 940, 942, 943, 944, 945, 946, 949, 950, 952, 955, 957, 958, 959, 960, 961, 962, 963, 964, 965, 969, 970, 975, 976, 978, 981, 984, 987, 988, 990, 993, 996, 998, 999, 1003, 1005, 1007, 1008, 1012, 1013, 1014, 1015, 1019, 1020, 1022, 1024, 1025, 1028, 1029, 1030, 1032, 1033, 1034, 1035, 1036, 1039, 1040, 1048, 1050, 1051, 1053, 1054, 1055, 1056, 1057, 1059, 1060, 1062, 1063, 1064, 1065, 1066, 1068, 1069, 1072, 1073, 1074, 1076, 1077, 1078, 1079, 1080, 1081, 1085, 1086, 1087, 1089, 1092, 1095, 1099, 1100, 1101, 1102, 1103, 1104, 1107, 1109, 1113, 1114, 1115, 1118, 1120, 1121, 1122, 1124, 1126, 1127, 1128, 1132, 1134, 1135, 1138, 1139, 1140, 1143, 1144, 1145, 1146, 1148, 1149, 1151, 1156, 1158, 1160, 1161, 1163, 1164, 1165, 1166, 1167, 1174, 1175, 1176, 1177, 1178, 1179, 1181, 1182, 1185, 1187, 1189, 1191, 1194, 1196, 1197, 1199, 1202, 1205, 1206, 1207, 1209, 1210, 1213, 1216, 1221, 1223, 1224, 1225, 1226, 1227, 1229, 1234, 1236, 1237, 1239, 1240, 1241, 1246, 1248, 1249, 1250, 1254, 1255, 1256, 1257, 1259, 1260, 1261, 1263, 1267, 1269, 1271, 1272, 1273, 1275, 1276, 1277, 1279, 1283, 1286, 1290, 1292, 1296, 1299, 1301, 1302, 1306, 1307, 1311, 1312, 1314, 1316, 1320, 1322, 1324, 1325, 1327, 1328, 1329, 1330, 1331, 1334, 1335, 1336, 1337, 1338, 1340, 1345, 1346, 1347, 1350, 1351, 1355, 1356, 1358, 1361, 1362, 1363, 1366, 1367, 1369, 1370, 1373, 1374, 1377, 1378, 1382, 1384, 1388, 1389, 1391, 1393, 1394, 1396, 1398, 1399, 1401, 1404, 1406, 1407, 1408, 1409, 1410, 1412, 1413, 1414, 1415, 1416, 1418, 1420, 1422, 1426, 1430, 1431, 1433, 1438, 1441, 1443, 1448, 1449, 1450, 1452, 1453, 1455, 1457, 1459, 1461, 1463, 1467, 1468, 1469, 1470, 1472, 1473, 1474, 1478, 1483, 1487, 1490, 1492, 1493, 1495, 1498, 1499, 1500, 1503, 1504, 1506, 1507, 1510, 1512, 1513, 1514, 1517, 1518, 1519, 1521, 1522, 1523, 1524, 1531, 1532, 1533, 1534, 1535, 1537, 1539, 1543, 1545, 1546, 1547, 1549, 1561, 1562, 1563, 1566, 1567, 1569, 1571, 1573, 1574, 1579, 1581, 1583, 1585, 1588, 1589, 1590, 1591, 1594, 1595, 1599, 1600, 1601, 1603, 1605, 1610, 1612, 1614, 1615, 1616, 1617, 1621, 1623, 1624, 1626, 1627, 1632, 1633, 1634, 1635, 1636, 1637, 1640, 1643, 1644, 1646, 1649, 1650, 1651, 1652, 1653, 1654, 1655, 1656, 1657, 1660, 1664, 1665, 1666, 1667, 1669, 1670, 1675, 1676, 1677, 1679, 1682, 1684, 1689, 1695, 1696, 1698, 1700, 1706, 1708, 1709, 1710, 1713, 1714, 1715, 1716, 1718, 1720, 1722, 1723, 1724, 1726, 1731, 1732, 1735, 1736, 1737, 1738, 1739, 1740, 1741, 1742, 1743, 1744, 1749, 1751, 1753, 1756, 1757, 1758, 1762, 1763, 1764, 1767, 1769, 1770, 1774, 1775, 1776, 1781, 1782, 1784, 1787, 1789, 1790, 1791, 1796, 1800, 1801, 1802, 1806, 1809, 1813, 1814, 1815, 1819, 1820, 1823, 1824, 1825, 1828, 1829, 1834, 1835, 1836, 1837, 1840, 1843, 1845, 1847, 1848, 1849, 1851, 1853, 1854, 1855, 1857, 1859, 1860, 1863, 1865, 1866, 1868, 1869, 1871, 1874, 1875, 1880, 1883, 1885, 1887, 1888, 1889, 1891, 1892, 1894, 1895, 1896, 1899, 1901, 1902, 1903, 1914, 1915, 1917, 1918, 1920, 1922, 1923, 1924, 1925, 1926, 1927, 1928, 1930, 1931, 1932, 1933, 1936, 1937, 1938, 1939, 1940, 1942, 1943, 1945, 1949, 1951, 1952, 1954, 1955, 1956, 1958, 1960, 1961, 1963, 1965, 1966, 1969, 1971, 1972, 1975, 1976, 1977, 1978, 1980, 1981, 1983, 1986, 1987, 1988, 1989, 1990, 1991, 1997, 2002, 2004, 2005, 2006, 2007, 2010, 2011, 2014, 2018, 2021, 2023, 2025, 2029, 2031, 2037, 2039, 2041, 2044, 2045, 2046, 2048, 2051, 2053, 2054, 2056, 2058, 2059, 2060, 2061, 2062, 2063, 2065, 2066, 2068, 2069, 2075, 2076, 2079, 2080, 2081, 2082, 2086, 2087, 2089, 2091, 2093, 2094, 2095, 2100, 2102, 2105, 2106, 2107, 2109, 2111, 2112, 2115, 2116, 2117, 2118, 2120, 2122, 2124, 2128, 2129, 2130, 2131, 2132, 2133, 2134, 2135, 2136, 2138, 2139, 2142, 2144, 2153, 2154, 2155, 2159, 2161, 2162, 2163, 2165, 2166, 2167, 2168, 2169, 2170, 2171, 2173, 2179, 2184, 2188, 2189, 2192, 2194, 2197, 2199, 2202, 2205, 2206, 2208, 2209, 2215, 2219, 2220, 2223, 2225, 2227, 2228, 2229, 2232, 2233, 2234, 2237, 2239, 2241, 2246, 2247, 2250, 2251, 2253, 2254, 2256, 2258, 2259, 2260, 2262, 2266, 2271, 2276, 2278, 2279, 2280, 2281, 2283, 2284, 2285, 2288, 2289, 2293, 2294, 2296, 2299, 2300, 2302, 2303, 2304, 2305, 2308, 2310, 2313, 2315, 2317, 2319, 2323, 2325, 2326, 2328, 2329, 2330, 2332, 2334, 2335, 2340, 2342, 2345, 2346, 2347, 2348, 2351, 2353, 2354, 2356, 2359, 2363, 2364, 2368, 2369, 2374, 2375, 2379, 2382, 2384, 2385, 2389, 2390, 2391, 2392, 2395, 2396, 2397, 2398, 2402, 2403, 2404, 2405, 2407, 2408, 2409, 2410, 2413, 2415, 2417, 2418, 2420, 2421, 2424, 2425, 2426, 2427, 2429, 2430, 2432, 2439, 2440, 2442, 2443, 2446, 2448, 2456, 2457, 2459, 2463, 2464, 2466, 2471, 2473, 2474, 2475, 2477, 2480, 2482, 2484, 2488, 2489, 2490, 2493, 2495, 2497, 2498, 2499, 2500, 2501, 2503, 2504, 2505, 2506, 2508, 2509, 2515, 2516, 2517, 2518, 2519, 2523, 2524, 2525, 2528, 2529, 2532, 2533, 2534, 2537, 2538, 2539, 2540, 2542, 2547, 2549, 2550, 2551, 2552, 2554, 2555, 2556, 2557, 2559, 2561, 2563, 2564, 2566, 2571, 2573, 2575, 2576, 2577, 2578, 2581, 2585, 2588, 2591, 2594, 2597, 2598, 2601, 2603, 2604, 2606, 2607, 2610, 2612, 2613, 2614, 2616, 2619, 2620, 2622, 2624, 2627, 2631, 2633, 2634, 2638, 2639, 2640, 2643, 2644, 2646, 2648, 2649, 2650, 2652, 2653, 2654, 2655, 2660, 2661, 2662, 2664, 2665, 2669, 2673, 2675, 2677, 2678, 2679, 2681, 2684, 2687, 2688, 2689, 2690, 2691, 2693, 2695, 2696, 2697, 2698, 2699, 2700, 2701, 2703, 2704, 2708, 2710, 2711, 2712, 2714, 2715, 2717, 2718, 2721, 2724, 2725, 2728, 2730, 2731, 2732, 2733, 2736, 2737, 2742, 2744, 2746, 2748, 2749, 2753, 2755, 2757, 2759, 2761, 2767, 2768, 2769, 2770, 2771, 2772, 2773, 2774, 2775, 2777, 2778, 2781, 2785, 2788, 2791, 2793, 2795, 2799, 2803, 2804, 2806, 2807, 2809, 2810, 2811, 2816, 2817, 2819, 2822, 2824, 2825, 2826, 2829, 2831, 2833, 2835, 2837, 2839, 2841, 2842, 2845, 2846, 2848, 2849, 2853, 2854, 2855, 2856, 2857, 2860, 2861, 2862, 2866, 2867, 2869, 2870, 2872, 2873, 2878, 2880, 2886, 2887, 2889, 2895, 2896, 2897, 2899, 2900, 2904, 2906, 2907, 2912, 2916, 2918, 2919, 2922, 2925, 2927, 2928, 2929, 2930, 2932, 2937, 2939, 2943, 2945, 2946, 2948, 2949, 2951, 2953, 2954, 2955, 2958, 2959, 2963, 2966, 2968, 2969, 2974, 2976, 2977, 2981, 2985, 2987, 2988, 2992, 2994, 2995, 2999, 3002, 3003, 3004, 3008, 3010, 3011, 3013, 3016, 3017, 3018, 3019, 3021, 3023, 3024, 3028, 3029, 3033, 3034, 3036, 3038, 3039, 3041, 3042, 3043, 3044, 3045, 3048, 3049, 3052, 3054, 3057, 3058, 3061, 3062, 3063, 3065, 3068, 3070, 3071, 3072, 3073, 3076, 3079, 3080, 3081, 3082, 3083, 3085, 3088, 3092, 3100, 3103, 3104, 3105, 3106, 3107, 3111, 3112, 3114, 3116, 3117, 3119, 3120, 3121, 3122, 3123, 3124, 3125, 3127, 3128, 3129, 3131, 3132, 3135, 3138, 3141, 3142, 3144, 3146, 3147, 3156, 3158, 3165, 3169, 3171, 3174, 3182, 3184, 3189, 3195, 3197, 3198, 3200, 3201, 3203, 3207, 3209, 3214, 3216, 3219, 3220, 3221, 3226, 3229, 3231, 3233, 3239, 3240, 3241, 3249, 3250, 3251, 3252, 3254, 3256, 3257, 3259, 3261, 3262, 3263, 3266, 3267, 3268, 3269, 3270, 3272, 3275, 3277, 3278, 3280, 3281, 3282, 3283, 3284, 3285, 3287, 3289, 3292, 3293, 3296, 3297, 3298, 3299, 3301, 3303, 3308, 3309, 3310, 3314, 3315, 3317, 3318, 3320, 3321, 3322, 3324]\n",
      "xxxxxxxxxxxxxxxxxxxxxxxxxxxxxxxxxxxxxxxxxxxxxxxxxxxxyyyyyyyyyyyyyyyyyyyyyyyyyyyyyyxxxxxxxxxxxxxxxxxxxxxxxxxxxxxxxxxxxxxxxxxxxxxxxxxxxxxxxxxxxxxxxxxxxxxxxxxxxxxxxxxxxxxxxxxxxxxxxxxxxxxxxxxxxxxxxxxxxxxxxxxxxxxxxxxxxxxxxxxxxxxxxxxxxxxxxxxxxxxxxxxxxxxxxxxxxxxxxxxxxxxxxxxxxxxxxxxxxxxxxxxxxxxxxxxxxxxxxxxxxxxxxxxxxxxxxxxxxxxxxxxxxxxxxxxxxxxxxxxxxxxxxxxxxxxxxyyyyyyyyyyyyyyyyyyyyyyyyyyyyyyxxxxxxxxxxxxxxxxxxxxxxxxxxxxxxxxxxxxxxxxxxxxxxxxxxxxxxxxxxxxxxxxxxxxxxxxxxxxxxxxxxxxxxxxxxxxxxxxxxxxxxxxxxxxxxxxxxxxxxxxxxxxxxxxxxxxxxxxxxxxxxxxxxxxxxxxxxxxxxxxxxxxxxxxxxxxxxxxxxxxxxxxxyyyyyyyyyyyyyyyyyyyyyyyyyyyyyyxxxxxxxxxxxxxxxxxxxxxxxxxxxxxxxxxxxxxxxxxxxxxxxxxxxxxxxxxxxxxxxxxxxxxxxxxxxxxxxxxxxxxxxxxxxxxxxxxxxxxxxxxxxxxxxxxxxxxxxxxxxxxxxxxxxxxxxxxxxxxxxxxxxxxxxxxxxxxxxxxxxxxxxxxxxxxxxxxxxxxxxxxxxyyyyyyyyyyyyyyyyyyyyyyyyyyyyyyxxxxxxxxxxxxxxxxxxxxxxxxxxxxxxxxxxxxxxxxxxxxxxxxxxxxxxxxxxxxxxxxxxxxxxxxxxxxxxxxxxxxxxxxxxxxxxxxxxxxxxxxxxxxxxxxxxxxxxxxxxxxxxxxxxxxxxxxxxxxxxxxxxxxxxxxxxxxxxxxxxxxxxxxxxxxxxxxxxxxxxxxxxxxxxxxxxxxxxxxxyyyyyyyyyyyyyyyyyyyyyyyyyyyyyyxxxxxxxxxxxxxxxxxxxxxxxxxxxxxxxxxxxxxxxxxxxxxxxxxxxxxxxxxxxxxxxxxxxxxxxxxxxxxxxxxxxxxxxxxxxxxxxxxxxxxxxxxxxxxxxxxxxxxxxxxxxxxxxxxxxxxxxxxxxxxxxxxxxxxxxxxxxxxxxxxxxxxxxxxxxxxxxxxxxxxxxxxxxxxxxxxxxxxxxxxxxxxxxxxxxxxxxxxxxxxxxxxxxxxxxxxxxxxxxxxxxxxxxxxxxyyyyyyyyyyyyyyyyyyyyyyyyyyyyyyxxxxxxxxxxxxxxxxxxxxxxxxxxxxxxxxxxxxxxxxxxxxxxxxxxxxxxxxxxxxxxxxxxxxxxxxxxxxxxxxxxxxxxxxxxxxxxxxxxxxxxxxxxxxxxxxxxxxxxxxxxxxxxxxxxxxxxxxxxxxxxxxxxxxxxxxxxxxxxxxxxxxxxxxxxxxxxxxxxxxxxxxxxxxyyyyyyyyyyyyyyyyyyyyyyyyyyyyyyxxxxxxxxxxxxxxxxxxxxxxxxxxxxxxxxxxxxxxxxxxxxxxxxxxxxxxxxxxxxxxxxxxxxxxxxxxxxxxxxxxxxxxxxxxxxxxxxxxxxxxxxxxxxxxxxxxxxxxxxxxxxxxxxxxxxxxxxxxxxxxxxxxxxxxxxxxxxxxxxxxxxxxxxxxxxxxxxxxxxxxxxxxxxxxxxxxxxxxxxxxxxxxxxxxxxxxyyyyyyyyyyyyyyyyyyyyyyyyyyyyyyxxxxxxxxxxxxxxxxxxxxxxxxxxxxxxxxxxxxxxxxxxxxxxxxxxxxxxxxxxxxxxxxxxxxxxxxxxxxxxxxxxxxxxxxxxxxxxxxxxxxxxxxxxxxxxxxxxxxxxxxxxxxxxxxxxxxxxxxyyyyyyyyyyyyyyyyyyyyyyyyyyyyyyxxxxxxxxxxxxxxxxxxxxxxxxxxxxxxxxxxxxxxxxxxxxxxxxxxxxxxxxxxxxxxxxxxxxxxxxxxxxxxxxxxxxxxxxxxxxxxxxxxxxxxxxxxxxxxxxxxxxxxxxxxxxxxxxxxxxxxxxxxxxxxxxxxxxxxxxxxxxxxxxxxxxxxxxxxxxxxxxxxxxxxxxxxxxxxxxxxxxxxxxxxxxxxxxxxxxxxxxxxxxxxxxxxxxxxxxxxxxxxxxxxxxxxxxxxxxxxxxxxxxxyyyyyyyyyyyyyyyyyyyyyyyyyyyyyyxxxxxxxxxxxxxxxxxxxxxxxxxxxxxxxxxxxxxxxxxxxxxxxxxxxxxxxxxxxxxxxxxxxxxxxxxxxxxxxxxxxxxxxxxxxxxxxxxxxxxxxxxxxxxxxxxxxxxxxxxxxxxxxxxxxxxxxxxxxxxxxxxxxxxxxxxxxxxxxxxxxxxxxxxxxxxxxxxxxxxxxxxxxxxyyyyyyyyyyyyyyyyyyyyyyyyyyyyyyxxxxxxxxxxxxxxxxxxxxxxxxxxxxxxxxxxxxxxxxxxxxxxxxxxxxxxxxxxxxxxxxxxxxxxxxxxxxxxxxxxxxxxxxxxxxxxxxxxxxxxxxxxxxxxxxxxxxxxxxxxxxxxxxxxxxxxxxxxxxxxxxxxxxxxxxxxxxxxxxxxxxxxxxxxxxxxxxxxxxxxxxxxxxxxxxxxxxxxxxxxxxxxxxxxxxxxxxxxxxxxxxxxxxxxxxxxxxxxxxxxxxxxxxxxxxxxxxxxxxxxxxxxxxxxxxxxxxxxxxxxxxxxxxxyyyyyyyyyyyyyyyyyyyyyyyyyyyyyyxxxxxxxxxxxxxxxxxxxxxxxxxxxxxxxxxxxxxxxxxxxxxxxxxxxxxxxxxxxxxxxxxxxxxxxxxxxxxxxxxxxxxxxxxxxxxxxxxxxxxxxxxxxxxxxxxxxxxxxxxxxxxxxxxxxxxxxxxxxxxxxxxxxxxxxxxxxxxxxxxxxxxxxxxxxxxxxxxxxxxxxxxxxxxxxxxxxxxxxxxxxxxxxxxxxxxxxxxxxxxxxxxxxxxxxxxxxxxxxxyyyyyyyyyyyyyyyyyyyyyyyyyyyyyyxxxxxxxxxxxxxxxxxxxxxxxxxxxxxxxxxxxxxxxxxxxxxxxxxxxxxxxxxxxxxxxxxxxxxxxxxxxxxxxxxxxxxxxxxxxxxxxxxxxxxxxxxxxxxxxxxxxxxxxxxxxxxxxxxxxxxxxxxxxxxxxxxxxxxxxxxxxxxxxxxxxxxxxxxxxxxxxxxxxxxxxxxxxxxxxxxxxxxxxxxxxxxxxxxxxxxxxxxxxxxxxxxxxxxxxxxxxxxxxxxxxxxxxxxxxxxxxxxxxxxxxxxxxxxxx\n"
     ]
    }
   ],
   "source": [
    "data_dict_AC50 = {}\n",
    "\n",
    "# To simulate modified reads, we will use binary strings with 1s representing deaminated adenines and 0s representing non-deaminated adenines\n",
    "for i in range(0,1000):\n",
    "    # Generate a random length between 500 and 5000\n",
    "    length = np.random.randint(500, 5000)\n",
    "    # A's will make up ~25% of the sequence\n",
    "    num_ACs = int(length * .5)\n",
    "     \n",
    "    # print(length, num_As)\n",
    "    # Generate random locations for all A's\n",
    "    # As = np.random.randint(0, length, num_As)\n",
    "    ACs = np.random.choice(range(0, length), num_ACs, replace=False)\n",
    "    \n",
    "    # ribosomes will occupy 21-30 nt of the sequence, so we need random stretches of 21-30 nt without mods\n",
    "    # mods can only occur on A's\n",
    "    # Generate random locations for ribosomes, ribosomes will be 21-30 nt long and spaced ~150 nt apart\n",
    "    ribosome_starts = []\n",
    "    ribosome_ends = []\n",
    "    j = 0\n",
    "    while j < length - 30:\n",
    "        ribosome_spacing = np.random.randint(150, 200)\n",
    "        # ribosome_length = np.random.randint(21, 30)\n",
    "        start = np.random.randint(j, j+ribosome_spacing)\n",
    "        if start < length - 30:\n",
    "            ribosome_starts.append(start)\n",
    "        # ribosome_ends.append(start + ribosome_length)\n",
    "        j = start + ribosome_spacing\n",
    "    # Generate the sequence\n",
    "    seq = '0'*length\n",
    "    # seq2 = 'x'*length # this will denote the ribosome locations\n",
    "    seq2 = ''\n",
    "\n",
    "    x = 0\n",
    "    while x < length:   \n",
    "        ribosome_length = 30\n",
    "        if x in ribosome_starts:\n",
    "            # seq2 = seq2[:x] + 'y'*ribosome_length + seq2[x+ribosome_length:]\n",
    "            seq2 += 'y'*ribosome_length\n",
    "            x += ribosome_length\n",
    "        else:\n",
    "            seq2 += 'x'\n",
    "            x += 1\n",
    "    \n",
    "    for k in ACs:\n",
    "        if seq2[k] != 'y':\n",
    "            c = random.choice([0,1,2,3,4,5,6,7,8,9])\n",
    "            if c < 5:\n",
    "                seq = seq[:k] + '1' + seq[k+1:]\n",
    "            else:\n",
    "                seq = seq[:k] + '0' + seq[k+1:]\n",
    "       \n",
    "    assert len(seq) == len(seq2), 'lengths are not equal' \n",
    "\n",
    "\n",
    "    read_id = 'read_'+str(i)\n",
    "    ACs = list(ACs)\n",
    "    sorted_ACs = ACs.sort()\n",
    "    ribosome_starts = list(ribosome_starts)\n",
    "    sorted_ribosome_starts = ribosome_starts.sort()\n",
    "    data_dict_AC50[read_id] = {'seq': seq, 'ribosome_annot': seq2, 'editable_sites': ACs, 'ribosome_starts': ribosome_starts}\n",
    "    \n",
    "print(data_dict_AC50['read_0']['seq'])\n",
    "print(data_dict_AC50['read_0']['editable_sites'])\n",
    "print(data_dict_AC50['read_0']['ribosome_annot'])"
   ]
  },
  {
   "cell_type": "code",
   "execution_count": 6,
   "metadata": {},
   "outputs": [],
   "source": [
    "f = open('/data16/liam/testing/HMM_test_data_AC50.txt', 'w')\n",
    "for read in data_dict_AC50:\n",
    "    f.write(read + '\\n' + data_dict_AC50[read]['seq'] + '\\n' + str(data_dict_AC50[read]['ribosome_annot']) + '\\n' + str(data_dict_AC50[read]['editable_sites'])[1:-1] + '\\n' + str(data_dict_AC50[read]['ribosome_starts'])[1:-1] + '\\n')"
   ]
  },
  {
   "cell_type": "markdown",
   "metadata": {},
   "source": [
    "## 80% Editing "
   ]
  },
  {
   "cell_type": "code",
   "execution_count": 4,
   "metadata": {},
   "outputs": [
    {
     "name": "stdout",
     "output_type": "stream",
     "text": [
      "{'seq': '000000000000000000000000000000101001101010000010010100010000000000000000000101010000000000000000000000000011000100100000000100000100000100000001001010000000000100010000000001000010000000000100010000000000000001100001000000010000101000010011000100001000101110010100000100100000100000000000000000000001000000001110000000000001100100100000010000000010001000000000000000000000000000000001000011000100100000000010001010101000000001000000000001000000011000000001000000000000000000000000001000000000100010110100100000011100000000000100000000100000100000000000100010000001100000001000000011010110111000010100110000100100000000000000000000000000000000000000000001010010000000010000000000100000001000111000100000010000000001111101001000000000101000000000111000000010000100000000000000000000110000000000000000000000100000110000100001000000000100100100000000000000000000000000000000000000000001000011010100001100001000000000001000001000100100000010000000001000000000100000000001100000000000100100001000100000001000001000110001000000000000000000000100000000000010000000000000010001000000000000000000000000110011000011100001000010010000100111101000010000000100000000000101000000000000001000000001010000000000000000000000000000000000100010101000100010000000000000000001000000000010000000001000100110100000001000100000000101000000110010000000000000000010000000000100000000000000000110101000000000101100001010000100001000000110000110000011001000110001000001010001100100000000000011010101110010010100000000000000000000000000000000001000000010000110001000001000000000001000000000001010010000100000000100000100000000000000000000000000001001010001000000000000000100100000000000000000110000000000000000000000000000000000000000001010000000000000010000000000010001000100010010001000100000100000010000001010000010001000000011010001001000100001100', 'ribosome_annot': 'yyyyyyyyyyyyyyyyyyyyyyyyyyyyyyxxxxxxxxxxxxxxxxxxxxxxxxxxxxxxxxxxxxxxxxxxxxxxxxxxxxxxxxxxxxxxxxxxxxxxxxxxxxxxxxxxxxxxxxxxxxxxxxxxxxxxxxxxxxxxxxxxxxxxxxxxxxxxxxxxxxxxxxxxxxxxxxxxxxxxxxxxxxxxxxxxxxxxxxxxxxxxxxxxxxxxxxxxxxxxxxxxxxxxxxxxxxxxxxxxxxxxxxxxxxxxxxxxxxxxxxxxxxxxxxxxxxxxxxxxxxxxxxxxxxxxxxxxxxxxxxxxxxxxxxxxxxxxxxxxxxxxxxxxxxxxxxxxxxxxxxxxxxxxxxxxxyyyyyyyyyyyyyyyyyyyyyyyyyyyyyyxxxxxxxxxxxxxxxxxxxxxxxxxxxxxxxxxxxxxxxxxxxxxxxxxxxxxxxxxxxxxxxxxxxxxxxxxxxxxxxxxxxxxxxxxxxxxxxxxxxxxxxxxxxxxxxxxxxxxxxxxxxxxxxxxxxxxxxxxxxxxxxxxxxxxxxxxxxxxxxxxxxxxxxxxxxxxxxxxxxxxxxxxxxxxxxxxxxxxxxxxxxxxxxxxxxxxxxxxxxxxxxxxxxxyyyyyyyyyyyyyyyyyyyyyyyyyyyyyyxxxxxxxxxxxxxxxxxxxxxxxxxxxxxxxxxxxxxxxxxxxxxxxxxxxxxxxxxxxxxxxxxxxxxxxxxxxxxxxxxxxxxxxxxxxxxxxxxxxxxxxxxxxxxxxxxxxxxxxxxxxxxxxxxxxxxxxxxxxxxxxxxxxxxxxxxxxxxxxxxxxxxxxxxxxxxxxxxxxxxxxxxxxxxxxxxxxxxxxxxxxxyyyyyyyyyyyyyyyyyyyyyyyyyyyyyyxxxxxxxxxxxxxxxxxxxxxxxxxxxxxxxxxxxxxxxxxxxxxxxxxxxxxxxxxxxxxxxxxxxxxxxxxxxxxxxxxxxxxxxxxxxxxxxxxxxxxxxxxxxxxxxxxxxxxxxxxxxxxxxxxxxxxxxxxxxxxxxxxxxxxxxxxxxxxxxxxxxxxxxxxxxxxxxxxxxxxxxxxxxxxxxxxxxxxxxxxxxxxxxxxxxxxxxxxxxxxxxxxxxxxxxxxxxxxxxxxxxxxxxxxxxxxxxxxxxxxxxxxxxxxxxxxxxxxxxxxxxxxxxxxxxxxxxxxxxxxxxxxxxxxxxxxyyyyyyyyyyyyyyyyyyyyyyyyyyyyyyxxxxxxxxxxxxxxxxxxxxxxxxxxxxxxxxxxxxxxxxxxxxxxxxxxxxxxxxxxxxxxxxxxxxxxxxxxxxxxxxxxxxxxxxxxxxxxxxxxxxxxxxxxxxxxxxxxxxxxxxxxxxxxxxxxxxxxxxxxxxxxxxxxxxxxxxxxxxxxxxxxxxxxxxxxxxxxxxxxxxxxxxxxxxxxxxxxxxxxxxxxxxxxxxxxxxxxxxxxxxxxxxxxxxxxxxxxxxxxxxxxxxxxxxxxxxxxxxxxxxxxxyyyyyyyyyyyyyyyyyyyyyyyyyyyyyyxxxxxxxxxxxxxxxxxxxxxxxxxxxxxxxxxxxxxxxxxxxxxxxxxxxxxxxxxxxxxxxxxxxxxxxxxxxxxxxxxxxxxxxxxxxxxxxxxxxxxxxxxxxxxxxxxxxxxxxxxxxxxxxxxxxxxxxxxxxxxxxxxxxxxxxxxyyyyyyyyyyyyyyyyyyyyyyyyyyyyyyxxxxxxxxxxxxxxxxxxxxxxxxxxxxxxxxxxxxxxxxxxxxxxxxxxxxxxxxxxxxxxxxxxxxxxxxxxxxxxxxxxxxxxxxxxxxxxxxxxxxxxxxxxxxxxxxxxxxxxxxxxxxxxx', 'As': [1, 6, 9, 13, 17, 20, 24, 28, 30, 32, 35, 36, 38, 40, 46, 49, 51, 52, 55, 63, 75, 77, 79, 83, 86, 88, 98, 101, 103, 106, 107, 111, 114, 123, 129, 135, 137, 143, 146, 148, 159, 163, 165, 166, 173, 178, 189, 193, 195, 198, 209, 210, 215, 223, 224, 228, 230, 235, 238, 239, 240, 242, 243, 245, 248, 252, 254, 255, 256, 259, 261, 267, 270, 274, 276, 280, 299, 308, 309, 310, 318, 323, 324, 327, 330, 333, 337, 346, 350, 354, 356, 363, 368, 369, 372, 373, 375, 383, 388, 389, 393, 396, 406, 410, 412, 413, 414, 416, 425, 434, 437, 445, 446, 447, 455, 466, 474, 482, 492, 495, 496, 498, 499, 501, 504, 505, 511, 512, 513, 514, 525, 532, 534, 540, 550, 552, 556, 563, 564, 572, 580, 581, 583, 585, 586, 588, 589, 590, 592, 595, 597, 599, 600, 601, 606, 609, 611, 613, 617, 619, 620, 623, 625, 627, 629, 630, 632, 633, 636, 653, 655, 656, 658, 666, 667, 678, 686, 689, 690, 691, 692, 696, 703, 713, 714, 715, 716, 717, 719, 722, 732, 734, 744, 745, 746, 754, 759, 762, 763, 765, 780, 781, 787, 792, 798, 804, 805, 809, 810, 811, 816, 817, 821, 831, 833, 834, 835, 837, 839, 841, 844, 854, 857, 863, 864, 865, 866, 867, 868, 870, 871, 881, 886, 887, 889, 891, 893, 896, 897, 902, 913, 914, 920, 924, 927, 931, 934, 940, 941, 944, 954, 965, 966, 978, 981, 986, 987, 990, 998, 1004, 1008, 1009, 1013, 1025, 1035, 1048, 1057, 1063, 1067, 1083, 1092, 1093, 1095, 1096, 1097, 1102, 1103, 1104, 1107, 1109, 1114, 1116, 1117, 1122, 1125, 1126, 1127, 1128, 1130, 1135, 1143, 1149, 1155, 1157, 1172, 1181, 1183, 1187, 1189, 1194, 1204, 1214, 1215, 1217, 1218, 1222, 1224, 1226, 1230, 1232, 1234, 1243, 1244, 1253, 1255, 1263, 1264, 1273, 1274, 1278, 1281, 1282, 1284, 1290, 1292, 1295, 1296, 1305, 1307, 1314, 1315, 1318, 1336, 1339, 1347, 1353, 1362, 1365, 1366, 1368, 1370, 1380, 1382, 1383, 1388, 1389, 1390, 1395, 1400, 1402, 1407, 1408, 1413, 1414, 1420, 1421, 1424, 1428, 1429, 1433, 1439, 1441, 1445, 1446, 1449, 1456, 1462, 1463, 1465, 1467, 1469, 1470, 1471, 1474, 1477, 1479, 1481, 1484, 1486, 1491, 1494, 1497, 1501, 1505, 1510, 1514, 1522, 1527, 1528, 1532, 1536, 1538, 1539, 1550, 1562, 1564, 1567, 1572, 1581, 1584, 1587, 1616, 1619, 1621, 1625, 1628, 1634, 1636, 1641, 1644, 1657, 1662, 1663, 1667, 1668, 1672, 1674, 1677, 1680, 1688, 1690, 1692, 1693, 1698, 1706, 1708, 1723, 1735, 1737, 1739, 1743, 1747, 1748, 1750, 1754, 1758, 1762, 1764, 1771, 1774, 1775, 1778, 1780, 1786, 1790, 1794, 1796, 1798, 1799, 1801, 1805, 1808, 1812, 1817, 1818], 'ribosome_starts': [0, 353, 611, 845, 1188, 1481, 1664]}\n"
     ]
    }
   ],
   "source": [
    "data_dict_80 = {}\n",
    "\n",
    "# To simulate modified reads, we will use binary strings with 1s representing deaminated adenines and 0s representing non-deaminated adenines\n",
    "for i in range(0,1000):\n",
    "    # Generate a random length between 500 and 5000\n",
    "    length = np.random.randint(500, 5000)\n",
    "    # A's will make up ~25% of the sequence\n",
    "    num_As = int(length * .25)\n",
    "     \n",
    "    # print(length, num_As)\n",
    "    # Generate random locations for all A's\n",
    "    # As = np.random.randint(0, length, num_As)\n",
    "    As = np.random.choice(range(0, length), num_As, replace=False)\n",
    "    \n",
    "    # ribosomes will occupy 21-30 nt of the sequence, so we need random stretches of 21-30 nt without mods\n",
    "    # mods can only occur on A's\n",
    "    # Generate random locations for ribosomes, ribosomes will be 21-30 nt long and spaced ~150 nt apart\n",
    "    ribosome_starts = []\n",
    "    ribosome_ends = []\n",
    "    j = 0\n",
    "    while j < length - 30:\n",
    "        ribosome_spacing = np.random.randint(150, 200)\n",
    "        # ribosome_length = np.random.randint(21, 30)\n",
    "        start = np.random.randint(j, j+ribosome_spacing)\n",
    "        if start < length - 30:\n",
    "            ribosome_starts.append(start)\n",
    "        # ribosome_ends.append(start + ribosome_length)\n",
    "        j = start + ribosome_spacing\n",
    "    # Generate the sequence\n",
    "    seq = '0'*length\n",
    "    # seq2 = 'x'*length # this will denote the ribosome locations\n",
    "    seq2 = ''\n",
    "\n",
    "    x = 0\n",
    "    while x < length:   \n",
    "        ribosome_length = 30\n",
    "        if x in ribosome_starts:\n",
    "            # seq2 = seq2[:x] + 'y'*ribosome_length + seq2[x+ribosome_length:]\n",
    "            seq2 += 'y'*ribosome_length\n",
    "            x += ribosome_length\n",
    "        else:\n",
    "            seq2 += 'x'\n",
    "            x += 1\n",
    "    \n",
    "    for k in As:\n",
    "        if seq2[k] != 'y':\n",
    "            c = random.choice([0,1,2,3,4,5,6,7,8,9])\n",
    "            if c < 8:\n",
    "                seq = seq[:k] + '1' + seq[k+1:]\n",
    "            else:\n",
    "                seq = seq[:k] + '0' + seq[k+1:]\n",
    "       \n",
    "    assert len(seq) == len(seq2), 'lengths are not equal' \n",
    "\n",
    "\n",
    "    read_id = 'read_'+str(i)\n",
    "    As = list(As)\n",
    "    sorted_As = As.sort()\n",
    "    ribosome_starts = list(ribosome_starts)\n",
    "    sorted_ribosome_starts = ribosome_starts.sort()\n",
    "    data_dict_80[read_id] = {'seq': seq, 'ribosome_annot': seq2, 'As': As, 'ribosome_starts': ribosome_starts}\n",
    "    \n",
    "print(data_dict_80['read_0'])"
   ]
  },
  {
   "cell_type": "code",
   "execution_count": 5,
   "metadata": {},
   "outputs": [],
   "source": [
    "f = open('/data16/liam/testing/HMM_test_data_80.txt', 'w')\n",
    "for read in data_dict_80:\n",
    "    f.write(read + '\\n' + data_dict_80[read]['seq'] + '\\n' + str(data_dict_80[read]['ribosome_annot']) + '\\n' + str(data_dict_80[read]['As'])[1:-1] + '\\n' + str(data_dict_80[read]['ribosome_starts'])[1:-1] + '\\n')"
   ]
  },
  {
   "cell_type": "markdown",
   "metadata": {},
   "source": [
    "## 25% Editing"
   ]
  },
  {
   "cell_type": "code",
   "execution_count": 6,
   "metadata": {},
   "outputs": [
    {
     "name": "stdout",
     "output_type": "stream",
     "text": [
      "{'seq': '00000000000000000000000000000000000000000000000000000000000000000000000000000000000000000000000000001001010000000000000000100000000000000000000000000000000000000000000000000000000001000000100000000000000000000000000000010000000000100000000000000000000010100000100000000000110000000000000000000000000000000000000000000100000000010001000000000000000000000000000000000101000001001000000000000000000000000000001000000000000000000000000000000000100000001000000000000000000000001000000000000000010010000000000000000000001000000000000000000000000000001000000010000000000000000000000000000000000000000000000000000000000100000000000000000000011000000010000000000000100000000000010000000000010010000000000000000000000000000000000000001000000010000000100001000001000010000000000000000000000000000001000000000000000000000000000000000000000000000000000000010000000000000100000000000000100000000000000000100000000000000000000000000000000000100001001000000000000000010000000000000000000000100000010000000000010000100100000100001010000010001000000000000000000110010000001000000000010000001000100000000000000000000000000000000000000000000000000000000100000000000000000000000000010000000000000000000000000000000000000000001000000000000000000000100000000000000100010000100000000000000010000000000001001000000001000000000000000000000000000000000000000000001000000000000000000000000000000000001010000000000000000000000000000000000000000000000001000000000011000000000000000000000000000001000000100000000000000000000000000110000000100000000011000000010000000001000000001000000000000000000000000000000000000000000000000000100000000001000000000000000000000000000000000000000000000001000000000000000000010001000100000000000000000000000000010000000000000000000000000000000000000000000000000000000000010000000000000000000000000001000000000000001000000000000000000000000000000000000000000000000000000001010000000010000000000000110000000000000000000000000000000000000000000000000000000000000000000100000000000001000000001000000000000000000010000000100000000000000000000000000000000000000000000000100000000000000000000000000011000001000000000000000000000000010010000000000000100010000000000000000000000010100000000000000000000010000000000000000100000000000001000000000000000001100000000000000000000000000000000000000000000000000000000000000000000000000010000000000000000000000000000000000000000000000000000000000000000000010000001001000000000000000000000000010000000010100000000000000000000000000000000000000000100100100000010000000100000010000000000000000000000000000000000000000000000000000000000000000000000000000000000000000000100000000000000000000000100000001000000000000000000000000000010000000000000010000000000000000001100000000000000000000000000000000000000000000000010000000000000101000000000001000000000000000000001000000010000000000000000000000000000000000000000000001000000000000000001000000000000000010000000000000000000000000000100000000010000000000000000000000000000000000000000001001000000000000000000100000001000000000001000000000000000000000000000010000110000001100000010000000000000000000000000000000000000000000000000000000000000100000000000000000000000000000000000000000000000000000000000000000000000000000000000000000000000000000000000000000000000000000001001000000000000000000000000000000001010011000000100000000000000100000000100000000000010000000000000000000000000000000000000000000000000000010000000000000000100010010001000000000100000000000000000000000000100000001000000000000000000000000000000000000100000000000001000000000000000001000000100000010000000000000000001000000000010000000000000000000000000000000000000000000001010000000000000100010000000000000110000000000000000000000000010000000000000001000000000000000000000000000000000000000000000000000000001000000010000000000000000000000000000000100000000000000001000000000000000000000000000000000000000000000000100000000000000000000000000000000000000010100000000000000100000000100000000000000000000000000000010000010010100000100000100000000000100000000000000000000000000000000000000000000000000000000000000000000000100010000001000000000000100010000000000010000000100000000000000000000000000100000000000000100000000000000000100010000000000100', 'ribosome_annot': 'xxxxxxxyyyyyyyyyyyyyyyyyyyyyyyyyyyyyyxxxxxxxxxxxxxxxxxxxxxxxxxxxxxxxxxxxxxxxxxxxxxxxxxxxxxxxxxxxxxxxxxxxxxxxxxxxxxxxxxxxxxxxxxxxxxxxxxxxxxxxxxxxxxxxxxxxxxxxxxxxxxxxxxxxxxxxxxxxxxxxxxxxxxxxxxxxxxxxxxxxxxxxxxxxxxxxxxxxxxxxxxxxxxxxxxxxxxxxxxxxxxxxxxxxxxxxxxxxxxxxxxxxxxxxxxxxxxxxxxxxxxxxxxxxxxxxxxxxxxxxxxxxxxxxxxxxxxxxxxxxxxxxxxxxxxxxxyyyyyyyyyyyyyyyyyyyyyyyyyyyyyyxxxxxxxxxxxxxxxxxxxxxxxxxxxxxxxxxxxxxxxxxxxxxxxxxxxxxxxxxxxxxxxxxxxxxxxxxxxxxxxxxxxxxxxxxxxxxxxxxxxxxxxxxxxxxxxxxxxxxxxxxxxxxxxxxxxxxxxxxxxxxxxxxxxxxxxxxxxxxxxxxxxxxxxxxxxxxxxxxxxxxxxxxxxxxxxxxxxxxxxxxxxxxyyyyyyyyyyyyyyyyyyyyyyyyyyyyyyxxxxxxxxxxxxxxxxxxxxxxxxxxxxxxxxxxxxxxxxxxxxxxxxxxxxxxxxxxxxxxxxxxxxxxxxxxxxxxxxxxxxxxxxxxxxxxxxxxxxxxxxxxxxxxxxxxxxxxxxxxxxxxxxxxxxxxxxxxxxxxxxxxxxxxxxxxxxxxxxxxxxxxxxxxxxxxxxxxxxxxxxxxxxxxxxxxxxxxxxxxxxyyyyyyyyyyyyyyyyyyyyyyyyyyyyyyxxxxxxxxxxxxxxxxxxxxxxxxxxxxxxxxxxxxxxxxxxxxxxxxxxxxxxxxxxxxxxxxxxxxxxxxxxxxxxxxxxxxxxxxxxxxxxxxxxxxxxxxxxxxxxxxxxxxxxxxxxxxxxxxxxxxxxxxxxxxxxxxxxxxxxxxxxxxxxxxxxxxxxxxxxxxxxxxxxxxxxxxxxxxxxxxxxxxxxxxxxxxxxxxxxxxxxxxxxxxxxxxxxxxxxxxxxxxxxxxxxxxxxxxxxxxxxxxxxxxxxxxxxxxxyyyyyyyyyyyyyyyyyyyyyyyyyyyyyyxxxxxxxxxxxxxxxxxxxxxxxxxxxxxxxxxxxxxxxxxxxxxxxxxxxxxxxxxxxxxxxxxxxxxxxxxxxxxxxxxxxxxxxxxxxxxxxxxxxxxxxxxxxxxxxxxxxxxxxxxxxxxxxxxxxxxxxxxxxxxxxxxxxxxxxxxxxxxxxxxxxxxxxxxxxxxxxyyyyyyyyyyyyyyyyyyyyyyyyyyyyyyxxxxxxxxxxxxxxxxxxxxxxxxxxxxxxxxxxxxxxxxxxxxxxxxxxxxxxxxxxxxxxxxxxxxxxxxxxxxxxxxxxxxxxxxxxxxxxxxxxxxxxxxxxxxxxxxxxxxxxxxxxxxxxxxxxxxxxxxxxxxxxxxxxxxxxxxxxxxxxxxxxxxxxxxxxxxxxxxxxxxxxxxxxxxxxxxxxxxxxxxxxxxxxxxxxxxxxxxxxxxxxyyyyyyyyyyyyyyyyyyyyyyyyyyyyyyxxxxxxxxxxxxxxxxxxxxxxxxxxxxxxxxxxxxxxxxxxxxxxxxxxxxxxxxxxxxxxxxxxxxxxxxxxxxxxxxxxxxxxxxxxxxxxxxxxxxxxxxxxxxxxxxxxxxxxxxxxxxxxxxxxxxxxxxxxxxxxxxxxxxxxxxxxxxxxxxxxxxxxxxxxxxxxxxxxxxxxxxxxxxxxxxxxxxxxxxxxxxxxxxxxxxxxxxxxxxxxxxxxxxxxxxxxxxxxxxxxxxxxxxxxxxxxxxxxxxxxxxxxxxxxxxxxxxxxxxxxxxxxxxxxxxxxxxxxxxxxxxxxxxxxxxxxyyyyyyyyyyyyyyyyyyyyyyyyyyyyyyxxxxxxxxxxxxxxxxxxxxxxxxxxxxxxxxxxxxxxxxxxxxxxxxxxxxxxxxxxxxxxxxxxxxxxxxxxxxxxxxxxxxxxxxxxxxxxxxxxxxxxxxxxxxxxxxxxxxxxxxxxxxxxxxxxxxxxxxxxxxxxxxxxxxxxxxxxxxxxxxxxxxxxxxxxxxxxxxxxxxxxxxxxxxxxxxxxxxxxxxxxxxxxxxxxxxxxxxxxxxxxxxxxxxxxxxxxxxxxxxxxxxxxxxxxxxxxxxxxxxxxxxxxxxxxxxxxxxxxxxxxxxxxxxxxxxxxxxxxxxxxxxxxxxxxxxxxxxxxxxxxxxxxxxxxxxyyyyyyyyyyyyyyyyyyyyyyyyyyyyyyxxxxxxxxxxxxxxxxxxxxxxxxxxxxxxxxxxxxxxxxxxxxxxxxxxxxxxxxxxxxxxxxxxxxxxxxxxxxxxxxxxxxxxxxxxxxxxxxxxxxxxxxxxxxxxxxxxxxxxxxxxxxxxxxxxxxxxxxxxxxxxxxxxxxxxxxxxxxxxxxxxxxxxxxxxxxxxxxxxxxxxxxxxxxxxxxxxxxxxxxxxxxxxxxxxxxxxxxyyyyyyyyyyyyyyyyyyyyyyyyyyyyyyxxxxxxxxxxxxxxxxxxxxxxxxxxxxxxxxxxxxxxxxxxxxxxxxxxxxxxxxxxxxxxxxxxxxxxxxxxxxxxxxxxxxxxxxxxxxxxxxxxxxxxxxxxxxxxxxxxxxxxxxxxxxxxxxxxxxxxxxxxxxxxxxxxxxxxxxxxxxxxxxxxxxxxxxxxxxxxxxxxxxxxxxxxxxxxxxxxxxxxxxxxxxxxxxxxxxxxxxxxxxxxxxxxxxxxxxxxxxxxxxxxxxxxxxxxxxxxxxxxxxxxxxxxxxxxxxxxxyyyyyyyyyyyyyyyyyyyyyyyyyyyyyyxxxxxxxxxxxxxxxxxxxxxxxxxxxxxxxxxxxxxxxxxxxxxxxxxxxxxxxxxxxxxxxxxxxxxxxxxxxxxxxxxxxxxxxxxxxxxxxxxxxxxxxxxxxxxxxxxxxxxxxxxxxxxxxxxxxxxxxxxxxxxxxxxxxxxxxxxxxxxxxxxxxxxxxxxxxxxxxxxxxxxxxxxxxxxxxxxxxxxxxxxxxxxxxxxxxxxxxxxxxxxxxxxxxxxxxxxxxxxxxxxxxxxxxxxxxxxxxxxxxxxxxxxxxxxxxxxxxxxxxxyyyyyyyyyyyyyyyyyyyyyyyyyyyyyyxxxxxxxxxxxxxxxxxxxxxxxxxxxxxxxxxxxxxxxxxxxxxxxxxxxxxxxxxxxxxxxxxxxxxxxxxxxxxxxxxxxxxxxxxxxxxxxxxxxxxxxxxxxxxxxxxxxxxxxxxxxxxxxxxxxxxxxxxxxxxxxxxxxxxxxxxxxxxxxxxxxxxxxxxxxxxxxxxxxxxxxxxyyyyyyyyyyyyyyyyyyyyyyyyyyyyyyxxxxxxxxxxxxxxxxxxxxxxxxxxxxxxxxxxxxxxxxxxxxxxxxxxxxxxxxxxxxxxxxxxxxxxxxxxxxxxxxxxxxxxxxxxxxxxxxxxxxxxxxxxxxxxxxxxxxxxxxxxxxxxxxxxxxxxxxxxxxxxxxxxxxxxxxxxxxxxxxxxxxxxxxxxxxxxxxxxxxxxxxxxxxxxxxxxxxxxxxxxxxxxxxxxxxxxxxyyyyyyyyyyyyyyyyyyyyyyyyyyyyyyxxxxxxxxxxxxxxxxxxxxxxxxxxxxxxxxxxxxxxxxxxxxxxxxxxxxxxxxxxxxxxxxxxxxxxxxxxxxxxxxxxxxxxxxxxxxxxxxxxxxxxxxxxxxxxxxxxxxxxxxxxxxxxxxxxxxxxxxxxxxxxxxxxxxxxxxxxxxxxxxxxxxxxxxxxxxxxxxxxxxxxxxxxxxxxxxxxxxxxxxyyyyyyyyyyyyyyyyyyyyyyyyyyyyyyxxxxxxxxxxxxxxxxxxxxxxxxxxxxxxxxxxxxxxxxxxxxxxxxxxxxxxxxxxxxxxxxxxxxxxxxxxxxxxxxxxxxxxxxxxxxxxxxxxxxxxxxxxxxxxxxxxxxxxxxxxxxxxxxxxxxxxxxxxxxxxxxxxxxxxxxxxxxxxxxxxxxxxxxxxyyyyyyyyyyyyyyyyyyyyyyyyyyyyyyxxxxxxxxxxxxxxxxxxxxxxxxxxxxxxxxxxxxxxxxxxxxxxxxxxxxxxxxxxxxxxxxxxxxxxxxxxxxxxxxxxxxxxxxxxxxxxxxxxxxxxxxxxxxxxxxxxxxxxxxxxxxxxxxxxxxxxxxxxxxxxxx', 'As': [20, 21, 27, 32, 48, 51, 54, 58, 59, 68, 69, 70, 74, 83, 84, 86, 87, 89, 93, 97, 100, 102, 103, 105, 109, 120, 122, 124, 135, 138, 140, 148, 152, 160, 162, 163, 165, 176, 177, 179, 181, 188, 197, 201, 205, 208, 213, 218, 219, 220, 224, 230, 241, 243, 245, 252, 253, 254, 260, 272, 273, 275, 282, 283, 297, 299, 301, 304, 305, 306, 308, 313, 317, 324, 325, 327, 329, 331, 332, 339, 342, 345, 347, 357, 365, 367, 373, 376, 387, 401, 406, 414, 415, 420, 421, 423, 435, 437, 440, 446, 448, 449, 450, 455, 458, 459, 461, 463, 469, 472, 479, 480, 483, 484, 486, 489, 490, 492, 495, 503, 510, 511, 514, 520, 521, 532, 539, 542, 544, 546, 548, 551, 552, 556, 557, 560, 564, 568, 572, 573, 577, 578, 581, 585, 587, 602, 603, 604, 611, 627, 628, 633, 634, 642, 643, 646, 648, 656, 658, 660, 667, 669, 677, 678, 681, 684, 686, 704, 717, 724, 727, 729, 732, 740, 745, 746, 747, 751, 756, 761, 770, 775, 787, 790, 791, 795, 798, 800, 804, 805, 807, 809, 813, 815, 820, 822, 825, 826, 830, 839, 840, 843, 844, 848, 849, 851, 853, 857, 860, 864, 865, 867, 869, 872, 875, 877, 881, 883, 890, 894, 895, 915, 919, 926, 931, 934, 949, 951, 955, 956, 974, 975, 976, 979, 981, 985, 990, 991, 993, 994, 995, 998, 1001, 1003, 1005, 1007, 1010, 1011, 1012, 1014, 1016, 1020, 1024, 1036, 1038, 1041, 1042, 1043, 1044, 1047, 1049, 1051, 1054, 1057, 1058, 1065, 1071, 1072, 1074, 1075, 1076, 1078, 1079, 1083, 1084, 1087, 1092, 1109, 1115, 1118, 1127, 1129, 1133, 1137, 1138, 1152, 1161, 1169, 1174, 1183, 1184, 1185, 1204, 1212, 1222, 1226, 1229, 1230, 1233, 1239, 1241, 1242, 1245, 1249, 1250, 1252, 1259, 1264, 1266, 1269, 1279, 1280, 1282, 1283, 1285, 1287, 1289, 1291, 1302, 1303, 1304, 1312, 1314, 1318, 1320, 1324, 1326, 1327, 1329, 1330, 1331, 1332, 1335, 1336, 1348, 1349, 1363, 1368, 1372, 1374, 1379, 1394, 1396, 1397, 1401, 1402, 1403, 1404, 1411, 1412, 1413, 1414, 1416, 1422, 1423, 1428, 1434, 1435, 1436, 1438, 1443, 1447, 1453, 1454, 1456, 1459, 1460, 1465, 1471, 1472, 1484, 1489, 1492, 1497, 1499, 1500, 1503, 1508, 1511, 1514, 1518, 1519, 1521, 1523, 1527, 1528, 1534, 1536, 1537, 1543, 1546, 1551, 1553, 1556, 1561, 1567, 1571, 1574, 1575, 1578, 1580, 1581, 1582, 1593, 1598, 1599, 1601, 1603, 1604, 1608, 1609, 1614, 1620, 1637, 1641, 1653, 1657, 1658, 1661, 1677, 1680, 1681, 1684, 1685, 1702, 1703, 1706, 1713, 1714, 1730, 1733, 1734, 1744, 1751, 1756, 1757, 1768, 1771, 1773, 1775, 1776, 1788, 1790, 1791, 1792, 1793, 1794, 1800, 1801, 1810, 1816, 1818, 1830, 1833, 1850, 1858, 1867, 1873, 1875, 1877, 1880, 1884, 1885, 1886, 1887, 1891, 1898, 1899, 1911, 1913, 1923, 1927, 1928, 1930, 1931, 1936, 1937, 1947, 1955, 1959, 1961, 1967, 1978, 1981, 1983, 1988, 1990, 1993, 2010, 2018, 2032, 2046, 2051, 2055, 2057, 2064, 2065, 2066, 2072, 2078, 2087, 2089, 2093, 2094, 2095, 2099, 2100, 2101, 2103, 2108, 2111, 2127, 2129, 2130, 2131, 2134, 2135, 2142, 2144, 2145, 2148, 2155, 2157, 2161, 2163, 2166, 2172, 2174, 2175, 2178, 2184, 2185, 2195, 2196, 2213, 2221, 2225, 2226, 2227, 2228, 2229, 2232, 2233, 2236, 2245, 2246, 2250, 2251, 2258, 2261, 2262, 2267, 2275, 2277, 2281, 2283, 2285, 2289, 2292, 2294, 2305, 2321, 2322, 2325, 2328, 2330, 2340, 2343, 2347, 2350, 2354, 2358, 2359, 2363, 2367, 2368, 2370, 2372, 2374, 2385, 2388, 2391, 2394, 2398, 2399, 2400, 2401, 2410, 2412, 2421, 2425, 2427, 2434, 2435, 2436, 2438, 2440, 2442, 2448, 2449, 2454, 2458, 2463, 2467, 2468, 2471, 2473, 2480, 2483, 2486, 2493, 2497, 2501, 2508, 2510, 2516, 2519, 2520, 2522, 2529, 2539, 2540, 2547, 2548, 2551, 2559, 2563, 2568, 2569, 2571, 2579, 2580, 2583, 2586, 2590, 2591, 2597, 2600, 2609, 2611, 2612, 2614, 2616, 2620, 2624, 2631, 2632, 2638, 2645, 2652, 2653, 2654, 2659, 2661, 2672, 2676, 2677, 2681, 2685, 2691, 2692, 2695, 2696, 2705, 2706, 2707, 2709, 2717, 2719, 2720, 2722, 2727, 2730, 2731, 2739, 2745, 2750, 2757, 2759, 2761, 2769, 2773, 2774, 2776, 2778, 2781, 2784, 2790, 2793, 2794, 2795, 2802, 2806, 2809, 2812, 2822, 2825, 2833, 2836, 2841, 2843, 2844, 2846, 2847, 2848, 2850, 2853, 2855, 2858, 2864, 2866, 2874, 2875, 2882, 2883, 2890, 2901, 2906, 2912, 2915, 2922, 2927, 2930, 2940, 2942, 2944, 2949, 2951, 2955, 2965, 2967, 2968, 2971, 2972, 2976, 2980, 2982, 2987, 2990, 2995, 3007, 3013, 3015, 3028, 3036, 3039, 3040, 3041, 3042, 3043, 3045, 3046, 3049, 3050, 3057, 3066, 3071, 3078, 3080, 3085, 3086, 3091, 3104, 3106, 3107, 3110, 3116, 3119, 3122, 3126, 3130, 3134, 3139, 3140, 3147, 3151, 3152, 3154, 3155, 3156, 3169, 3170, 3173, 3178, 3183, 3185, 3186, 3187, 3199, 3202, 3205, 3214, 3221, 3231, 3239, 3247, 3250, 3256, 3261, 3262, 3263, 3271, 3282, 3283, 3285, 3286, 3288, 3289, 3293, 3296, 3304, 3311, 3320, 3326, 3329, 3333, 3334, 3349, 3351, 3354, 3358, 3362, 3365, 3366, 3368, 3369, 3371, 3376, 3387, 3392, 3400, 3404, 3407, 3408, 3411, 3413, 3415, 3418, 3419, 3420, 3423, 3425, 3445, 3447, 3451, 3452, 3460, 3462, 3465, 3472, 3478, 3481, 3483, 3484, 3485, 3488, 3493, 3497, 3498, 3511, 3529, 3536, 3541, 3543, 3545, 3548, 3557, 3560, 3562, 3566, 3573, 3576, 3577, 3579, 3583, 3584, 3587, 3593, 3602, 3604, 3605, 3607, 3608, 3619, 3621, 3624, 3625, 3626, 3629, 3630, 3631, 3635, 3637, 3639, 3642, 3652, 3653, 3654, 3665, 3666, 3667, 3681, 3684, 3685, 3688, 3692, 3697, 3702, 3709, 3715, 3728, 3729, 3730, 3731, 3733, 3735, 3737, 3738, 3742, 3744, 3748, 3749, 3754, 3758, 3760, 3761, 3762, 3767, 3770, 3771, 3776, 3782, 3787, 3792, 3794, 3795, 3798, 3805, 3810, 3811, 3812, 3814, 3820, 3826, 3832, 3842, 3844, 3847, 3852, 3858, 3860, 3862, 3865, 3866, 3868, 3869, 3876, 3885, 3900, 3901, 3902, 3913, 3915, 3917, 3918, 3919, 3923, 3924, 3926, 3936, 3937, 3940, 3941, 3946, 3949, 3951, 3956, 3957, 3963, 3965, 3966, 3967, 3968, 3973, 3974, 3975, 3980, 3988, 3991, 3992, 3997, 3999, 4001, 4003, 4004, 4006, 4007, 4008, 4016, 4020, 4024, 4026, 4027, 4031, 4034, 4036, 4038, 4039, 4041, 4046, 4055, 4059, 4064, 4065, 4068, 4075, 4080, 4081, 4088, 4089, 4092, 4101, 4103, 4104, 4111, 4112, 4117, 4124, 4127, 4133, 4134, 4137, 4138, 4139, 4142, 4150, 4152, 4154, 4158, 4159, 4164, 4172, 4176, 4179, 4182, 4185, 4187], 'ribosome_starts': [7, 333, 568, 802, 1101, 1306, 1558, 1902, 2264, 2510, 2815, 3125, 3340, 3586, 3816, 4016]}\n"
     ]
    }
   ],
   "source": [
    "data_dict_25 = {}\n",
    "\n",
    "# To simulate modified reads, we will use binary strings with 1s representing deaminated adenines and 0s representing non-deaminated adenines\n",
    "for i in range(0,1000):\n",
    "    # Generate a random length between 500 and 5000\n",
    "    length = np.random.randint(500, 5000)\n",
    "    # A's will make up ~25% of the sequence\n",
    "    num_As = int(length * .25)\n",
    "     \n",
    "    # print(length, num_As)\n",
    "    # Generate random locations for all A's\n",
    "    # As = np.random.randint(0, length, num_As)\n",
    "    As = np.random.choice(range(0, length), num_As, replace=False)\n",
    "    \n",
    "    # ribosomes will occupy 21-30 nt of the sequence, so we need random stretches of 21-30 nt without mods\n",
    "    # mods can only occur on A's\n",
    "    # Generate random locations for ribosomes, ribosomes will be 21-30 nt long and spaced ~150 nt apart\n",
    "    ribosome_starts = []\n",
    "    ribosome_ends = []\n",
    "    j = 0\n",
    "    while j < length - 30:\n",
    "        ribosome_spacing = np.random.randint(150, 200)\n",
    "        # ribosome_length = np.random.randint(21, 30)\n",
    "        start = np.random.randint(j, j+ribosome_spacing)\n",
    "        if start < length - 30:\n",
    "            ribosome_starts.append(start)\n",
    "        # ribosome_ends.append(start + ribosome_length)\n",
    "        j = start + ribosome_spacing\n",
    "    # Generate the sequence\n",
    "    seq = '0'*length\n",
    "    # seq2 = 'x'*length # this will denote the ribosome locations\n",
    "    seq2 = ''\n",
    "\n",
    "    x = 0\n",
    "    while x < length:   \n",
    "        ribosome_length = 30\n",
    "        if x in ribosome_starts:\n",
    "            # seq2 = seq2[:x] + 'y'*ribosome_length + seq2[x+ribosome_length:]\n",
    "            seq2 += 'y'*ribosome_length\n",
    "            x += ribosome_length\n",
    "        else:\n",
    "            seq2 += 'x'\n",
    "            x += 1\n",
    "    \n",
    "    for k in As:\n",
    "        if seq2[k] != 'y':\n",
    "            c = random.choice([0,1,2,3])\n",
    "            if c < 1:\n",
    "                seq = seq[:k] + '1' + seq[k+1:]\n",
    "            else:\n",
    "                seq = seq[:k] + '0' + seq[k+1:]\n",
    "       \n",
    "    assert len(seq) == len(seq2), 'lengths are not equal' \n",
    "\n",
    "\n",
    "    read_id = 'read_'+str(i)\n",
    "    As = list(As)\n",
    "    sorted_As = As.sort()\n",
    "    ribosome_starts = list(ribosome_starts)\n",
    "    sorted_ribosome_starts = ribosome_starts.sort()\n",
    "    data_dict_25[read_id] = {'seq': seq, 'ribosome_annot': seq2, 'As': As, 'ribosome_starts': ribosome_starts}\n",
    "    \n",
    "print(data_dict_25['read_0'])"
   ]
  },
  {
   "cell_type": "code",
   "execution_count": 7,
   "metadata": {},
   "outputs": [],
   "source": [
    "f = open('/data16/liam/testing/HMM_test_data_25.txt', 'w')\n",
    "for read in data_dict_25:\n",
    "    f.write(read + '\\n' + data_dict_25[read]['seq'] + '\\n' + str(data_dict_25[read]['ribosome_annot']) + '\\n' + str(data_dict_25[read]['As'])[1:-1] + '\\n' + str(data_dict_25[read]['ribosome_starts'])[1:-1] + '\\n')"
   ]
  },
  {
   "cell_type": "markdown",
   "metadata": {},
   "source": [
    "## Foot print sizes are only 30"
   ]
  },
  {
   "cell_type": "code",
   "execution_count": 3,
   "metadata": {},
   "outputs": [
    {
     "name": "stdout",
     "output_type": "stream",
     "text": [
      "{'seq': '000000000010001000000001101001100001001001000000000000100000000001010010001001011000000001000000100101100011000011100011001000100000000000000000000000000000000001010001001010010000010001000010010000001000000000000111100000010000010100000100110000000101000000100010100000010110000010010101000001000000000010000000000101001101000000000110100100101011000000011000011010001010001000001000000000000100010011000000101000010111010000101000001000000000000000010010100001100000100000000000000000000000000000000100101000000000000000001000000000111010000000100001000001000000001000010010010001000110000010000110000010000000000000101100011100110001101010000000010000100000000000110000000110000000111000101101001001000000011101000010', 'ribosome_annot': 'xxxxxxxxxxxxxxxxxxxxxxxxxxxxxxxxxxxxxxxxxxxxxxxxxxxxxxxxxxxxxxxxxxxxxxxxxxxxxxxxxxxxxxxxxxxxxxxxxxxxxxxxxxxxxxxxxxxxxxxxxxxxxxxxyyyyyyyyyyyyyyyyyyyyyyyyyyyyyyxxxxxxxxxxxxxxxxxxxxxxxxxxxxxxxxxxxxxxxxxxxxxxxxxxxxxxxxxxxxxxxxxxxxxxxxxxxxxxxxxxxxxxxxxxxxxxxxxxxxxxxxxxxxxxxxxxxxxxxxxxxxxxxxxxxxxxxxxxxxxxxxxxxxxxxxxxxxxxxxxxxxxxxxxxxxxxxxxxxxxxxxxxxxxxxxxxxxxxxxxxxxxxxxxxxxxxxxxxxxxxxxxxxxxxxxxxxxxxxxxxxxxxxxxxxxxxxxxxxxxxxxxxxxxxxxxxxxxxxxxxxxxxxxxxxxxxxxxxxxxxxxxxxxxxxyyyyyyyyyyyyyyyyyyyyyyyyyyyyyyxxxxxxxxxxxxxxxxxxxxxxxxxxxxxxxxxxxxxxxxxxxxxxxxxxxxxxxxxxxxxxxxxxxxxxxxxxxxxxxxxxxxxxxxxxxxxxxxxxxxxxxxxxxxxxxxxxxxxxxxxxxxxxxxxxxxxxxxxxxxxxxxxxxxxxxxxxxxxxxxxxxxxxxxxxxxxxxxxxxxxxxxxxxxxxxxxxxxxxxxxxxxxxxxxxxxxxxxxxxxx', 'As': [10, 14, 23, 24, 26, 29, 30, 35, 38, 41, 54, 65, 67, 70, 74, 77, 79, 80, 89, 96, 99, 101, 102, 106, 107, 112, 113, 114, 118, 119, 122, 126, 128, 132, 138, 139, 150, 157, 161, 163, 167, 170, 172, 175, 181, 185, 190, 193, 200, 213, 214, 215, 216, 223, 229, 231, 237, 240, 241, 249, 251, 258, 262, 264, 271, 273, 274, 280, 283, 285, 287, 293, 304, 315, 317, 320, 321, 323, 333, 334, 336, 339, 342, 344, 346, 347, 355, 356, 361, 362, 364, 368, 370, 374, 380, 393, 397, 400, 401, 408, 410, 415, 417, 418, 419, 421, 426, 428, 434, 451, 454, 456, 461, 462, 468, 469, 472, 475, 476, 477, 483, 486, 491, 492, 493, 498, 501, 504, 506, 524, 534, 535, 536, 538, 546, 551, 557, 566, 571, 574, 577, 581, 585, 586, 592, 597, 598, 604, 618, 620, 621, 625, 626, 627, 630, 631, 635, 636, 638, 640, 649, 654, 666, 667, 675, 676, 684, 685, 686, 690, 692, 693, 695, 698, 701, 709, 710, 711, 713, 718], 'ribosome_starts': [128, 469]}\n"
     ]
    }
   ],
   "source": [
    "data_dict = {}\n",
    "\n",
    "# To simulate modified reads, we will use binary strings with 1s representing deaminated adenines and 0s representing non-deaminated adenines\n",
    "for i in range(0,1000):\n",
    "    # Generate a random length between 500 and 5000\n",
    "    length = np.random.randint(500, 5000)\n",
    "    # A's will make up ~25% of the sequence\n",
    "    num_As = int(length * .25)\n",
    "     \n",
    "    # print(length, num_As)\n",
    "    # Generate random locations for all A's\n",
    "    # As = np.random.randint(0, length, num_As)\n",
    "    As = np.random.choice(np.arange(0, length), num_As, replace=False)\n",
    "    \n",
    "    # ribosomes will occupy 21-30 nt of the sequence, so we need random stretches of 21-30 nt without mods\n",
    "    # mods can only occur on A's\n",
    "    # Generate random locations for ribosomes, ribosomes will be 21-30 nt long and spaced ~150 nt apart\n",
    "    ribosome_starts = []\n",
    "    ribosome_ends = []\n",
    "    j = 0\n",
    "    while j < length - 30:\n",
    "        ribosome_spacing = np.random.randint(150, 200)\n",
    "        # ribosome_length = np.random.randint(21, 30)\n",
    "        start = np.random.randint(j, j+ribosome_spacing)\n",
    "        if start < length - 30:\n",
    "            ribosome_starts.append(start)\n",
    "        # ribosome_ends.append(start + ribosome_length)\n",
    "        j = start + ribosome_spacing\n",
    "    # Generate the sequence\n",
    "    seq = '0'*length\n",
    "    # seq2 = 'x'*length # this will denote the ribosome locations\n",
    "    seq2 = ''\n",
    "\n",
    "    x = 0\n",
    "    while x < length:   \n",
    "        ribosome_length = 30\n",
    "        if x in ribosome_starts:\n",
    "            # seq2 = seq2[:x] + 'y'*ribosome_length + seq2[x+ribosome_length:]\n",
    "            seq2 += 'y'*ribosome_length\n",
    "            x += ribosome_length\n",
    "        else:\n",
    "            seq2 += 'x'\n",
    "            x += 1\n",
    "    \n",
    "    for k in As:\n",
    "        if seq2[k] != 'y':\n",
    "            seq = seq[:k] + '1' + seq[k+1:]  \n",
    "       \n",
    "    assert len(seq) == len(seq2), 'lengths are not equal' \n",
    "\n",
    "\n",
    "    read_id = 'read_'+str(i)\n",
    "    As = list(As)\n",
    "    sorted_As = As.sort()\n",
    "    ribosome_starts = list(ribosome_starts)\n",
    "    sorted_ribosome_starts = ribosome_starts.sort()\n",
    "    data_dict[read_id] = {'seq': seq, 'ribosome_annot': seq2, 'As': As, 'ribosome_starts': ribosome_starts}\n",
    "    \n",
    "print(data_dict['read_0'])"
   ]
  },
  {
   "cell_type": "code",
   "execution_count": 8,
   "metadata": {},
   "outputs": [],
   "source": [
    "f = open('/data16/liam/testing/HMM_test_data_30only.txt', 'w')\n",
    "for read in data_dict:\n",
    "    f.write(read + '\\n' + data_dict[read]['seq'] + '\\n' + str(data_dict[read]['ribosome_annot']) + '\\n' + str(data_dict[read]['As'])[1:-1] + '\\n' + str(data_dict[read]['ribosome_starts'])[1:-1] + '\\n')"
   ]
  },
  {
   "cell_type": "markdown",
   "metadata": {},
   "source": [
    "# Let's make a mock library"
   ]
  },
  {
   "cell_type": "code",
   "execution_count": 18,
   "metadata": {},
   "outputs": [
    {
     "name": "stdout",
     "output_type": "stream",
     "text": [
      "{'seq': '000010000000000000000000000000000000000000000000000000000000000000000000000000000000000000000000000000000000000000000000000000000000000000000000000100000000000000000000000000000000000000000000000000000000000000000000000000000101000000000000000000000000000000000000000000000000000000000000000000000000000000000000010000000000000000000000000000000001000000000000000000000000000000000000000000000000000000000010000000000000000000000000000000000000000000000000000000000000000000000000000000000000000000000000000000000000000000000000000000000000000000000000000000000000000000000000000000000000000000000000000000000000000000000000000000000000000000000000000000000000000000000000000000000000000000000000000000000000000000000000000000000000000000000000000000000000000000000000000000000000000000000000000000000000000000000000000000000000000000000000000000000000000000000000000000000000000000000000000000000000000000000000000000000000000000000000000000000000000000000000000000000000000000000000000000000000000000000000000000000000000000000000000000000000000000000000000000000000000000000000000000000000000000000000000000000000000000000000000000000000000000000000010000000000000000000000000000000000000000000000000000000000000000000000000000000000000000000100000000000000000000000000000000000000000000000000000000000000000000000000000000000000000000000000000000000000000000100000001000000000000000000000000000000000000000000000000000000000000000000000000000000000000000000000000000000000000000000000000000000000000000000000000000001000000000000000000001000000000000000000010000000000000000000000000000000000000000000000000000000000000000000000000000000000000000000000000000000000000000000000000000000000000000000000000000000000000000000000000000000000100000000000010000000000000000000000000000000000000000000100000000000000000000010000000000000000000000000000000000000000000000000000000000000000000000000000000000000000000000100000000100000000000000000000000001000000000000000000000000000000000010000000000000000000000000000000000000000000001000000000010000000000000000000000000000000000000000000000000000000000000000000000000000000000000000000000000000000000000000000000000000000000000100000000000000001000000000000000000001000000000000000000000000000000000000000000000000000000000000000000000000000000000000000000000000000000000000000000000000000000000000000000000000100000000000000000000000000000000000000000000000000000000000000000000000000000000000000000000000000000010000000000000000000000000100000000000000100001000000000000000000000000000000000000000000000000000000000000000000000000000000000000000000000000000000000000000100000000000000000000000000000000000000000000000000000000000000000000000000000000000000000000000000000000000100000010000100000000000000000000000000000000000000000000000000000000000000000000000000000000000000000000000000000000000000000000000000000000000000000000000000100000000000000000000000000000000000000000000000000000000000000000000000100000000000000000000000000000000000101000000000000000000000000000000000000000000000000000000000000000000000000000000001000000000000000000000000000000000000000000000000000000000000000000000000000000000000000000000000010000000000000000000000000100000000000000000000000000000000000000000000000000000000000000000000000000000000000001000000000000000000000000000000000000000000000000000000000000000000000000000000000000000000000000000000000000000000000000000000000000000000000000000000000001000000000000000000000000100000000000000000000000000000000000000000000000000000000000000000000000000000000000000000000000000000000000000000000000000000000000000000000100000000000000000000000000000000000000010000000000000000000000000000000000000000000000000000000000000000000000000000000100000000000000000000000000000000000000000000000000000000000000000000000000000000000000000000000000000000000000010000000000000000000000000000000000000000000000010000000000000000000000000000000000000000000000000000000000000000000000000000000000000000000000000000000000000000000010000000000000000000000000000000000000000000000000000000000000000000000000000000000000000000000000000000000000000000000000000000000000000000000000000000000000000000000000000000000000000000000000000000000000100000000000000001000000000000000000000000000000000000000000010000000000000000000100000000000000000000010000000000000000000000', 'ribosome_annot': 'xxxxxxxxxxxxxxxxxxxxxxxxxxxxxxxxxxxxxxxxxxxxxxxxxxxxxxxxxxxxxxxxxxxxxxxxxxxxxxxxxxxxxxxxyyyyyyyyyyyyyyyyyyyyyyyyyyyyyyxxxxxxxxxxxxxxxxxxxxxxxxxxxxxxxxxxxxxxxxxxxxxxxxxxxxxxxxxxxxxxxxxxxxxxxxxxxxxxxxxxxxxxxxxxxxxxxxxxxxxxxxxxxxxxxxxxxxxxxxxxxxxxxxxxxxxxxxxxxxxxxxxxxxxxxxxyyyyyyyyyyyyyyyyyyyyyyyyyyyyyyxxxxxxxxxxxxxxxxxxxxxxxxxxxxxxxxxxxxxxxxxxxxxxxxxxxxxxxxxxxxxxxxxxxxxxxxxxxxxxxxxxxxxxxxxxxxxxxxxxxxxxxxxxxxxxxxxxxxxxxxxxxxxxxxxxxxxxxxxxxxxxxxxxxxxxxxxxxxxxxxxxxxxxxxxxxxxxxxxxxxxyyyyyyyyyyyyyyyyyyyyyyyyyyyyyyxxxxxxxxxxxxxxxxxxxxxxxxxxxxxxxxxxxxxxxxxxxxxxxxxxxxxxxxxxxxxxxxxxxxxxxxxxxxxxxxxxxxxxxxxxxxxxxxxxxxxxxxxxxxxxxxxxxxxxxxxxxxxxxxxxxxxxxxxxxxxxxxxxxxxxxxxxxxxxxxxxxxxxxxxxxxxxxxxxxxxxxxxxxxxxxxxxxxxxxxxxxxxxxxxxxxxxxxxxxxxxxxxxxxxxxxxxxxxxxxxxxxxxxxxxxxxxxxxxxxyyyyyyyyyyyyyyyyyyyyyyyyyyyyyyxxxxxxxxxxxxxxxxxxxxxxxxxxxxxxxxxxxxxxxxxxxxxxxxxxxxxxxxxxxxxxxxxxxxxxxxxxxxxxxxxxxxxxxxxxxxxxxxxxxxxxxxxxxxxxxxxxxxxxxxxxxxxxxxxxxxxxxxxxxxxxxxxxxxxxxxxxxxxxxxxxxxxxxxxxxxxxxxxxxxxxxxxxxxxxxxxxxxxxxxxxxxxxxxxxxxxxxxxxyyyyyyyyyyyyyyyyyyyyyyyyyyyyyyxxxxxxxxxxxxxxxxxxxxxxxxxxxxxxxxxxxxxxxxxxxxxxxxxxxxxxxxxxxxxxxxxxxxxxxxxxxxxxxxxxxxxxxxxxxxxxxxxxxxxxxxxxxxxxxxxxxxxxxxxxxxxxxxxxxxxxxxxxxxxxxxxxxxxxxxxxxxxxxxxxxxxxxxxxxxxxxxxxxxxxxxxxxxxxxxxxxxxxxxxxxxxxxxxxxxxxxxxxxxxxxxxxxxxyyyyyyyyyyyyyyyyyyyyyyyyyyyyyyxxxxxxxxxxxxxxxxxxxxxxxxxxxxxxxxxxxxxxxxxxxxxxxxxxxxxxxxxxxxxxxxxxxxxxxxxxxxxxxxxxxxxxxxxxxxxxxxxxxxxxxxxxxxxxxxxxxxxxxxxxxxxxxxxxxxxxxxxxxxxxxxxxxxxxxxxxxxxxxxxxxxxxxxxxxxxxxxxxxxxxxxxxxxxxxxxxxxxxxxxxxxxxxxxxxxxxxxxxxxxxxxxxxxxxxxxxxxxxxxxxxxxxxxxxxxxxxxxxxxxxxxxxxxxxxxxxxxxxxxxxxxxxxxxxxxxxxxxxxxxxxxxxxxxxxxxxxxxxxxxxxxxxxxxxxxxxxxyyyyyyyyyyyyyyyyyyyyyyyyyyyyyyxxxxxxxxxxxxxxxxxxxxxxxxxxxxxxxxxxxxxxxxxxxxxxxxxxxxxxxxxxxxxxxxxxxxxxxxxxxxxxxxxxxxxxxxxxxxxxxxxxxxxxxxxxxxxxxxxxxxxxxxxxxxxxxxxxxxxxxxxxxxxxxxxxxxxxxxxxxxxxxxxxxxxxxxxxxxxxxxxxxxxxxxxxxxxxxxxyyyyyyyyyyyyyyyyyyyyyyyyyyyyyyxxxxxxxxxxxxxxxxxxxxxxxxxxxxxxxxxxxxxxxxxxxxxxxxxxxxxxxxxxxxxxxxxxxxxxxxxxxxxxxxxxxxxxxxxxxxxxxxxxxxxxxxxxxxxxxxxxxxxxxxxxxxxxxxxxxxxxxxxxxxxxxxxxxxxxxxxxxxxxxxxxxxxxxxxxxxxxxxxxxxxxxxxxxxxxyyyyyyyyyyyyyyyyyyyyyyyyyyyyyyxxxxxxxxxxxxxxxxxxxxxxxxxxxxxxxxxxxxxxxxxxxxxxxxxxxxxxxxxxxxxxxxxxxxxxxxxxxxxxxxxxxxxxxxxxxxxxxxxxxxxxxxxxxxxxxxxxxxxxxxxxxxxxxxxxxxxxxxxxxxxxxxxxxxxxxxxxxxxyyyyyyyyyyyyyyyyyyyyyyyyyyyyyyxxxxxxxxxxxxxxxxxxxxxxxxxxxxxxxxxxxxxxxxxxxxxxxxxxxxxxxxxxxxxxxxxxxxxxxxxxxxxxxxxxxxxxxxxxxxxxxxxxxxxxxxxxxxxxxxxxxxxxxxxxxxxxxxxxxxxxxxxxxxxxxxxxxxxxxxxxxxxxxxxxxxxxxxxxxxxxxxxxxxxxxxxxxxxxxxxxxxxxxxxxxxxxxxxxxxxxxxxxxxxxxxxxxxxxxxxxxxxxxxxxxxxxxxxxxxxxxxxxxxxxxxxxxxxxyyyyyyyyyyyyyyyyyyyyyyyyyyyyyyxxxxxxxxxxxxxxxxxxxxxxxxxxxxxxxxxxxxxxxxxxxxxxxxxxxxxxxxxxxxxxxxxxxxxxxxxxxxxxxxxxxxxxxxxxxxxxxxxxxxxxxxxxxxxxxxxxxxxxxxxxxxxxxxxxxxxxxxxxxxxxxxxxxxxxxxxxxxxxxxxxxxxxxxxxxxxxxxxxxxxxxxxxxxxxxxxxxxxxxxxxxxxxxxxxxxxxxxxxxxxxxxxxxxxxxxxxxxxxxxxyyyyyyyyyyyyyyyyyyyyyyyyyyyyyyxxxxxxxxxxxxxxxxxxxxxxxxxxxxxxxxxxxxxxxxxxxxxxxxxxxxxxxxxxxxxxxxxxxxxxxxxxxxxxxxxxxxxxxxxxxxxxxxxxxxxxxxxxxxxxxxxxxxxxxxxxxxxxxxxxxxxxxxxxxxxxxxxxxxxxxxxxxxxxxxxxxxxxxxxxxxxxxxxxxxxxxxxxxxxxxxxxxxxxxxxxxxxxxxxxxxxxxxxxxxxxxxxyyyyyyyyyyyyyyyyyyyyyyyyyyyyyyxxxxxxxxxxxxxxxxxxxxxxxxxxxxxxxxxxxxxxxxxxxxxxxxxxxxxxxxxxxxxxxxxxxxxxxxxxxxxxxxxxxxxxxxxxxxxxxxxxxxxxxxxxxxxxxxxxxxxxxxxxxxxxxxxxxxxxxxxxxxxxxxxxxxxxxxxxxxxxxxxxxxxxxxxxxyyyyyyyyyyyyyyyyyyyyyyyyyyyyyyxxxxxxxxxxxxxxxxxxxxxxxxxxxxxxxxxxxxxxxxxxxxxxxxxxxxxxxxxxxxxxxxxxxxxxxxxxxxxxxxxxxxxxxxxxxxxxxxxxxxxxxxxxxxxxxxxxxxxxxxxxxxxxxxxxxxxxxxxxxxxxxxxxxxxxxxxxyyyyyyyyyyyyyyyyyyyyyyyyyyyyyyxxxxxxxxxxxxxxxxxxxxxxxxxxxxxxxxxxxxxxxxxxxxxxxxxxxxxxxxxxxxxxxxxxxxxxxxxxxxxxxxxxxxxxxxxxxxxxxxxxxxxxxxxxxxxxxxxxxxxxxxxxxxxxxxxxxxxxxxxxxxxxxxxxxxxxxxxxxxxxxxxxxxxxxxxxxxxxxxxxxxxxxxxxxxxxxxxxxxxxxxxxxxxxxxxxxxxxxxxxxxxxxxxxxxxxxxxxxxxxxxxxxxxxxxxxxxxxxxxxxxxxxxxxxxxxxxxxxxxxxyyyyyyyyyyyyyyyyyyyyyyyyyyyyyyxxxxxxxxxxxxxxxxxxxxxxxxxxxxxxxxxxxxxxxxxxxxxxxxxxxxxxxxxxxxxxxxxxxxxxxxxxxxxxxxxxxxxxxxxxxxxxxxxxxxxxxxxxxxxxxxxxxxxxxxxxxxxxxxxxxxxxxxxxxxxxxxxxxxxxxxxxxxxxxxxxxxxxxxxxxxxxxxxxxxxxxxxxxxxxxxxxxxxxxxxxxxxxxxxxxxxxxxxxxxxxxxxxxxxxxxxxxxxxxxxxxxxxxxxxxxxxxxxxxxxxxxxxxxxxxxxxxxxxxxxxxxxxxxxxxxxxxxxxxxxxxxxxxxxxxxxxxxxxxxxxxxxxxxxxxxxxxxyyyyyyyyyyyyyyyyyyyyyyyyyyyyyyxxxxxxxxxxxxxxxxxxxxxxxxxxxxxxxxxxxxxxxxxxxxxxxxxxxxxxxxxxxxxxxxxxxxxxxxxxxxxxxxxxxxxxxxxxxxxxxxxxxxxxxxxxxxxxxxxxxxxxxxxxxxxxxxxxxxxxxxxxxxxxxxxxx', 'As': [0, 1, 4, 5, 7, 8, 9, 10, 15, 16, 19, 20, 25, 26, 27, 29, 32, 35, 36, 37, 38, 40, 42, 44, 46, 48, 52, 56, 57, 58, 61, 65, 66, 67, 71, 73, 74, 76, 78, 80, 81, 84, 86, 87, 88, 100, 101, 104, 106, 107, 109, 112, 114, 118, 119, 121, 123, 124, 127, 129, 131, 132, 133, 134, 136, 138, 139, 143, 144, 146, 147, 150, 153, 157, 159, 163, 165, 167, 168, 169, 170, 171, 172, 175, 179, 180, 181, 182, 183, 184, 185, 188, 189, 193, 194, 196, 201, 202, 203, 204, 206, 207, 211, 213, 215, 216, 217, 218, 219, 225, 227, 231, 232, 233, 235, 237, 238, 239, 243, 244, 245, 246, 250, 251, 252, 253, 254, 255, 256, 263, 265, 269, 270, 271, 274, 275, 276, 277, 279, 282, 284, 285, 287, 289, 291, 295, 297, 298, 299, 301, 303, 304, 306, 309, 313, 314, 316, 318, 328, 334, 335, 336, 338, 344, 345, 346, 347, 348, 349, 350, 351, 352, 355, 356, 359, 360, 364, 366, 367, 368, 369, 373, 374, 388, 392, 393, 394, 395, 396, 399, 400, 401, 405, 406, 410, 412, 416, 417, 419, 420, 422, 428, 429, 432, 433, 435, 438, 440, 441, 445, 446, 447, 450, 451, 452, 454, 458, 459, 460, 462, 464, 465, 466, 467, 468, 473, 474, 476, 477, 479, 480, 483, 485, 486, 487, 495, 497, 498, 499, 501, 503, 505, 507, 508, 509, 510, 513, 518, 521, 522, 525, 526, 527, 528, 529, 530, 532, 534, 537, 543, 544, 549, 552, 553, 556, 557, 561, 563, 564, 565, 568, 573, 574, 578, 579, 585, 590, 593, 594, 596, 598, 599, 602, 606, 607, 611, 612, 616, 618, 619, 631, 633, 635, 636, 640, 641, 642, 644, 647, 648, 649, 650, 651, 652, 654, 655, 656, 658, 661, 662, 666, 667, 668, 670, 671, 673, 675, 676, 679, 681, 685, 688, 693, 696, 697, 698, 699, 700, 703, 705, 706, 707, 711, 713, 714, 725, 726, 727, 728, 731, 735, 740, 741, 742, 743, 745, 752, 753, 754, 755, 760, 761, 762, 763, 765, 769, 770, 773, 774, 775, 776, 777, 778, 780, 781, 783, 784, 785, 786, 787, 788, 789, 793, 794, 796, 797, 799, 802, 803, 805, 807, 811, 812, 815, 818, 821, 822, 823, 824, 827, 830, 831, 832, 834, 836, 837, 839, 840, 842, 848, 849, 852, 855, 856, 857, 860, 862, 863, 864, 865, 866, 871, 874, 875, 876, 879, 882, 884, 891, 894, 903, 904, 905, 908, 910, 912, 914, 915, 918, 919, 921, 922, 923, 924, 926, 927, 930, 931, 932, 933, 935, 936, 937, 938, 939, 940, 942, 943, 945, 949, 950, 953, 954, 958, 959, 960, 963, 964, 965, 966, 968, 970, 971, 972, 973, 975, 977, 978, 979, 980, 985, 986, 987, 990, 992, 994, 996, 997, 999, 1000, 1003, 1004, 1005, 1007, 1008, 1009, 1011, 1013, 1014, 1016, 1019, 1021, 1022, 1024, 1025, 1028, 1034, 1039, 1041, 1043, 1045, 1046, 1047, 1049, 1050, 1051, 1052, 1053, 1055, 1060, 1061, 1062, 1064, 1065, 1066, 1068, 1069, 1072, 1076, 1077, 1079, 1081, 1082, 1083, 1084, 1085, 1087, 1089, 1092, 1093, 1095, 1097, 1099, 1101, 1102, 1105, 1108, 1109, 1113, 1115, 1118, 1119, 1121, 1122, 1124, 1125, 1126, 1127, 1128, 1129, 1130, 1132, 1133, 1134, 1135, 1136, 1137, 1138, 1140, 1145, 1149, 1150, 1151, 1152, 1153, 1154, 1159, 1162, 1163, 1167, 1169, 1170, 1174, 1175, 1176, 1179, 1181, 1182, 1186, 1187, 1188, 1191, 1195, 1200, 1201, 1203, 1207, 1209, 1211, 1214, 1219, 1220, 1227, 1228, 1230, 1234, 1235, 1236, 1237, 1239, 1240, 1241, 1242, 1244, 1245, 1247, 1251, 1252, 1257, 1260, 1261, 1264, 1266, 1267, 1269, 1271, 1272, 1277, 1278, 1281, 1282, 1284, 1285, 1287, 1290, 1294, 1297, 1298, 1299, 1300, 1302, 1303, 1306, 1307, 1313, 1315, 1316, 1317, 1318, 1321, 1322, 1324, 1325, 1326, 1328, 1329, 1331, 1332, 1333, 1336, 1342, 1344, 1345, 1346, 1349, 1350, 1353, 1354, 1355, 1359, 1361, 1362, 1365, 1367, 1368, 1370, 1375, 1376, 1378, 1380, 1381, 1383, 1384, 1385, 1390, 1393, 1394, 1397, 1399, 1402, 1406, 1408, 1409, 1410, 1411, 1414, 1415, 1416, 1417, 1418, 1419, 1420, 1421, 1425, 1426, 1427, 1428, 1430, 1432, 1435, 1436, 1438, 1439, 1442, 1445, 1446, 1448, 1450, 1452, 1453, 1454, 1455, 1456, 1457, 1458, 1459, 1461, 1465, 1466, 1467, 1469, 1470, 1471, 1472, 1474, 1475, 1477, 1479, 1482, 1483, 1484, 1488, 1489, 1490, 1492, 1495, 1496, 1499, 1500, 1502, 1504, 1507, 1508, 1509, 1510, 1511, 1513, 1517, 1518, 1520, 1521, 1522, 1523, 1525, 1526, 1528, 1529, 1531, 1533, 1534, 1540, 1541, 1542, 1544, 1547, 1548, 1549, 1552, 1553, 1557, 1558, 1561, 1562, 1563, 1565, 1570, 1572, 1575, 1578, 1579, 1581, 1582, 1583, 1585, 1586, 1587, 1588, 1589, 1590, 1598, 1599, 1604, 1609, 1610, 1612, 1616, 1618, 1622, 1626, 1629, 1630, 1637, 1643, 1645, 1648, 1649, 1653, 1654, 1656, 1657, 1659, 1660, 1662, 1663, 1664, 1667, 1668, 1672, 1673, 1676, 1678, 1679, 1680, 1681, 1688, 1689, 1691, 1694, 1695, 1696, 1701, 1702, 1704, 1709, 1710, 1712, 1713, 1714, 1715, 1716, 1719, 1720, 1723, 1725, 1733, 1734, 1735, 1736, 1737, 1738, 1739, 1740, 1741, 1743, 1744, 1748, 1749, 1752, 1753, 1754, 1755, 1756, 1757, 1758, 1759, 1760, 1762, 1766, 1767, 1771, 1772, 1774, 1775, 1777, 1778, 1780, 1781, 1782, 1783, 1784, 1786, 1787, 1788, 1789, 1793, 1797, 1806, 1807, 1810, 1814, 1816, 1818, 1819, 1820, 1822, 1826, 1828, 1829, 1834, 1835, 1836, 1839, 1840, 1842, 1843, 1844, 1848, 1852, 1853, 1854, 1857, 1858, 1860, 1861, 1865, 1866, 1869, 1871, 1872, 1873, 1874, 1877, 1878, 1879, 1883, 1884, 1886, 1887, 1888, 1890, 1893, 1894, 1895, 1904, 1909, 1910, 1914, 1915, 1916, 1919, 1920, 1921, 1922, 1923, 1926, 1927, 1928, 1930, 1934, 1935, 1938, 1939, 1940, 1941, 1944, 1948, 1949, 1951, 1954, 1955, 1956, 1958, 1959, 1960, 1961, 1962, 1963, 1964, 1965, 1966, 1967, 1970, 1971, 1973, 1975, 1979, 1983, 1984, 1985, 1986, 1988, 1990, 1991, 1995, 1996, 1998, 2001, 2003, 2006, 2009, 2013, 2014, 2015, 2017, 2018, 2021, 2024, 2025, 2027, 2028, 2030, 2034, 2037, 2040, 2041, 2043, 2045, 2048, 2049, 2050, 2051, 2052, 2054, 2057, 2059, 2060, 2061, 2063, 2065, 2071, 2072, 2076, 2078, 2080, 2081, 2082, 2086, 2087, 2088, 2090, 2091, 2093, 2094, 2095, 2097, 2098, 2099, 2100, 2101, 2105, 2106, 2113, 2114, 2115, 2118, 2119, 2120, 2122, 2123, 2125, 2126, 2128, 2130, 2131, 2132, 2136, 2137, 2139, 2140, 2141, 2143, 2144, 2145, 2146, 2147, 2151, 2152, 2156, 2159, 2162, 2165, 2166, 2169, 2172, 2175, 2176, 2177, 2178, 2180, 2183, 2186, 2188, 2189, 2191, 2192, 2194, 2195, 2199, 2201, 2209, 2210, 2211, 2213, 2214, 2215, 2216, 2217, 2219, 2221, 2223, 2224, 2225, 2229, 2230, 2231, 2232, 2234, 2236, 2237, 2238, 2240, 2242, 2243, 2244, 2245, 2246, 2247, 2248, 2250, 2252, 2254, 2258, 2259, 2261, 2262, 2263, 2265, 2266, 2268, 2271, 2272, 2273, 2277, 2282, 2284, 2285, 2290, 2291, 2292, 2293, 2294, 2297, 2300, 2305, 2306, 2307, 2310, 2313, 2316, 2317, 2320, 2324, 2326, 2328, 2331, 2333, 2336, 2341, 2342, 2343, 2344, 2345, 2347, 2348, 2354, 2355, 2357, 2358, 2359, 2360, 2364, 2365, 2366, 2368, 2371, 2372, 2374, 2375, 2376, 2377, 2379, 2381, 2385, 2386, 2389, 2390, 2392, 2394, 2395, 2397, 2399, 2400, 2401, 2404, 2409, 2413, 2415, 2418, 2419, 2422, 2425, 2427, 2428, 2430, 2431, 2437, 2440, 2441, 2442, 2443, 2445, 2446, 2452, 2454, 2455, 2457, 2459, 2461, 2464, 2465, 2466, 2468, 2470, 2471, 2472, 2474, 2475, 2476, 2477, 2479, 2481, 2482, 2483, 2484, 2487, 2489, 2491, 2492, 2493, 2494, 2495, 2499, 2502, 2503, 2505, 2506, 2507, 2511, 2514, 2516, 2518, 2521, 2522, 2523, 2526, 2527, 2530, 2532, 2533, 2534, 2535, 2536, 2538, 2539, 2541, 2543, 2551, 2552, 2553, 2555, 2557, 2559, 2561, 2562, 2563, 2564, 2566, 2568, 2570, 2571, 2573, 2574, 2578, 2579, 2580, 2583, 2585, 2587, 2592, 2593, 2596, 2597, 2599, 2600, 2602, 2603, 2604, 2605, 2606, 2607, 2611, 2612, 2614, 2615, 2618, 2619, 2620, 2621, 2624, 2626, 2630, 2634, 2637, 2638, 2640, 2644, 2652, 2654, 2655, 2658, 2659, 2662, 2663, 2665, 2666, 2669, 2671, 2672, 2673, 2676, 2678, 2679, 2680, 2681, 2682, 2684, 2688, 2689, 2690, 2692, 2693, 2695, 2696, 2699, 2701, 2702, 2703, 2707, 2709, 2711, 2712, 2714, 2715, 2717, 2718, 2719, 2722, 2724, 2725, 2727, 2729, 2732, 2733, 2734, 2735, 2738, 2739, 2741, 2743, 2744, 2745, 2747, 2748, 2749, 2755, 2757, 2758, 2759, 2760, 2761, 2762, 2763, 2769, 2771, 2772, 2774, 2775, 2776, 2780, 2781, 2782, 2786, 2789, 2793, 2794, 2796, 2799, 2800, 2801, 2802, 2803, 2807, 2808, 2810, 2811, 2814, 2815, 2816, 2818, 2819, 2820, 2822, 2823, 2824, 2827, 2828, 2829, 2836, 2837, 2838, 2839, 2841, 2843, 2845, 2846, 2847, 2848, 2849, 2850, 2855, 2856, 2860, 2861, 2863, 2864, 2865, 2866, 2867, 2868, 2872, 2873, 2874, 2875, 2877, 2879, 2880, 2883, 2885, 2886, 2887, 2890, 2892, 2893, 2894, 2898, 2899, 2900, 2902, 2904, 2905, 2906, 2907, 2908, 2910, 2912, 2913, 2914, 2915, 2918, 2919, 2921, 2922, 2923, 2924, 2925, 2928, 2930, 2931, 2936, 2937, 2940, 2945, 2951, 2958, 2960, 2965, 2968, 2970, 2971, 2972, 2975, 2976, 2978, 2979, 2982, 2984, 2986, 2987, 2988, 2991, 2992, 2994, 2995, 2996, 2997, 3000, 3002, 3003, 3008, 3009, 3010, 3011, 3012, 3013, 3015, 3016, 3018, 3019, 3020, 3021, 3022, 3023, 3026, 3027, 3033, 3034, 3036, 3038, 3039, 3046, 3047, 3048, 3050, 3053, 3055, 3056, 3060, 3061, 3062, 3064, 3066, 3068, 3069, 3073, 3077, 3078, 3079, 3081, 3082, 3083, 3084, 3086, 3090, 3091, 3093, 3096, 3097, 3098, 3099, 3100, 3103, 3109, 3111, 3116, 3117, 3121, 3123, 3125, 3127, 3129, 3130, 3132, 3134, 3135, 3137, 3139, 3140, 3146, 3147, 3153, 3154, 3156, 3160, 3161, 3163, 3164, 3166, 3167, 3169, 3171, 3173, 3175, 3178, 3179, 3181, 3185, 3194, 3195, 3197, 3201, 3202, 3204, 3205, 3206, 3208, 3212, 3213, 3220, 3221, 3223, 3225, 3226, 3227, 3228, 3230, 3232, 3233, 3234, 3238, 3240, 3241, 3242, 3243, 3245, 3246, 3247, 3248, 3249, 3251, 3252, 3254, 3257, 3261, 3262, 3270, 3272, 3273, 3275, 3277, 3278, 3280, 3281, 3287, 3290, 3294, 3295, 3297, 3298, 3302, 3304, 3305, 3307, 3309, 3310, 3311, 3313, 3314, 3316, 3317, 3318, 3322, 3325, 3326, 3327, 3329, 3331, 3336, 3337, 3339, 3340, 3342, 3343, 3344, 3346, 3347, 3350, 3351, 3353, 3354, 3357, 3358, 3359, 3360, 3364, 3365, 3367, 3369, 3371, 3373, 3374, 3376, 3379, 3380, 3384, 3385, 3386, 3388, 3392, 3394, 3400, 3401, 3404, 3407, 3409, 3412, 3414, 3416, 3417, 3418, 3420, 3421, 3422, 3426, 3428, 3429, 3430, 3431, 3433, 3434, 3437, 3440, 3443, 3444, 3446, 3448, 3451, 3452, 3453, 3454, 3456, 3460, 3463, 3465, 3468, 3469, 3472, 3476, 3477, 3479, 3482, 3483, 3485, 3493, 3494, 3497, 3498, 3499, 3501, 3502, 3503, 3508, 3509, 3510, 3514, 3517, 3518, 3519, 3520, 3521, 3523, 3525, 3526, 3528, 3529, 3530, 3531, 3537, 3538, 3540, 3541, 3542, 3544, 3545, 3546, 3547, 3550, 3552, 3553, 3558, 3560, 3561, 3563, 3564, 3566, 3567, 3569, 3570, 3571, 3573, 3575, 3576, 3577, 3579, 3580, 3581, 3582, 3584, 3585, 3586, 3588, 3591, 3593, 3594, 3595, 3596, 3599, 3600, 3603, 3605, 3606, 3607, 3608, 3609, 3612, 3613, 3616, 3617, 3618, 3620, 3621, 3622, 3624, 3633, 3634, 3636, 3637, 3639, 3640, 3642, 3643, 3646, 3647, 3648, 3649, 3651, 3654, 3657, 3658, 3659, 3660, 3661, 3663, 3666, 3667, 3671, 3675, 3676, 3678, 3679, 3680, 3681, 3683, 3686, 3687, 3692, 3693, 3696, 3697, 3698, 3699, 3701, 3702, 3703, 3704, 3708, 3710, 3711, 3712, 3714, 3716, 3717, 3718, 3719, 3722, 3725, 3726, 3728, 3729, 3730, 3735, 3736, 3737, 3740, 3744, 3746, 3751, 3756, 3761, 3765, 3766, 3768, 3770, 3776, 3779, 3780, 3781, 3784, 3785, 3789, 3790, 3795, 3796, 3799, 3800, 3801, 3804, 3806, 3808, 3809, 3811, 3812, 3813, 3814, 3818, 3820, 3822, 3825, 3827, 3828, 3829, 3830, 3831, 3832, 3838, 3840, 3841, 3843, 3846, 3849, 3855, 3861, 3862, 3865, 3866, 3869, 3870, 3871, 3873, 3874, 3875, 3876, 3877, 3878, 3879, 3880, 3881, 3882, 3883, 3884, 3888, 3889, 3892, 3893, 3897, 3898, 3899, 3900, 3902, 3903, 3905, 3906, 3907, 3908, 3909, 3911, 3912, 3918, 3923, 3927, 3928, 3932, 3935, 3938, 3941, 3943, 3946, 3956, 3960, 3962, 3964, 3966, 3972, 3975, 3976, 3977, 3978, 3980, 3982, 3983, 3984, 3985, 3988, 3989, 3992, 3993, 3994, 3995, 3998, 3999, 4001, 4002, 4006, 4008, 4009, 4010, 4011, 4016, 4019, 4023, 4025, 4028, 4029, 4030, 4032, 4035, 4036, 4037, 4038, 4039, 4040, 4041, 4043, 4045, 4047, 4050, 4053, 4054, 4057, 4058, 4059, 4060, 4061, 4062, 4064, 4065, 4066, 4069, 4070, 4072, 4074, 4077, 4078, 4080, 4082, 4084, 4085, 4087, 4088, 4089, 4090, 4091, 4092, 4093, 4094, 4096, 4097, 4099, 4101, 4102, 4104, 4105, 4112, 4114, 4116, 4118, 4119, 4121, 4123, 4130, 4132, 4134, 4135, 4136, 4137, 4138, 4141, 4143, 4147, 4148, 4149, 4151, 4154, 4155, 4158, 4159, 4160, 4164, 4166, 4167, 4168, 4171, 4174, 4180, 4181, 4184, 4185, 4186, 4188, 4191, 4192, 4193, 4195, 4196, 4197, 4198, 4200, 4205, 4206, 4208, 4212, 4215, 4216, 4218, 4222, 4223, 4224, 4226, 4228, 4229, 4230, 4231, 4232, 4233, 4234, 4236, 4237, 4242, 4243, 4244, 4245, 4246, 4247, 4249, 4250, 4260, 4261, 4266, 4269, 4273, 4275, 4276, 4283, 4285, 4290, 4292, 4293, 4296, 4297, 4299, 4303, 4305, 4307, 4308, 4309, 4310, 4313, 4315, 4317, 4318, 4319, 4320, 4322, 4323, 4326, 4329, 4330, 4332, 4334, 4336], 'ribosome_starts': [88, 271, 482, 772, 1020, 1279, 1645, 1868, 2088, 2275, 2575, 2846, 3101, 3302, 3486, 3795, 4161]}\n"
     ]
    }
   ],
   "source": [
    "data_dict = {}\n",
    "\n",
    "# To simulate modified reads, we will use binary strings with 1s representing deaminated adenines and 0s representing non-deaminated adenines\n",
    "for i in range(0,1000):\n",
    "    # Generate a random length between 500 and 5000\n",
    "    length = np.random.randint(500, 5000)\n",
    "    # A's will make up ~25% of the sequence\n",
    "    num_As = int(length * .5)\n",
    "     \n",
    "    # print(length, num_As)\n",
    "    # Generate random locations for all A's\n",
    "    # As = np.random.randint(0, length, num_As)\n",
    "    As = np.random.choice(np.arange(0, length), num_As, replace=False)\n",
    "    \n",
    "    # ribosomes will occupy 21-30 nt of the sequence, so we need random stretches of 21-30 nt without mods\n",
    "    # mods can only occur on A's\n",
    "    # Generate random locations for ribosomes, ribosomes will be 21-30 nt long and spaced ~150 nt apart\n",
    "    ribosome_starts = []\n",
    "    ribosome_ends = []\n",
    "    j = 0\n",
    "    while j < length - 30:\n",
    "        ribosome_spacing = np.random.randint(150, 200)\n",
    "        # ribosome_length = np.random.randint(21, 30)\n",
    "        start = np.random.randint(j, j+ribosome_spacing)\n",
    "        if start < length - 30:\n",
    "            ribosome_starts.append(start)\n",
    "        # ribosome_ends.append(start + ribosome_length)\n",
    "        j = start + ribosome_spacing\n",
    "    # Generate the sequence\n",
    "    seq = '0'*length\n",
    "    # seq2 = 'x'*length # this will denote the ribosome locations\n",
    "    seq2 = ''\n",
    "\n",
    "    x = 0\n",
    "    while x < length:   \n",
    "        ribosome_length = 30\n",
    "        if x in ribosome_starts:\n",
    "            # seq2 = seq2[:x] + 'y'*ribosome_length + seq2[x+ribosome_length:]\n",
    "            seq2 += 'y'*ribosome_length\n",
    "            x += ribosome_length\n",
    "        else:\n",
    "            seq2 += 'x'\n",
    "            x += 1\n",
    "    # modify 3% of As\n",
    "    for k in As:\n",
    "        if seq2[k] != 'y':\n",
    "            c = random.randint(0, 100)\n",
    "            if c < 3:\n",
    "                seq = seq[:k] + '1' + seq[k+1:] \n",
    "       \n",
    "    assert len(seq) == len(seq2), 'lengths are not equal' \n",
    "\n",
    "\n",
    "    read_id = 'read_'+str(i)\n",
    "    As = list(As)\n",
    "    sorted_As = As.sort()\n",
    "    ribosome_starts = list(ribosome_starts)\n",
    "    sorted_ribosome_starts = ribosome_starts.sort()\n",
    "    data_dict[read_id] = {'seq': seq, 'ribosome_annot': seq2, 'As': As, 'ribosome_starts': ribosome_starts}\n",
    "    \n",
    "print(data_dict['read_0'])"
   ]
  },
  {
   "cell_type": "code",
   "execution_count": 19,
   "metadata": {},
   "outputs": [],
   "source": [
    "f = open('/data16/liam/testing/HMM_test_data_ACmock.txt', 'w')\n",
    "for read in data_dict:\n",
    "    f.write(read + '\\n' + data_dict[read]['seq'] + '\\n' + str(data_dict[read]['ribosome_annot']) + '\\n' + str(data_dict[read]['As'])[1:-1] + '\\n' + str(data_dict[read]['ribosome_starts'])[1:-1] + '\\n')"
   ]
  },
  {
   "cell_type": "markdown",
   "metadata": {},
   "source": []
  }
 ],
 "metadata": {
  "kernelspec": {
   "display_name": "Python 3",
   "language": "python",
   "name": "python3"
  },
  "language_info": {
   "codemirror_mode": {
    "name": "ipython",
    "version": 3
   },
   "file_extension": ".py",
   "mimetype": "text/x-python",
   "name": "python",
   "nbconvert_exporter": "python",
   "pygments_lexer": "ipython3",
   "version": "3.8.10"
  }
 },
 "nbformat": 4,
 "nbformat_minor": 2
}
